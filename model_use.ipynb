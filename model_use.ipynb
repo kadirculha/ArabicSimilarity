{
 "cells": [
  {
   "cell_type": "code",
   "execution_count": 1,
   "metadata": {},
   "outputs": [
    {
     "name": "stderr",
     "output_type": "stream",
     "text": [
      "d:\\work\\AiThinks\\ArabicSimilarity\\.venv\\lib\\site-packages\\tqdm\\auto.py:21: TqdmWarning: IProgress not found. Please update jupyter and ipywidgets. See https://ipywidgets.readthedocs.io/en/stable/user_install.html\n",
      "  from .autonotebook import tqdm as notebook_tqdm\n"
     ]
    }
   ],
   "source": [
    "from config import Configurator\n",
    "from arabic_transformer import SentenceTransformer\n",
    "import pandas as pd"
   ]
  },
  {
   "cell_type": "code",
   "execution_count": 16,
   "metadata": {},
   "outputs": [
    {
     "data": {
      "text/html": [
       "<div>\n",
       "<style scoped>\n",
       "    .dataframe tbody tr th:only-of-type {\n",
       "        vertical-align: middle;\n",
       "    }\n",
       "\n",
       "    .dataframe tbody tr th {\n",
       "        vertical-align: top;\n",
       "    }\n",
       "\n",
       "    .dataframe thead th {\n",
       "        text-align: right;\n",
       "    }\n",
       "</style>\n",
       "<table border=\"1\" class=\"dataframe\">\n",
       "  <thead>\n",
       "    <tr style=\"text-align: right;\">\n",
       "      <th></th>\n",
       "      <th>arabic_translation</th>\n",
       "      <th>arabic_translation1</th>\n",
       "      <th>translation_meaning</th>\n",
       "      <th>translation_meaning1</th>\n",
       "    </tr>\n",
       "  </thead>\n",
       "  <tbody>\n",
       "    <tr>\n",
       "      <th>0</th>\n",
       "      <td>القراءة في المنزل ممتعة ومطمئنة</td>\n",
       "      <td>الاستمتاع بالكتب في المنزل ممتع ومطلوب</td>\n",
       "      <td>Evde okuma keyifli ve huzur vericidir.</td>\n",
       "      <td>Evde kitapların tadını çıkarmak keyifli ve gereklidir.</td>\n",
       "    </tr>\n",
       "    <tr>\n",
       "      <th>1</th>\n",
       "      <td>طهي الطعام ممتع ولذيذ</td>\n",
       "      <td>طهي الطعام ممتع وذواق</td>\n",
       "      <td>Yemek pişirmek eğlenceli ve lezzetlidir.</td>\n",
       "      <td>Yemek yapmak eğlenceli ve lezzetlidir.</td>\n",
       "    </tr>\n",
       "    <tr>\n",
       "      <th>2</th>\n",
       "      <td>الاستماع إلى الموسيقى يريح روحي</td>\n",
       "      <td>الاستماع إلى الموسيقى يهدئ روحي</td>\n",
       "      <td>Müzik dinlemek ruhumu dinlendirir.</td>\n",
       "      <td>Müzik dinlemek ruhumu sakinleştirir.</td>\n",
       "    </tr>\n",
       "    <tr>\n",
       "      <th>3</th>\n",
       "      <td>الرسم مريح ومبدع</td>\n",
       "      <td>الرسم مسلي ومبدع</td>\n",
       "      <td>Resim yapmak huzur verici ve yaratıcıdır</td>\n",
       "      <td>Resim yapmak eğlenceli ve yaratıcıdır</td>\n",
       "    </tr>\n",
       "    <tr>\n",
       "      <th>4</th>\n",
       "      <td>قضاء الوقت في الحديقة مطمئن</td>\n",
       "      <td>الاستمتاع بالوقت في الحديقة مطمئن وممتع</td>\n",
       "      <td>Bahçede zaman geçirmek huzur verici</td>\n",
       "      <td>Bahçede zamanı keyifli ve huzur dolu bir şekilde geçirmek</td>\n",
       "    </tr>\n",
       "    <tr>\n",
       "      <th>5</th>\n",
       "      <td>ممارسة اليوغا تمنح الطاقة وتجلب الهدوء</td>\n",
       "      <td>ممارسة اليوغا تعزز الحيوية وتحضر الهدوء</td>\n",
       "      <td>Yoga yapmak enerji verir ve huzur getirir</td>\n",
       "      <td>Yoga yapmak canlılığı artırır ve huzur getirir</td>\n",
       "    </tr>\n",
       "    <tr>\n",
       "      <th>6</th>\n",
       "      <td>الاسترخاء على شاطئ البحر مطمئن</td>\n",
       "      <td>الاسترخاء على شاطئ البحر يمنح السكينة</td>\n",
       "      <td>Deniz kenarında rahatlamak huzur verir</td>\n",
       "      <td>Deniz kıyısında dinlenmek sakinlik verir</td>\n",
       "    </tr>\n",
       "    <tr>\n",
       "      <th>7</th>\n",
       "      <td>اكتشاف ثقافات مختلفة مثير وتعليمي</td>\n",
       "      <td>استكشاف ثقافات متنوعة مليء بالإثارة والتعليم</td>\n",
       "      <td>Farklı kültürleri keşfetmek heyecan verici ve öğreticidir.</td>\n",
       "      <td>Çeşitli kültürleri keşfetmek heyecan verici ve eğitici bir deneyimdir.</td>\n",
       "    </tr>\n",
       "    <tr>\n",
       "      <th>8</th>\n",
       "      <td>المشي في الجبال يمنح الطاقة ويجلب الهدوء</td>\n",
       "      <td>المشي في الجبال يعزز الحيوية ويحضر الهدوء</td>\n",
       "      <td>Dağlarda yürüyüş yapmak enerji verir ve huzur getirir.</td>\n",
       "      <td>Dağlarda yürüyüş yapmak canlılığı artırır ve huzur getirir.</td>\n",
       "    </tr>\n",
       "    <tr>\n",
       "      <th>9</th>\n",
       "      <td>تجربة نكهات مختلفة ممتعة ولذيذة</td>\n",
       "      <td>تجربة نكهات متنوعة مليء بالمرح والذواقة</td>\n",
       "      <td>Farklı tatları denemek eğlenceli ve lezzetlidir.</td>\n",
       "      <td>Çeşitli tatları denemek eğlenceli ve lezzetlidir.</td>\n",
       "    </tr>\n",
       "    <tr>\n",
       "      <th>10</th>\n",
       "      <td>المشي يسمح لك بالحصول على هواء نقي</td>\n",
       "      <td>المشي يمنحك فرصة للتنفس بالهواء النقي</td>\n",
       "      <td>Yürüyüş yapmak taze hava almanızı sağlar</td>\n",
       "      <td>Yürüyüş yapmak taze hava almanızı sağlayan bir deneyimdir.</td>\n",
       "    </tr>\n",
       "    <tr>\n",
       "      <th>11</th>\n",
       "      <td>في الربيع تزهر الزهور وتستيقظ الطبيعة</td>\n",
       "      <td>في فصل الربيع تفتح الزهور وتعود الطبيعة إلى الحياة</td>\n",
       "      <td>Baharda çiçekler açar ve doğa uyanır</td>\n",
       "      <td>Baharda çiçekler açar ve doğa uyanır, bu da manevi bir huzur kaynağıdır.</td>\n",
       "    </tr>\n",
       "    <tr>\n",
       "      <th>12</th>\n",
       "      <td>قضاء الوقت على الشاطئ في أيام مشمسة ممتع</td>\n",
       "      <td>الاستمتاع بأوقات الشاطئ في أيام مشمسة يعتبر مسليًا</td>\n",
       "      <td>Güneşli günlerde plajda vakit geçirmek eğlencelidir</td>\n",
       "      <td>Güneşli günlerde plajda vakit geçirmek keyiflidir.</td>\n",
       "    </tr>\n",
       "    <tr>\n",
       "      <th>13</th>\n",
       "      <td>ركوب الدراجة منعش وصحي</td>\n",
       "      <td>ركوب الدراجة ممتع ومفيد للصحة</td>\n",
       "      <td>Bisiklet sürmek serinletici ve sağlıklıdır</td>\n",
       "      <td>Bisiklet sürmek serinletici ve sağlıklı bir aktivitedir.</td>\n",
       "    </tr>\n",
       "    <tr>\n",
       "      <th>14</th>\n",
       "      <td>النظر إلى السماء له تأثير مهدئ</td>\n",
       "      <td>التحديق في السماء يؤثر بشكل مهدئ</td>\n",
       "      <td>Gökyüzüne bakmak sakinleştirici bir etkiye sahiptir</td>\n",
       "      <td>Gökyüzüne bakmak sakinleştirici bir etkiye sahiptir ve iç huzur sağlar.</td>\n",
       "    </tr>\n",
       "    <tr>\n",
       "      <th>15</th>\n",
       "      <td>المشي على الشاطئ يمنح الهدوء ويزيل الضغط</td>\n",
       "      <td>التجول على الشاطئ يهدئ الأعصاب ويزيل التوتر</td>\n",
       "      <td>Sahilde yürümek sakinlik getirir ve stresi azaltır.</td>\n",
       "      <td>Kıyıda gezinmek sinirleri yatıştırır ve gerginliği giderir.</td>\n",
       "    </tr>\n",
       "    <tr>\n",
       "      <th>16</th>\n",
       "      <td>التأمل في مكان هادئ مريح</td>\n",
       "      <td>التأمل في مكان هادئ يساعد على الاسترخاء</td>\n",
       "      <td>Sessiz bir yerde meditasyon yapmak rahatlatıcıdır</td>\n",
       "      <td>Sessiz bir yerde meditasyon yapmak rahatlatıcıdır ve iç huzur sağlar.</td>\n",
       "    </tr>\n",
       "    <tr>\n",
       "      <th>17</th>\n",
       "      <td>التخييم في الطبيعة مليء بالمغامرة ومسلي</td>\n",
       "      <td>التخييم في الطبيعة يحمل الكثير من المغامرات والمرح</td>\n",
       "      <td>Doğada kamp yapmak macera dolu ve eğlencelidir</td>\n",
       "      <td>Doğada kamp yapmak macera dolu ve eğlenceli bir deneyimdir.</td>\n",
       "    </tr>\n",
       "    <tr>\n",
       "      <th>18</th>\n",
       "      <td>تمتع بيومك مع مشروب دافئ</td>\n",
       "      <td>استمتع بيومك مع مشروب ساخن</td>\n",
       "      <td>Sıcak bir içecekle günün tadını çıkar.</td>\n",
       "      <td>Sıcak bir içecekle günün keyfini çıkar.</td>\n",
       "    </tr>\n",
       "    <tr>\n",
       "      <th>19</th>\n",
       "      <td>اغمض عينيك واسترخي بسلام</td>\n",
       "      <td>أغلق عينيك واسترح بسكينة</td>\n",
       "      <td>Gözlerini kapat ve huzurla dinlen.</td>\n",
       "      <td>Gözlerini kapat ve sakinleş.</td>\n",
       "    </tr>\n",
       "    <tr>\n",
       "      <th>20</th>\n",
       "      <td>إطلالة جميلة توفر سكينة روحية</td>\n",
       "      <td>إطلالة رائعة تمنح الهدوء الروحي</td>\n",
       "      <td>Güzel manzara iç huzur sağlar.</td>\n",
       "      <td>Harika bir manzara iç huzur sunar.</td>\n",
       "    </tr>\n",
       "    <tr>\n",
       "      <th>21</th>\n",
       "      <td>قضاء الوقت مع من تحب قيمة عظيمة</td>\n",
       "      <td>الوقت الذي تقضيه مع من تحب يكون ثمينًا</td>\n",
       "      <td>Sevdiklerinle zaman geçirmek büyük bir değere sahiptir.</td>\n",
       "      <td>Sevdiklerinle geçirdiğin zaman çok değerlidir.</td>\n",
       "    </tr>\n",
       "    <tr>\n",
       "      <th>22</th>\n",
       "      <td>مشاهدة النجوم تجربة ساحرة</td>\n",
       "      <td>رصد النجوم تجربة ساحرة</td>\n",
       "      <td>Yıldızları izlemek büyülü bir deneyimdir.</td>\n",
       "      <td>Yıldızları gözlemlemek büyülü bir deneyimdir.</td>\n",
       "    </tr>\n",
       "    <tr>\n",
       "      <th>23</th>\n",
       "      <td>لقاء الأصدقاء القدامى يسعد القلب</td>\n",
       "      <td>لقاء الأصدقاء القدامى يشعر بالسرور</td>\n",
       "      <td>Eski dostlarla buluşmak sevinç vericidir</td>\n",
       "      <td>Eski dostlarla buluşmak sevinç vericidir.</td>\n",
       "    </tr>\n",
       "    <tr>\n",
       "      <th>24</th>\n",
       "      <td>تناول وجبة خفيفة يمنح الطاقة</td>\n",
       "      <td>تناول وجبة خفيفة يزود بالحيوية</td>\n",
       "      <td>Hafif bir öğün yemek enerji verir.</td>\n",
       "      <td>Hafif bir öğün yemek canlılık sağlar.</td>\n",
       "    </tr>\n",
       "    <tr>\n",
       "      <th>25</th>\n",
       "      <td>شرب شوربات دافئة في الشتاء رائع</td>\n",
       "      <td>شرب الحساء الساخن في الشتاء رائع</td>\n",
       "      <td>Kışın sıcak çorbalar içmek harika.</td>\n",
       "      <td>Kışın sıcak çorba içmek harika.</td>\n",
       "    </tr>\n",
       "    <tr>\n",
       "      <th>26</th>\n",
       "      <td>مشاهدة الأفلام مع العائلة ممتع</td>\n",
       "      <td>مشاهدة الأفلام مع الأسرة يُسعد</td>\n",
       "      <td>Aileyle film izlemek keyiflidir.</td>\n",
       "      <td>Aileyle film izlemek mutluluk verir.</td>\n",
       "    </tr>\n",
       "    <tr>\n",
       "      <th>27</th>\n",
       "      <td>الاحتفال بعيد الميلاد يسعد</td>\n",
       "      <td>الاحتفال بعيد الميلاد يعزز السعادة</td>\n",
       "      <td>Noel kutlamak mutluluk getirir.</td>\n",
       "      <td>Noel kutlamak mutluluğu artırır.</td>\n",
       "    </tr>\n",
       "    <tr>\n",
       "      <th>28</th>\n",
       "      <td>الحيوانات الأليفة تجلب الحب والفرح</td>\n",
       "      <td>الحيوانات الأليفة تجلب الحب والسرور</td>\n",
       "      <td>Evcil hayvanlar sevgi ve neşe getirir</td>\n",
       "      <td>Evcil hayvanlar sevgi ve neşe getirir.</td>\n",
       "    </tr>\n",
       "    <tr>\n",
       "      <th>29</th>\n",
       "      <td>المشي في الطبيعة ينعش الروح</td>\n",
       "      <td>التجول في الطبيعة يحيي الروح</td>\n",
       "      <td>Doğa yürüyüşleri ruhu canlandırır</td>\n",
       "      <td>Doğa yürüyüşleri ruhu canlandırır.</td>\n",
       "    </tr>\n",
       "    <tr>\n",
       "      <th>30</th>\n",
       "      <td>عزف الجيتار هو هواية ممتعة</td>\n",
       "      <td>العزف على الجيتار هو هواية مسلية</td>\n",
       "      <td>Gitar çalmak eğlenceli bir hobidir.</td>\n",
       "      <td>Gitar çalmak zevkli bir uğraşıdır.</td>\n",
       "    </tr>\n",
       "    <tr>\n",
       "      <th>31</th>\n",
       "      <td>استكشاف الطبيعة على الدراجة تجربة رائعة</td>\n",
       "      <td>استكشاف الطبيعة بركوب الدراجة تجربة رائعة</td>\n",
       "      <td>Doğayı bisikletle keşfetmek harika bir deneyim</td>\n",
       "      <td>Doğayı bisikletle keşfetmek harika bir deneyim.</td>\n",
       "    </tr>\n",
       "    <tr>\n",
       "      <th>32</th>\n",
       "      <td>تناول الآيس كريم منعش ولذيذ</td>\n",
       "      <td>تناول الآيس كريم منعش ولذيذ</td>\n",
       "      <td>Dondurma yemek ferahlatıcı ve lezzetlidir</td>\n",
       "      <td>Dondurma yemek ferahlatıcı ve lezzetlidir</td>\n",
       "    </tr>\n",
       "    <tr>\n",
       "      <th>33</th>\n",
       "      <td>في الأيام الممطرة، ابق في المنزل واقرأ كتابًا</td>\n",
       "      <td>في الأيام الممطرة، قراءة كتاب في المنزل تمرّن ممتع</td>\n",
       "      <td>Yağmurlu günlerde evde kalın ve kitap okuyun.</td>\n",
       "      <td>Yağmurlu günlerde evde kitap okumak eğlenceli bir egzersizdir.</td>\n",
       "    </tr>\n",
       "    <tr>\n",
       "      <th>34</th>\n",
       "      <td>الاستلقاء على الشاطئ في يوم مشمس يمنح الهدوء</td>\n",
       "      <td>الاستلقاء على الشاطئ في يوم مشمس يعزز السكينة</td>\n",
       "      <td>Güneşli bir günde sahilde uzanmak huzur verir</td>\n",
       "      <td>Güneşli bir günde sahilde uzanmak huzuru teşvik eder.</td>\n",
       "    </tr>\n",
       "    <tr>\n",
       "      <th>35</th>\n",
       "      <td>النظر إلى لوحة جميلة تجربة عاطفية</td>\n",
       "      <td>التحديق في لوحة جميلة تجربة مؤثرة</td>\n",
       "      <td>Güzel bir tabloya bakmak duygusal bir deneyimdir.</td>\n",
       "      <td>Güzel bir tabloya bakmak duygulandırıcı bir deneyimdir.</td>\n",
       "    </tr>\n",
       "    <tr>\n",
       "      <th>36</th>\n",
       "      <td>تناول الحلوى يجلب السعادة</td>\n",
       "      <td>تناول الحلوى يعزز البهجة</td>\n",
       "      <td>Tatlı yemek mutluluk getirir</td>\n",
       "      <td>Tatlı yemek mutluluğu arttırır.</td>\n",
       "    </tr>\n",
       "    <tr>\n",
       "      <th>37</th>\n",
       "      <td>التخييم في الطبيعة مليء بالمغامرة ومسلي</td>\n",
       "      <td>التخييم في الطبيعة يحمل الكثير من المغامرات والمرح</td>\n",
       "      <td>Doğada kamp yapmak macera dolu ve eğlencelidir</td>\n",
       "      <td>Doğada kamp yapmak macera dolu ve eğlenceli bir deneyimdir.</td>\n",
       "    </tr>\n",
       "    <tr>\n",
       "      <th>38</th>\n",
       "      <td>الدردشة مع صديق يمكن أن تكون ممتعة</td>\n",
       "      <td>الحديث مع صديق يجلب المتعة</td>\n",
       "      <td>Bir arkadaşınızla sohbet etmek eğlenceli olabilir</td>\n",
       "      <td>Bir arkadaşla konuşmak eğlence getirir</td>\n",
       "    </tr>\n",
       "    <tr>\n",
       "      <th>39</th>\n",
       "      <td>مشاهدة الألعاب النارية تجربة ساحرة</td>\n",
       "      <td>مشاهدة الألعاب النارية تجربة رائعة</td>\n",
       "      <td>Ateşli oyunları izlemek büyüleyici bir deneyimdir.</td>\n",
       "      <td>Ateşli oyunları izlemek harika bir deneyimdir.</td>\n",
       "    </tr>\n",
       "    <tr>\n",
       "      <th>40</th>\n",
       "      <td>قضاء يوم جميل في نزهة في الهواء الطلق يكون رائعًا</td>\n",
       "      <td>قضاء يوم جميل في نزهة في الهواء الطلق يكون ممتعًا</td>\n",
       "      <td>Temiz havada güzel bir gün geçirmek harikadır.</td>\n",
       "      <td>Temiz havada güzel bir gün geçirmek eğlencelidir.</td>\n",
       "    </tr>\n",
       "    <tr>\n",
       "      <th>41</th>\n",
       "      <td>النظر إلى الصور القديمة يحيي الذكريات</td>\n",
       "      <td>الاستمرار في الصور القديمة يجدد الذكريات</td>\n",
       "      <td>Eski fotoğraflara bakmak anıları canlandırır.</td>\n",
       "      <td>Eski fotoğraflara devam etmek anıları yeniler.</td>\n",
       "    </tr>\n",
       "  </tbody>\n",
       "</table>\n",
       "</div>"
      ],
      "text/plain": [
       "                                   arabic_translation  \\\n",
       "0                     القراءة في المنزل ممتعة ومطمئنة   \n",
       "1                               طهي الطعام ممتع ولذيذ   \n",
       "2                     الاستماع إلى الموسيقى يريح روحي   \n",
       "3                                    الرسم مريح ومبدع   \n",
       "4                         قضاء الوقت في الحديقة مطمئن   \n",
       "5              ممارسة اليوغا تمنح الطاقة وتجلب الهدوء   \n",
       "6                      الاسترخاء على شاطئ البحر مطمئن   \n",
       "7                   اكتشاف ثقافات مختلفة مثير وتعليمي   \n",
       "8            المشي في الجبال يمنح الطاقة ويجلب الهدوء   \n",
       "9                     تجربة نكهات مختلفة ممتعة ولذيذة   \n",
       "10                 المشي يسمح لك بالحصول على هواء نقي   \n",
       "11              في الربيع تزهر الزهور وتستيقظ الطبيعة   \n",
       "12           قضاء الوقت على الشاطئ في أيام مشمسة ممتع   \n",
       "13                             ركوب الدراجة منعش وصحي   \n",
       "14                     النظر إلى السماء له تأثير مهدئ   \n",
       "15           المشي على الشاطئ يمنح الهدوء ويزيل الضغط   \n",
       "16                           التأمل في مكان هادئ مريح   \n",
       "17            التخييم في الطبيعة مليء بالمغامرة ومسلي   \n",
       "18                           تمتع بيومك مع مشروب دافئ   \n",
       "19                           اغمض عينيك واسترخي بسلام   \n",
       "20                      إطلالة جميلة توفر سكينة روحية   \n",
       "21                    قضاء الوقت مع من تحب قيمة عظيمة   \n",
       "22                          مشاهدة النجوم تجربة ساحرة   \n",
       "23                   لقاء الأصدقاء القدامى يسعد القلب   \n",
       "24                       تناول وجبة خفيفة يمنح الطاقة   \n",
       "25                    شرب شوربات دافئة في الشتاء رائع   \n",
       "26                     مشاهدة الأفلام مع العائلة ممتع   \n",
       "27                         الاحتفال بعيد الميلاد يسعد   \n",
       "28                 الحيوانات الأليفة تجلب الحب والفرح   \n",
       "29                        المشي في الطبيعة ينعش الروح   \n",
       "30                         عزف الجيتار هو هواية ممتعة   \n",
       "31            استكشاف الطبيعة على الدراجة تجربة رائعة   \n",
       "32                        تناول الآيس كريم منعش ولذيذ   \n",
       "33      في الأيام الممطرة، ابق في المنزل واقرأ كتابًا   \n",
       "34       الاستلقاء على الشاطئ في يوم مشمس يمنح الهدوء   \n",
       "35                  النظر إلى لوحة جميلة تجربة عاطفية   \n",
       "36                          تناول الحلوى يجلب السعادة   \n",
       "37            التخييم في الطبيعة مليء بالمغامرة ومسلي   \n",
       "38                 الدردشة مع صديق يمكن أن تكون ممتعة   \n",
       "39                 مشاهدة الألعاب النارية تجربة ساحرة   \n",
       "40  قضاء يوم جميل في نزهة في الهواء الطلق يكون رائعًا   \n",
       "41              النظر إلى الصور القديمة يحيي الذكريات   \n",
       "\n",
       "                                   arabic_translation1  \\\n",
       "0               الاستمتاع بالكتب في المنزل ممتع ومطلوب   \n",
       "1                                طهي الطعام ممتع وذواق   \n",
       "2                      الاستماع إلى الموسيقى يهدئ روحي   \n",
       "3                                     الرسم مسلي ومبدع   \n",
       "4              الاستمتاع بالوقت في الحديقة مطمئن وممتع   \n",
       "5              ممارسة اليوغا تعزز الحيوية وتحضر الهدوء   \n",
       "6                الاسترخاء على شاطئ البحر يمنح السكينة   \n",
       "7         استكشاف ثقافات متنوعة مليء بالإثارة والتعليم   \n",
       "8            المشي في الجبال يعزز الحيوية ويحضر الهدوء   \n",
       "9              تجربة نكهات متنوعة مليء بالمرح والذواقة   \n",
       "10               المشي يمنحك فرصة للتنفس بالهواء النقي   \n",
       "11  في فصل الربيع تفتح الزهور وتعود الطبيعة إلى الحياة   \n",
       "12  الاستمتاع بأوقات الشاطئ في أيام مشمسة يعتبر مسليًا   \n",
       "13                       ركوب الدراجة ممتع ومفيد للصحة   \n",
       "14                    التحديق في السماء يؤثر بشكل مهدئ   \n",
       "15         التجول على الشاطئ يهدئ الأعصاب ويزيل التوتر   \n",
       "16             التأمل في مكان هادئ يساعد على الاسترخاء   \n",
       "17  التخييم في الطبيعة يحمل الكثير من المغامرات والمرح   \n",
       "18                          استمتع بيومك مع مشروب ساخن   \n",
       "19                            أغلق عينيك واسترح بسكينة   \n",
       "20                     إطلالة رائعة تمنح الهدوء الروحي   \n",
       "21              الوقت الذي تقضيه مع من تحب يكون ثمينًا   \n",
       "22                              رصد النجوم تجربة ساحرة   \n",
       "23                  لقاء الأصدقاء القدامى يشعر بالسرور   \n",
       "24                      تناول وجبة خفيفة يزود بالحيوية   \n",
       "25                    شرب الحساء الساخن في الشتاء رائع   \n",
       "26                      مشاهدة الأفلام مع الأسرة يُسعد   \n",
       "27                  الاحتفال بعيد الميلاد يعزز السعادة   \n",
       "28                 الحيوانات الأليفة تجلب الحب والسرور   \n",
       "29                        التجول في الطبيعة يحيي الروح   \n",
       "30                    العزف على الجيتار هو هواية مسلية   \n",
       "31           استكشاف الطبيعة بركوب الدراجة تجربة رائعة   \n",
       "32                         تناول الآيس كريم منعش ولذيذ   \n",
       "33  في الأيام الممطرة، قراءة كتاب في المنزل تمرّن ممتع   \n",
       "34       الاستلقاء على الشاطئ في يوم مشمس يعزز السكينة   \n",
       "35                   التحديق في لوحة جميلة تجربة مؤثرة   \n",
       "36                            تناول الحلوى يعزز البهجة   \n",
       "37  التخييم في الطبيعة يحمل الكثير من المغامرات والمرح   \n",
       "38                          الحديث مع صديق يجلب المتعة   \n",
       "39                  مشاهدة الألعاب النارية تجربة رائعة   \n",
       "40   قضاء يوم جميل في نزهة في الهواء الطلق يكون ممتعًا   \n",
       "41            الاستمرار في الصور القديمة يجدد الذكريات   \n",
       "\n",
       "                                           translation_meaning  \\\n",
       "0                       Evde okuma keyifli ve huzur vericidir.   \n",
       "1                     Yemek pişirmek eğlenceli ve lezzetlidir.   \n",
       "2                           Müzik dinlemek ruhumu dinlendirir.   \n",
       "3                     Resim yapmak huzur verici ve yaratıcıdır   \n",
       "4                          Bahçede zaman geçirmek huzur verici   \n",
       "5                    Yoga yapmak enerji verir ve huzur getirir   \n",
       "6                       Deniz kenarında rahatlamak huzur verir   \n",
       "7   Farklı kültürleri keşfetmek heyecan verici ve öğreticidir.   \n",
       "8       Dağlarda yürüyüş yapmak enerji verir ve huzur getirir.   \n",
       "9             Farklı tatları denemek eğlenceli ve lezzetlidir.   \n",
       "10                    Yürüyüş yapmak taze hava almanızı sağlar   \n",
       "11                        Baharda çiçekler açar ve doğa uyanır   \n",
       "12         Güneşli günlerde plajda vakit geçirmek eğlencelidir   \n",
       "13                  Bisiklet sürmek serinletici ve sağlıklıdır   \n",
       "14         Gökyüzüne bakmak sakinleştirici bir etkiye sahiptir   \n",
       "15         Sahilde yürümek sakinlik getirir ve stresi azaltır.   \n",
       "16           Sessiz bir yerde meditasyon yapmak rahatlatıcıdır   \n",
       "17              Doğada kamp yapmak macera dolu ve eğlencelidir   \n",
       "18                      Sıcak bir içecekle günün tadını çıkar.   \n",
       "19                          Gözlerini kapat ve huzurla dinlen.   \n",
       "20                              Güzel manzara iç huzur sağlar.   \n",
       "21     Sevdiklerinle zaman geçirmek büyük bir değere sahiptir.   \n",
       "22                   Yıldızları izlemek büyülü bir deneyimdir.   \n",
       "23                    Eski dostlarla buluşmak sevinç vericidir   \n",
       "24                          Hafif bir öğün yemek enerji verir.   \n",
       "25                          Kışın sıcak çorbalar içmek harika.   \n",
       "26                            Aileyle film izlemek keyiflidir.   \n",
       "27                             Noel kutlamak mutluluk getirir.   \n",
       "28                       Evcil hayvanlar sevgi ve neşe getirir   \n",
       "29                           Doğa yürüyüşleri ruhu canlandırır   \n",
       "30                         Gitar çalmak eğlenceli bir hobidir.   \n",
       "31              Doğayı bisikletle keşfetmek harika bir deneyim   \n",
       "32                   Dondurma yemek ferahlatıcı ve lezzetlidir   \n",
       "33               Yağmurlu günlerde evde kalın ve kitap okuyun.   \n",
       "34               Güneşli bir günde sahilde uzanmak huzur verir   \n",
       "35           Güzel bir tabloya bakmak duygusal bir deneyimdir.   \n",
       "36                                Tatlı yemek mutluluk getirir   \n",
       "37              Doğada kamp yapmak macera dolu ve eğlencelidir   \n",
       "38           Bir arkadaşınızla sohbet etmek eğlenceli olabilir   \n",
       "39          Ateşli oyunları izlemek büyüleyici bir deneyimdir.   \n",
       "40              Temiz havada güzel bir gün geçirmek harikadır.   \n",
       "41               Eski fotoğraflara bakmak anıları canlandırır.   \n",
       "\n",
       "                                                        translation_meaning1  \n",
       "0                     Evde kitapların tadını çıkarmak keyifli ve gereklidir.  \n",
       "1                                     Yemek yapmak eğlenceli ve lezzetlidir.  \n",
       "2                                       Müzik dinlemek ruhumu sakinleştirir.  \n",
       "3                                      Resim yapmak eğlenceli ve yaratıcıdır  \n",
       "4                  Bahçede zamanı keyifli ve huzur dolu bir şekilde geçirmek  \n",
       "5                             Yoga yapmak canlılığı artırır ve huzur getirir  \n",
       "6                                   Deniz kıyısında dinlenmek sakinlik verir  \n",
       "7     Çeşitli kültürleri keşfetmek heyecan verici ve eğitici bir deneyimdir.  \n",
       "8                Dağlarda yürüyüş yapmak canlılığı artırır ve huzur getirir.  \n",
       "9                          Çeşitli tatları denemek eğlenceli ve lezzetlidir.  \n",
       "10                Yürüyüş yapmak taze hava almanızı sağlayan bir deneyimdir.  \n",
       "11  Baharda çiçekler açar ve doğa uyanır, bu da manevi bir huzur kaynağıdır.  \n",
       "12                        Güneşli günlerde plajda vakit geçirmek keyiflidir.  \n",
       "13                  Bisiklet sürmek serinletici ve sağlıklı bir aktivitedir.  \n",
       "14   Gökyüzüne bakmak sakinleştirici bir etkiye sahiptir ve iç huzur sağlar.  \n",
       "15               Kıyıda gezinmek sinirleri yatıştırır ve gerginliği giderir.  \n",
       "16     Sessiz bir yerde meditasyon yapmak rahatlatıcıdır ve iç huzur sağlar.  \n",
       "17               Doğada kamp yapmak macera dolu ve eğlenceli bir deneyimdir.  \n",
       "18                                   Sıcak bir içecekle günün keyfini çıkar.  \n",
       "19                                              Gözlerini kapat ve sakinleş.  \n",
       "20                                        Harika bir manzara iç huzur sunar.  \n",
       "21                            Sevdiklerinle geçirdiğin zaman çok değerlidir.  \n",
       "22                             Yıldızları gözlemlemek büyülü bir deneyimdir.  \n",
       "23                                 Eski dostlarla buluşmak sevinç vericidir.  \n",
       "24                                     Hafif bir öğün yemek canlılık sağlar.  \n",
       "25                                           Kışın sıcak çorba içmek harika.  \n",
       "26                                      Aileyle film izlemek mutluluk verir.  \n",
       "27                                          Noel kutlamak mutluluğu artırır.  \n",
       "28                                    Evcil hayvanlar sevgi ve neşe getirir.  \n",
       "29                                        Doğa yürüyüşleri ruhu canlandırır.  \n",
       "30                                        Gitar çalmak zevkli bir uğraşıdır.  \n",
       "31                           Doğayı bisikletle keşfetmek harika bir deneyim.  \n",
       "32                                 Dondurma yemek ferahlatıcı ve lezzetlidir  \n",
       "33            Yağmurlu günlerde evde kitap okumak eğlenceli bir egzersizdir.  \n",
       "34                     Güneşli bir günde sahilde uzanmak huzuru teşvik eder.  \n",
       "35                   Güzel bir tabloya bakmak duygulandırıcı bir deneyimdir.  \n",
       "36                                           Tatlı yemek mutluluğu arttırır.  \n",
       "37               Doğada kamp yapmak macera dolu ve eğlenceli bir deneyimdir.  \n",
       "38                                    Bir arkadaşla konuşmak eğlence getirir  \n",
       "39                            Ateşli oyunları izlemek harika bir deneyimdir.  \n",
       "40                         Temiz havada güzel bir gün geçirmek eğlencelidir.  \n",
       "41                            Eski fotoğraflara devam etmek anıları yeniler.  "
      ]
     },
     "execution_count": 16,
     "metadata": {},
     "output_type": "execute_result"
    }
   ],
   "source": [
    "pd.set_option('display.max_colwidth', None)\n",
    "\n",
    "cfg = Configurator(json_file_path=\"sentences.json\")\n",
    "df = pd.DataFrame(cfg.data[\"sentences\"])\n",
    "df.head()"
   ]
  },
  {
   "cell_type": "markdown",
   "metadata": {},
   "source": [
    "439m"
   ]
  },
  {
   "cell_type": "markdown",
   "metadata": {},
   "source": [
    "# bert-base-arabic-camelbert-msa"
   ]
  },
  {
   "cell_type": "code",
   "execution_count": 3,
   "metadata": {},
   "outputs": [],
   "source": [
    "\n",
    "camel = SentenceTransformer('CAMeL-Lab/bert-base-arabic-camelbert-msa')"
   ]
  },
  {
   "cell_type": "code",
   "execution_count": 4,
   "metadata": {},
   "outputs": [
    {
     "name": "stderr",
     "output_type": "stream",
     "text": [
      "Asking to truncate to max_length but no maximum length is provided and the model has no predefined maximum length. Default to no truncation.\n"
     ]
    },
    {
     "data": {
      "text/plain": [
       "0.56330144"
      ]
     },
     "execution_count": 4,
     "metadata": {},
     "output_type": "execute_result"
    }
   ],
   "source": [
    "camel.get_similarity(sentences=[\"طهي الطعام ممتع ولذيذ\",\"القراءة في المنزل ممتعة ومطمئنة\"])\n",
    "## Yemek pişirmek eğlenceli ve lezzetlidir / Evde kitap okumak eğlenceli ve güven vericidir"
   ]
  },
  {
   "cell_type": "code",
   "execution_count": 5,
   "metadata": {},
   "outputs": [
    {
     "name": "stderr",
     "output_type": "stream",
     "text": [
      "Asking to truncate to max_length but no maximum length is provided and the model has no predefined maximum length. Default to no truncation.\n"
     ]
    },
    {
     "name": "stdout",
     "output_type": "stream",
     "text": [
      "0. Cümle çifti:\n",
      "arabic_translation                             القراءة في المنزل ممتعة ومطمئنة\n",
      "arabic_translation1                     الاستمتاع بالكتب في المنزل ممتع ومطلوب\n",
      "translation_meaning                     Evde okuma keyifli ve huzur vericidir.\n",
      "translation_meaning1    Evde kitapların tadını çıkarmak keyifli ve gereklidir.\n",
      "Name: 0, dtype: object\n",
      "Similarity Score:0.79360032081604\n",
      "\n"
     ]
    },
    {
     "name": "stderr",
     "output_type": "stream",
     "text": [
      "Asking to truncate to max_length but no maximum length is provided and the model has no predefined maximum length. Default to no truncation.\n"
     ]
    },
    {
     "name": "stdout",
     "output_type": "stream",
     "text": [
      "1. Cümle çifti:\n",
      "arabic_translation                         طهي الطعام ممتع ولذيذ\n",
      "arabic_translation1                        طهي الطعام ممتع وذواق\n",
      "translation_meaning     Yemek pişirmek eğlenceli ve lezzetlidir.\n",
      "translation_meaning1      Yemek yapmak eğlenceli ve lezzetlidir.\n",
      "Name: 1, dtype: object\n",
      "Similarity Score:0.9506506323814392\n",
      "\n"
     ]
    },
    {
     "name": "stderr",
     "output_type": "stream",
     "text": [
      "Asking to truncate to max_length but no maximum length is provided and the model has no predefined maximum length. Default to no truncation.\n"
     ]
    },
    {
     "name": "stdout",
     "output_type": "stream",
     "text": [
      "2. Cümle çifti:\n",
      "arabic_translation           الاستماع إلى الموسيقى يريح روحي\n",
      "arabic_translation1          الاستماع إلى الموسيقى يهدئ روحي\n",
      "translation_meaning       Müzik dinlemek ruhumu dinlendirir.\n",
      "translation_meaning1    Müzik dinlemek ruhumu sakinleştirir.\n",
      "Name: 2, dtype: object\n",
      "Similarity Score:0.9475418329238892\n",
      "\n"
     ]
    },
    {
     "name": "stderr",
     "output_type": "stream",
     "text": [
      "Asking to truncate to max_length but no maximum length is provided and the model has no predefined maximum length. Default to no truncation.\n"
     ]
    },
    {
     "name": "stdout",
     "output_type": "stream",
     "text": [
      "3. Cümle çifti:\n",
      "arabic_translation                              الرسم مريح ومبدع\n",
      "arabic_translation1                             الرسم مسلي ومبدع\n",
      "translation_meaning     Resim yapmak huzur verici ve yaratıcıdır\n",
      "translation_meaning1       Resim yapmak eğlenceli ve yaratıcıdır\n",
      "Name: 3, dtype: object\n",
      "Similarity Score:0.902411937713623\n",
      "\n"
     ]
    },
    {
     "name": "stderr",
     "output_type": "stream",
     "text": [
      "Asking to truncate to max_length but no maximum length is provided and the model has no predefined maximum length. Default to no truncation.\n"
     ]
    },
    {
     "name": "stdout",
     "output_type": "stream",
     "text": [
      "4. Cümle çifti:\n",
      "arabic_translation                                    قضاء الوقت في الحديقة مطمئن\n",
      "arabic_translation1                       الاستمتاع بالوقت في الحديقة مطمئن وممتع\n",
      "translation_meaning                           Bahçede zaman geçirmek huzur verici\n",
      "translation_meaning1    Bahçede zamanı keyifli ve huzur dolu bir şekilde geçirmek\n",
      "Name: 4, dtype: object\n",
      "Similarity Score:0.8589215278625488\n",
      "\n"
     ]
    },
    {
     "name": "stderr",
     "output_type": "stream",
     "text": [
      "Asking to truncate to max_length but no maximum length is provided and the model has no predefined maximum length. Default to no truncation.\n"
     ]
    },
    {
     "name": "stdout",
     "output_type": "stream",
     "text": [
      "5. Cümle çifti:\n",
      "arabic_translation              ممارسة اليوغا تمنح الطاقة وتجلب الهدوء\n",
      "arabic_translation1            ممارسة اليوغا تعزز الحيوية وتحضر الهدوء\n",
      "translation_meaning          Yoga yapmak enerji verir ve huzur getirir\n",
      "translation_meaning1    Yoga yapmak canlılığı artırır ve huzur getirir\n",
      "Name: 5, dtype: object\n",
      "Similarity Score:0.9433769583702087\n",
      "\n"
     ]
    },
    {
     "name": "stderr",
     "output_type": "stream",
     "text": [
      "Asking to truncate to max_length but no maximum length is provided and the model has no predefined maximum length. Default to no truncation.\n"
     ]
    },
    {
     "name": "stdout",
     "output_type": "stream",
     "text": [
      "6. Cümle çifti:\n",
      "arabic_translation                الاسترخاء على شاطئ البحر مطمئن\n",
      "arabic_translation1        الاسترخاء على شاطئ البحر يمنح السكينة\n",
      "translation_meaning       Deniz kenarında rahatlamak huzur verir\n",
      "translation_meaning1    Deniz kıyısında dinlenmek sakinlik verir\n",
      "Name: 6, dtype: object\n",
      "Similarity Score:0.8982654809951782\n",
      "\n"
     ]
    },
    {
     "name": "stderr",
     "output_type": "stream",
     "text": [
      "Asking to truncate to max_length but no maximum length is provided and the model has no predefined maximum length. Default to no truncation.\n"
     ]
    },
    {
     "name": "stdout",
     "output_type": "stream",
     "text": [
      "7. Cümle çifti:\n",
      "arabic_translation                                           اكتشاف ثقافات مختلفة مثير وتعليمي\n",
      "arabic_translation1                               استكشاف ثقافات متنوعة مليء بالإثارة والتعليم\n",
      "translation_meaning                 Farklı kültürleri keşfetmek heyecan verici ve öğreticidir.\n",
      "translation_meaning1    Çeşitli kültürleri keşfetmek heyecan verici ve eğitici bir deneyimdir.\n",
      "Name: 7, dtype: object\n",
      "Similarity Score:0.7794960737228394\n",
      "\n"
     ]
    },
    {
     "name": "stderr",
     "output_type": "stream",
     "text": [
      "Asking to truncate to max_length but no maximum length is provided and the model has no predefined maximum length. Default to no truncation.\n"
     ]
    },
    {
     "name": "stdout",
     "output_type": "stream",
     "text": [
      "8. Cümle çifti:\n",
      "arabic_translation                         المشي في الجبال يمنح الطاقة ويجلب الهدوء\n",
      "arabic_translation1                       المشي في الجبال يعزز الحيوية ويحضر الهدوء\n",
      "translation_meaning          Dağlarda yürüyüş yapmak enerji verir ve huzur getirir.\n",
      "translation_meaning1    Dağlarda yürüyüş yapmak canlılığı artırır ve huzur getirir.\n",
      "Name: 8, dtype: object\n",
      "Similarity Score:0.9426320791244507\n",
      "\n"
     ]
    },
    {
     "name": "stderr",
     "output_type": "stream",
     "text": [
      "Asking to truncate to max_length but no maximum length is provided and the model has no predefined maximum length. Default to no truncation.\n"
     ]
    },
    {
     "name": "stdout",
     "output_type": "stream",
     "text": [
      "9. Cümle çifti:\n",
      "arabic_translation                        تجربة نكهات مختلفة ممتعة ولذيذة\n",
      "arabic_translation1               تجربة نكهات متنوعة مليء بالمرح والذواقة\n",
      "translation_meaning      Farklı tatları denemek eğlenceli ve lezzetlidir.\n",
      "translation_meaning1    Çeşitli tatları denemek eğlenceli ve lezzetlidir.\n",
      "Name: 9, dtype: object\n",
      "Similarity Score:0.8377949595451355\n",
      "\n"
     ]
    },
    {
     "name": "stderr",
     "output_type": "stream",
     "text": [
      "Asking to truncate to max_length but no maximum length is provided and the model has no predefined maximum length. Default to no truncation.\n"
     ]
    },
    {
     "name": "stdout",
     "output_type": "stream",
     "text": [
      "10. Cümle çifti:\n",
      "arabic_translation                              المشي يسمح لك بالحصول على هواء نقي\n",
      "arabic_translation1                          المشي يمنحك فرصة للتنفس بالهواء النقي\n",
      "translation_meaning                       Yürüyüş yapmak taze hava almanızı sağlar\n",
      "translation_meaning1    Yürüyüş yapmak taze hava almanızı sağlayan bir deneyimdir.\n",
      "Name: 10, dtype: object\n",
      "Similarity Score:0.8726016283035278\n",
      "\n"
     ]
    },
    {
     "name": "stderr",
     "output_type": "stream",
     "text": [
      "Asking to truncate to max_length but no maximum length is provided and the model has no predefined maximum length. Default to no truncation.\n"
     ]
    },
    {
     "name": "stdout",
     "output_type": "stream",
     "text": [
      "11. Cümle çifti:\n",
      "arabic_translation                                         في الربيع تزهر الزهور وتستيقظ الطبيعة\n",
      "arabic_translation1                           في فصل الربيع تفتح الزهور وتعود الطبيعة إلى الحياة\n",
      "translation_meaning                                         Baharda çiçekler açar ve doğa uyanır\n",
      "translation_meaning1    Baharda çiçekler açar ve doğa uyanır, bu da manevi bir huzur kaynağıdır.\n",
      "Name: 11, dtype: object\n",
      "Similarity Score:0.8719373941421509\n",
      "\n"
     ]
    },
    {
     "name": "stderr",
     "output_type": "stream",
     "text": [
      "Asking to truncate to max_length but no maximum length is provided and the model has no predefined maximum length. Default to no truncation.\n"
     ]
    },
    {
     "name": "stdout",
     "output_type": "stream",
     "text": [
      "12. Cümle çifti:\n",
      "arabic_translation                 قضاء الوقت على الشاطئ في أيام مشمسة ممتع\n",
      "arabic_translation1      الاستمتاع بأوقات الشاطئ في أيام مشمسة يعتبر مسليًا\n",
      "translation_meaning     Güneşli günlerde plajda vakit geçirmek eğlencelidir\n",
      "translation_meaning1     Güneşli günlerde plajda vakit geçirmek keyiflidir.\n",
      "Name: 12, dtype: object\n",
      "Similarity Score:0.9105566740036011\n",
      "\n"
     ]
    },
    {
     "name": "stderr",
     "output_type": "stream",
     "text": [
      "Asking to truncate to max_length but no maximum length is provided and the model has no predefined maximum length. Default to no truncation.\n"
     ]
    },
    {
     "name": "stdout",
     "output_type": "stream",
     "text": [
      "13. Cümle çifti:\n",
      "arabic_translation                                        ركوب الدراجة منعش وصحي\n",
      "arabic_translation1                                ركوب الدراجة ممتع ومفيد للصحة\n",
      "translation_meaning                   Bisiklet sürmek serinletici ve sağlıklıdır\n",
      "translation_meaning1    Bisiklet sürmek serinletici ve sağlıklı bir aktivitedir.\n",
      "Name: 13, dtype: object\n",
      "Similarity Score:0.8464796543121338\n",
      "\n"
     ]
    },
    {
     "name": "stderr",
     "output_type": "stream",
     "text": [
      "Asking to truncate to max_length but no maximum length is provided and the model has no predefined maximum length. Default to no truncation.\n"
     ]
    },
    {
     "name": "stdout",
     "output_type": "stream",
     "text": [
      "14. Cümle çifti:\n",
      "arabic_translation                                               النظر إلى السماء له تأثير مهدئ\n",
      "arabic_translation1                                            التحديق في السماء يؤثر بشكل مهدئ\n",
      "translation_meaning                         Gökyüzüne bakmak sakinleştirici bir etkiye sahiptir\n",
      "translation_meaning1    Gökyüzüne bakmak sakinleştirici bir etkiye sahiptir ve iç huzur sağlar.\n",
      "Name: 14, dtype: object\n",
      "Similarity Score:0.8613065481185913\n",
      "\n"
     ]
    },
    {
     "name": "stderr",
     "output_type": "stream",
     "text": [
      "Asking to truncate to max_length but no maximum length is provided and the model has no predefined maximum length. Default to no truncation.\n"
     ]
    },
    {
     "name": "stdout",
     "output_type": "stream",
     "text": [
      "15. Cümle çifti:\n",
      "arabic_translation                         المشي على الشاطئ يمنح الهدوء ويزيل الضغط\n",
      "arabic_translation1                     التجول على الشاطئ يهدئ الأعصاب ويزيل التوتر\n",
      "translation_meaning             Sahilde yürümek sakinlik getirir ve stresi azaltır.\n",
      "translation_meaning1    Kıyıda gezinmek sinirleri yatıştırır ve gerginliği giderir.\n",
      "Name: 15, dtype: object\n",
      "Similarity Score:0.882293701171875\n",
      "\n"
     ]
    },
    {
     "name": "stderr",
     "output_type": "stream",
     "text": [
      "Asking to truncate to max_length but no maximum length is provided and the model has no predefined maximum length. Default to no truncation.\n"
     ]
    },
    {
     "name": "stdout",
     "output_type": "stream",
     "text": [
      "16. Cümle çifti:\n",
      "arabic_translation                                                   التأمل في مكان هادئ مريح\n",
      "arabic_translation1                                   التأمل في مكان هادئ يساعد على الاسترخاء\n",
      "translation_meaning                         Sessiz bir yerde meditasyon yapmak rahatlatıcıdır\n",
      "translation_meaning1    Sessiz bir yerde meditasyon yapmak rahatlatıcıdır ve iç huzur sağlar.\n",
      "Name: 16, dtype: object\n",
      "Similarity Score:0.866202712059021\n",
      "\n"
     ]
    },
    {
     "name": "stderr",
     "output_type": "stream",
     "text": [
      "Asking to truncate to max_length but no maximum length is provided and the model has no predefined maximum length. Default to no truncation.\n"
     ]
    },
    {
     "name": "stdout",
     "output_type": "stream",
     "text": [
      "17. Cümle çifti:\n",
      "arabic_translation                          التخييم في الطبيعة مليء بالمغامرة ومسلي\n",
      "arabic_translation1              التخييم في الطبيعة يحمل الكثير من المغامرات والمرح\n",
      "translation_meaning                  Doğada kamp yapmak macera dolu ve eğlencelidir\n",
      "translation_meaning1    Doğada kamp yapmak macera dolu ve eğlenceli bir deneyimdir.\n",
      "Name: 17, dtype: object\n",
      "Similarity Score:0.8834869861602783\n",
      "\n"
     ]
    },
    {
     "name": "stderr",
     "output_type": "stream",
     "text": [
      "Asking to truncate to max_length but no maximum length is provided and the model has no predefined maximum length. Default to no truncation.\n"
     ]
    },
    {
     "name": "stdout",
     "output_type": "stream",
     "text": [
      "18. Cümle çifti:\n",
      "arabic_translation                     تمتع بيومك مع مشروب دافئ\n",
      "arabic_translation1                  استمتع بيومك مع مشروب ساخن\n",
      "translation_meaning      Sıcak bir içecekle günün tadını çıkar.\n",
      "translation_meaning1    Sıcak bir içecekle günün keyfini çıkar.\n",
      "Name: 18, dtype: object\n",
      "Similarity Score:0.9455232620239258\n",
      "\n"
     ]
    },
    {
     "name": "stderr",
     "output_type": "stream",
     "text": [
      "Asking to truncate to max_length but no maximum length is provided and the model has no predefined maximum length. Default to no truncation.\n"
     ]
    },
    {
     "name": "stdout",
     "output_type": "stream",
     "text": [
      "19. Cümle çifti:\n",
      "arabic_translation                اغمض عينيك واسترخي بسلام\n",
      "arabic_translation1               أغلق عينيك واسترح بسكينة\n",
      "translation_meaning     Gözlerini kapat ve huzurla dinlen.\n",
      "translation_meaning1          Gözlerini kapat ve sakinleş.\n",
      "Name: 19, dtype: object\n",
      "Similarity Score:0.852564811706543\n",
      "\n"
     ]
    },
    {
     "name": "stderr",
     "output_type": "stream",
     "text": [
      "Asking to truncate to max_length but no maximum length is provided and the model has no predefined maximum length. Default to no truncation.\n"
     ]
    },
    {
     "name": "stdout",
     "output_type": "stream",
     "text": [
      "20. Cümle çifti:\n",
      "arabic_translation           إطلالة جميلة توفر سكينة روحية\n",
      "arabic_translation1        إطلالة رائعة تمنح الهدوء الروحي\n",
      "translation_meaning         Güzel manzara iç huzur sağlar.\n",
      "translation_meaning1    Harika bir manzara iç huzur sunar.\n",
      "Name: 20, dtype: object\n",
      "Similarity Score:0.8543028831481934\n",
      "\n"
     ]
    },
    {
     "name": "stderr",
     "output_type": "stream",
     "text": [
      "Asking to truncate to max_length but no maximum length is provided and the model has no predefined maximum length. Default to no truncation.\n"
     ]
    },
    {
     "name": "stdout",
     "output_type": "stream",
     "text": [
      "21. Cümle çifti:\n",
      "arabic_translation                              قضاء الوقت مع من تحب قيمة عظيمة\n",
      "arabic_translation1                      الوقت الذي تقضيه مع من تحب يكون ثمينًا\n",
      "translation_meaning     Sevdiklerinle zaman geçirmek büyük bir değere sahiptir.\n",
      "translation_meaning1             Sevdiklerinle geçirdiğin zaman çok değerlidir.\n",
      "Name: 21, dtype: object\n",
      "Similarity Score:0.8082736730575562\n",
      "\n"
     ]
    },
    {
     "name": "stderr",
     "output_type": "stream",
     "text": [
      "Asking to truncate to max_length but no maximum length is provided and the model has no predefined maximum length. Default to no truncation.\n"
     ]
    },
    {
     "name": "stdout",
     "output_type": "stream",
     "text": [
      "22. Cümle çifti:\n",
      "arabic_translation                          مشاهدة النجوم تجربة ساحرة\n",
      "arabic_translation1                            رصد النجوم تجربة ساحرة\n",
      "translation_meaning         Yıldızları izlemek büyülü bir deneyimdir.\n",
      "translation_meaning1    Yıldızları gözlemlemek büyülü bir deneyimdir.\n",
      "Name: 22, dtype: object\n",
      "Similarity Score:0.9198761582374573\n",
      "\n"
     ]
    },
    {
     "name": "stderr",
     "output_type": "stream",
     "text": [
      "Asking to truncate to max_length but no maximum length is provided and the model has no predefined maximum length. Default to no truncation.\n"
     ]
    },
    {
     "name": "stdout",
     "output_type": "stream",
     "text": [
      "23. Cümle çifti:\n",
      "arabic_translation               لقاء الأصدقاء القدامى يسعد القلب\n",
      "arabic_translation1            لقاء الأصدقاء القدامى يشعر بالسرور\n",
      "translation_meaning      Eski dostlarla buluşmak sevinç vericidir\n",
      "translation_meaning1    Eski dostlarla buluşmak sevinç vericidir.\n",
      "Name: 23, dtype: object\n",
      "Similarity Score:0.869091808795929\n",
      "\n"
     ]
    },
    {
     "name": "stderr",
     "output_type": "stream",
     "text": [
      "Asking to truncate to max_length but no maximum length is provided and the model has no predefined maximum length. Default to no truncation.\n"
     ]
    },
    {
     "name": "stdout",
     "output_type": "stream",
     "text": [
      "24. Cümle çifti:\n",
      "arabic_translation               تناول وجبة خفيفة يمنح الطاقة\n",
      "arabic_translation1            تناول وجبة خفيفة يزود بالحيوية\n",
      "translation_meaning        Hafif bir öğün yemek enerji verir.\n",
      "translation_meaning1    Hafif bir öğün yemek canlılık sağlar.\n",
      "Name: 24, dtype: object\n",
      "Similarity Score:0.9092833995819092\n",
      "\n"
     ]
    },
    {
     "name": "stderr",
     "output_type": "stream",
     "text": [
      "Asking to truncate to max_length but no maximum length is provided and the model has no predefined maximum length. Default to no truncation.\n"
     ]
    },
    {
     "name": "stdout",
     "output_type": "stream",
     "text": [
      "25. Cümle çifti:\n",
      "arabic_translation         شرب شوربات دافئة في الشتاء رائع\n",
      "arabic_translation1       شرب الحساء الساخن في الشتاء رائع\n",
      "translation_meaning     Kışın sıcak çorbalar içmek harika.\n",
      "translation_meaning1       Kışın sıcak çorba içmek harika.\n",
      "Name: 25, dtype: object\n",
      "Similarity Score:0.89339679479599\n",
      "\n"
     ]
    },
    {
     "name": "stderr",
     "output_type": "stream",
     "text": [
      "Asking to truncate to max_length but no maximum length is provided and the model has no predefined maximum length. Default to no truncation.\n"
     ]
    },
    {
     "name": "stdout",
     "output_type": "stream",
     "text": [
      "26. Cümle çifti:\n",
      "arabic_translation            مشاهدة الأفلام مع العائلة ممتع\n",
      "arabic_translation1           مشاهدة الأفلام مع الأسرة يُسعد\n",
      "translation_meaning         Aileyle film izlemek keyiflidir.\n",
      "translation_meaning1    Aileyle film izlemek mutluluk verir.\n",
      "Name: 26, dtype: object\n",
      "Similarity Score:0.8652199506759644\n",
      "\n"
     ]
    },
    {
     "name": "stderr",
     "output_type": "stream",
     "text": [
      "Asking to truncate to max_length but no maximum length is provided and the model has no predefined maximum length. Default to no truncation.\n"
     ]
    },
    {
     "name": "stdout",
     "output_type": "stream",
     "text": [
      "27. Cümle çifti:\n",
      "arabic_translation              الاحتفال بعيد الميلاد يسعد\n",
      "arabic_translation1     الاحتفال بعيد الميلاد يعزز السعادة\n",
      "translation_meaning        Noel kutlamak mutluluk getirir.\n",
      "translation_meaning1      Noel kutlamak mutluluğu artırır.\n",
      "Name: 27, dtype: object\n",
      "Similarity Score:0.8006099462509155\n",
      "\n"
     ]
    },
    {
     "name": "stderr",
     "output_type": "stream",
     "text": [
      "Asking to truncate to max_length but no maximum length is provided and the model has no predefined maximum length. Default to no truncation.\n"
     ]
    },
    {
     "name": "stdout",
     "output_type": "stream",
     "text": [
      "28. Cümle çifti:\n",
      "arabic_translation          الحيوانات الأليفة تجلب الحب والفرح\n",
      "arabic_translation1        الحيوانات الأليفة تجلب الحب والسرور\n",
      "translation_meaning      Evcil hayvanlar sevgi ve neşe getirir\n",
      "translation_meaning1    Evcil hayvanlar sevgi ve neşe getirir.\n",
      "Name: 28, dtype: object\n",
      "Similarity Score:0.9844094514846802\n",
      "\n"
     ]
    },
    {
     "name": "stderr",
     "output_type": "stream",
     "text": [
      "Asking to truncate to max_length but no maximum length is provided and the model has no predefined maximum length. Default to no truncation.\n"
     ]
    },
    {
     "name": "stdout",
     "output_type": "stream",
     "text": [
      "29. Cümle çifti:\n",
      "arabic_translation             المشي في الطبيعة ينعش الروح\n",
      "arabic_translation1           التجول في الطبيعة يحيي الروح\n",
      "translation_meaning      Doğa yürüyüşleri ruhu canlandırır\n",
      "translation_meaning1    Doğa yürüyüşleri ruhu canlandırır.\n",
      "Name: 29, dtype: object\n",
      "Similarity Score:0.8760780096054077\n",
      "\n"
     ]
    },
    {
     "name": "stderr",
     "output_type": "stream",
     "text": [
      "Asking to truncate to max_length but no maximum length is provided and the model has no predefined maximum length. Default to no truncation.\n"
     ]
    },
    {
     "name": "stdout",
     "output_type": "stream",
     "text": [
      "30. Cümle çifti:\n",
      "arabic_translation               عزف الجيتار هو هواية ممتعة\n",
      "arabic_translation1        العزف على الجيتار هو هواية مسلية\n",
      "translation_meaning     Gitar çalmak eğlenceli bir hobidir.\n",
      "translation_meaning1     Gitar çalmak zevkli bir uğraşıdır.\n",
      "Name: 30, dtype: object\n",
      "Similarity Score:0.9535443782806396\n",
      "\n"
     ]
    },
    {
     "name": "stderr",
     "output_type": "stream",
     "text": [
      "Asking to truncate to max_length but no maximum length is provided and the model has no predefined maximum length. Default to no truncation.\n"
     ]
    },
    {
     "name": "stdout",
     "output_type": "stream",
     "text": [
      "31. Cümle çifti:\n",
      "arabic_translation              استكشاف الطبيعة على الدراجة تجربة رائعة\n",
      "arabic_translation1           استكشاف الطبيعة بركوب الدراجة تجربة رائعة\n",
      "translation_meaning      Doğayı bisikletle keşfetmek harika bir deneyim\n",
      "translation_meaning1    Doğayı bisikletle keşfetmek harika bir deneyim.\n",
      "Name: 31, dtype: object\n",
      "Similarity Score:0.9664360284805298\n",
      "\n"
     ]
    },
    {
     "name": "stderr",
     "output_type": "stream",
     "text": [
      "Asking to truncate to max_length but no maximum length is provided and the model has no predefined maximum length. Default to no truncation.\n"
     ]
    },
    {
     "name": "stdout",
     "output_type": "stream",
     "text": [
      "32. Cümle çifti:\n",
      "arabic_translation                    تناول الآيس كريم منعش ولذيذ\n",
      "arabic_translation1                   تناول الآيس كريم منعش ولذيذ\n",
      "translation_meaning     Dondurma yemek ferahlatıcı ve lezzetlidir\n",
      "translation_meaning1    Dondurma yemek ferahlatıcı ve lezzetlidir\n",
      "Name: 32, dtype: object\n",
      "Similarity Score:1.0000001192092896\n",
      "\n"
     ]
    },
    {
     "name": "stderr",
     "output_type": "stream",
     "text": [
      "Asking to truncate to max_length but no maximum length is provided and the model has no predefined maximum length. Default to no truncation.\n"
     ]
    },
    {
     "name": "stdout",
     "output_type": "stream",
     "text": [
      "33. Cümle çifti:\n",
      "arabic_translation                       في الأيام الممطرة، ابق في المنزل واقرأ كتابًا\n",
      "arabic_translation1                 في الأيام الممطرة، قراءة كتاب في المنزل تمرّن ممتع\n",
      "translation_meaning                      Yağmurlu günlerde evde kalın ve kitap okuyun.\n",
      "translation_meaning1    Yağmurlu günlerde evde kitap okumak eğlenceli bir egzersizdir.\n",
      "Name: 33, dtype: object\n",
      "Similarity Score:0.8552522659301758\n",
      "\n"
     ]
    },
    {
     "name": "stderr",
     "output_type": "stream",
     "text": [
      "Asking to truncate to max_length but no maximum length is provided and the model has no predefined maximum length. Default to no truncation.\n"
     ]
    },
    {
     "name": "stdout",
     "output_type": "stream",
     "text": [
      "34. Cümle çifti:\n",
      "arabic_translation               الاستلقاء على الشاطئ في يوم مشمس يمنح الهدوء\n",
      "arabic_translation1             الاستلقاء على الشاطئ في يوم مشمس يعزز السكينة\n",
      "translation_meaning             Güneşli bir günde sahilde uzanmak huzur verir\n",
      "translation_meaning1    Güneşli bir günde sahilde uzanmak huzuru teşvik eder.\n",
      "Name: 34, dtype: object\n",
      "Similarity Score:0.9636021852493286\n",
      "\n"
     ]
    },
    {
     "name": "stderr",
     "output_type": "stream",
     "text": [
      "Asking to truncate to max_length but no maximum length is provided and the model has no predefined maximum length. Default to no truncation.\n"
     ]
    },
    {
     "name": "stdout",
     "output_type": "stream",
     "text": [
      "35. Cümle çifti:\n",
      "arabic_translation                            النظر إلى لوحة جميلة تجربة عاطفية\n",
      "arabic_translation1                           التحديق في لوحة جميلة تجربة مؤثرة\n",
      "translation_meaning           Güzel bir tabloya bakmak duygusal bir deneyimdir.\n",
      "translation_meaning1    Güzel bir tabloya bakmak duygulandırıcı bir deneyimdir.\n",
      "Name: 35, dtype: object\n",
      "Similarity Score:0.8568947315216064\n",
      "\n"
     ]
    },
    {
     "name": "stderr",
     "output_type": "stream",
     "text": [
      "Asking to truncate to max_length but no maximum length is provided and the model has no predefined maximum length. Default to no truncation.\n"
     ]
    },
    {
     "name": "stdout",
     "output_type": "stream",
     "text": [
      "36. Cümle çifti:\n",
      "arabic_translation            تناول الحلوى يجلب السعادة\n",
      "arabic_translation1            تناول الحلوى يعزز البهجة\n",
      "translation_meaning        Tatlı yemek mutluluk getirir\n",
      "translation_meaning1    Tatlı yemek mutluluğu arttırır.\n",
      "Name: 36, dtype: object\n",
      "Similarity Score:0.9137363433837891\n",
      "\n"
     ]
    },
    {
     "name": "stderr",
     "output_type": "stream",
     "text": [
      "Asking to truncate to max_length but no maximum length is provided and the model has no predefined maximum length. Default to no truncation.\n"
     ]
    },
    {
     "name": "stdout",
     "output_type": "stream",
     "text": [
      "37. Cümle çifti:\n",
      "arabic_translation                          التخييم في الطبيعة مليء بالمغامرة ومسلي\n",
      "arabic_translation1              التخييم في الطبيعة يحمل الكثير من المغامرات والمرح\n",
      "translation_meaning                  Doğada kamp yapmak macera dolu ve eğlencelidir\n",
      "translation_meaning1    Doğada kamp yapmak macera dolu ve eğlenceli bir deneyimdir.\n",
      "Name: 37, dtype: object\n",
      "Similarity Score:0.8834869861602783\n",
      "\n"
     ]
    },
    {
     "name": "stderr",
     "output_type": "stream",
     "text": [
      "Asking to truncate to max_length but no maximum length is provided and the model has no predefined maximum length. Default to no truncation.\n"
     ]
    },
    {
     "name": "stdout",
     "output_type": "stream",
     "text": [
      "38. Cümle çifti:\n",
      "arabic_translation                     الدردشة مع صديق يمكن أن تكون ممتعة\n",
      "arabic_translation1                            الحديث مع صديق يجلب المتعة\n",
      "translation_meaning     Bir arkadaşınızla sohbet etmek eğlenceli olabilir\n",
      "translation_meaning1               Bir arkadaşla konuşmak eğlence getirir\n",
      "Name: 38, dtype: object\n",
      "Similarity Score:0.6860679984092712\n",
      "\n"
     ]
    },
    {
     "name": "stderr",
     "output_type": "stream",
     "text": [
      "Asking to truncate to max_length but no maximum length is provided and the model has no predefined maximum length. Default to no truncation.\n"
     ]
    },
    {
     "name": "stdout",
     "output_type": "stream",
     "text": [
      "39. Cümle çifti:\n",
      "arabic_translation                      مشاهدة الألعاب النارية تجربة ساحرة\n",
      "arabic_translation1                     مشاهدة الألعاب النارية تجربة رائعة\n",
      "translation_meaning     Ateşli oyunları izlemek büyüleyici bir deneyimdir.\n",
      "translation_meaning1        Ateşli oyunları izlemek harika bir deneyimdir.\n",
      "Name: 39, dtype: object\n",
      "Similarity Score:0.9359815120697021\n",
      "\n"
     ]
    },
    {
     "name": "stderr",
     "output_type": "stream",
     "text": [
      "Asking to truncate to max_length but no maximum length is provided and the model has no predefined maximum length. Default to no truncation.\n"
     ]
    },
    {
     "name": "stdout",
     "output_type": "stream",
     "text": [
      "40. Cümle çifti:\n",
      "arabic_translation      قضاء يوم جميل في نزهة في الهواء الطلق يكون رائعًا\n",
      "arabic_translation1     قضاء يوم جميل في نزهة في الهواء الطلق يكون ممتعًا\n",
      "translation_meaning        Temiz havada güzel bir gün geçirmek harikadır.\n",
      "translation_meaning1    Temiz havada güzel bir gün geçirmek eğlencelidir.\n",
      "Name: 40, dtype: object\n",
      "Similarity Score:1.0\n",
      "\n"
     ]
    },
    {
     "name": "stderr",
     "output_type": "stream",
     "text": [
      "Asking to truncate to max_length but no maximum length is provided and the model has no predefined maximum length. Default to no truncation.\n"
     ]
    },
    {
     "name": "stdout",
     "output_type": "stream",
     "text": [
      "41. Cümle çifti:\n",
      "arabic_translation               النظر إلى الصور القديمة يحيي الذكريات\n",
      "arabic_translation1           الاستمرار في الصور القديمة يجدد الذكريات\n",
      "translation_meaning      Eski fotoğraflara bakmak anıları canlandırır.\n",
      "translation_meaning1    Eski fotoğraflara devam etmek anıları yeniler.\n",
      "Name: 41, dtype: object\n",
      "Similarity Score:0.8987376689910889\n",
      "\n"
     ]
    }
   ],
   "source": [
    "camel_list = []\n",
    "for index, row in df.iterrows():\n",
    "    score = camel.get_similarity([row[\"arabic_translation\"],row[\"arabic_translation1\"]])\n",
    "    print(f\"{index}. Cümle çifti:\\n{row}\\nSimilarity Score:{score}\\n\")\n",
    "    camel_list.append(score)"
   ]
  },
  {
   "cell_type": "markdown",
   "metadata": {},
   "source": [
    "41 cümle için 45 saniye "
   ]
  },
  {
   "cell_type": "code",
   "execution_count": 6,
   "metadata": {},
   "outputs": [
    {
     "name": "stdout",
     "output_type": "stream",
     "text": [
      "camelbert ortalama: 0.88909351116135\n"
     ]
    }
   ],
   "source": [
    "average_camel = sum(camel_list) / len(camel_list)\n",
    "print(f\"camelbert ortalama: {average_camel}\")"
   ]
  },
  {
   "cell_type": "markdown",
   "metadata": {},
   "source": [
    "#### farklı verilerde durum nasıl ?"
   ]
  },
  {
   "cell_type": "code",
   "execution_count": 24,
   "metadata": {},
   "outputs": [
    {
     "data": {
      "text/plain": [
       "array(['الاستمرار في الصور القديمة يجدد الذكريات',\n",
       "       'قضاء يوم جميل في نزهة في الهواء الطلق يكون ممتعًا',\n",
       "       'مشاهدة الألعاب النارية تجربة رائعة', 'الحديث مع صديق يجلب المتعة',\n",
       "       'التخييم في الطبيعة يحمل الكثير من المغامرات والمرح',\n",
       "       'تناول الحلوى يعزز البهجة', 'التحديق في لوحة جميلة تجربة مؤثرة',\n",
       "       'الاستلقاء على الشاطئ في يوم مشمس يعزز السكينة',\n",
       "       'في الأيام الممطرة، قراءة كتاب في المنزل تمرّن ممتع',\n",
       "       'تناول الآيس كريم منعش ولذيذ',\n",
       "       'استكشاف الطبيعة بركوب الدراجة تجربة رائعة',\n",
       "       'العزف على الجيتار هو هواية مسلية', 'التجول في الطبيعة يحيي الروح',\n",
       "       'الحيوانات الأليفة تجلب الحب والسرور',\n",
       "       'الاحتفال بعيد الميلاد يعزز السعادة',\n",
       "       'مشاهدة الأفلام مع الأسرة يُسعد',\n",
       "       'شرب الحساء الساخن في الشتاء رائع',\n",
       "       'تناول وجبة خفيفة يزود بالحيوية',\n",
       "       'لقاء الأصدقاء القدامى يشعر بالسرور', 'رصد النجوم تجربة ساحرة',\n",
       "       'الوقت الذي تقضيه مع من تحب يكون ثمينًا',\n",
       "       'إطلالة رائعة تمنح الهدوء الروحي', 'أغلق عينيك واسترح بسكينة',\n",
       "       'استمتع بيومك مع مشروب ساخن',\n",
       "       'التخييم في الطبيعة يحمل الكثير من المغامرات والمرح',\n",
       "       'التأمل في مكان هادئ يساعد على الاسترخاء',\n",
       "       'التجول على الشاطئ يهدئ الأعصاب ويزيل التوتر',\n",
       "       'التحديق في السماء يؤثر بشكل مهدئ',\n",
       "       'ركوب الدراجة ممتع ومفيد للصحة',\n",
       "       'الاستمتاع بأوقات الشاطئ في أيام مشمسة يعتبر مسليًا',\n",
       "       'في فصل الربيع تفتح الزهور وتعود الطبيعة إلى الحياة',\n",
       "       'المشي يمنحك فرصة للتنفس بالهواء النقي',\n",
       "       'تجربة نكهات متنوعة مليء بالمرح والذواقة',\n",
       "       'المشي في الجبال يعزز الحيوية ويحضر الهدوء',\n",
       "       'استكشاف ثقافات متنوعة مليء بالإثارة والتعليم',\n",
       "       'الاسترخاء على شاطئ البحر يمنح السكينة',\n",
       "       'ممارسة اليوغا تعزز الحيوية وتحضر الهدوء',\n",
       "       'الاستمتاع بالوقت في الحديقة مطمئن وممتع', 'الرسم مسلي ومبدع',\n",
       "       'الاستماع إلى الموسيقى يهدئ روحي', 'طهي الطعام ممتع وذواق',\n",
       "       'الاستمتاع بالكتب في المنزل ممتع ومطلوب'], dtype=object)"
      ]
     },
     "execution_count": 24,
     "metadata": {},
     "output_type": "execute_result"
    }
   ],
   "source": [
    "df[\"arabic_translation1\"][::-1].values"
   ]
  },
  {
   "cell_type": "code",
   "execution_count": 26,
   "metadata": {},
   "outputs": [
    {
     "data": {
      "text/html": [
       "<div>\n",
       "<style scoped>\n",
       "    .dataframe tbody tr th:only-of-type {\n",
       "        vertical-align: middle;\n",
       "    }\n",
       "\n",
       "    .dataframe tbody tr th {\n",
       "        vertical-align: top;\n",
       "    }\n",
       "\n",
       "    .dataframe thead th {\n",
       "        text-align: right;\n",
       "    }\n",
       "</style>\n",
       "<table border=\"1\" class=\"dataframe\">\n",
       "  <thead>\n",
       "    <tr style=\"text-align: right;\">\n",
       "      <th></th>\n",
       "      <th>arabic_translation</th>\n",
       "      <th>translation_meaning</th>\n",
       "      <th>reversed_arabic_translation1</th>\n",
       "      <th>reversed_translation_meaning1</th>\n",
       "    </tr>\n",
       "  </thead>\n",
       "  <tbody>\n",
       "    <tr>\n",
       "      <th>0</th>\n",
       "      <td>القراءة في المنزل ممتعة ومطمئنة</td>\n",
       "      <td>Evde okuma keyifli ve huzur vericidir.</td>\n",
       "      <td>الاستمرار في الصور القديمة يجدد الذكريات</td>\n",
       "      <td>Eski fotoğraflara devam etmek anıları yeniler.</td>\n",
       "    </tr>\n",
       "    <tr>\n",
       "      <th>1</th>\n",
       "      <td>طهي الطعام ممتع ولذيذ</td>\n",
       "      <td>Yemek pişirmek eğlenceli ve lezzetlidir.</td>\n",
       "      <td>قضاء يوم جميل في نزهة في الهواء الطلق يكون ممتعًا</td>\n",
       "      <td>Temiz havada güzel bir gün geçirmek eğlencelidir.</td>\n",
       "    </tr>\n",
       "    <tr>\n",
       "      <th>2</th>\n",
       "      <td>الاستماع إلى الموسيقى يريح روحي</td>\n",
       "      <td>Müzik dinlemek ruhumu dinlendirir.</td>\n",
       "      <td>مشاهدة الألعاب النارية تجربة رائعة</td>\n",
       "      <td>Ateşli oyunları izlemek harika bir deneyimdir.</td>\n",
       "    </tr>\n",
       "    <tr>\n",
       "      <th>3</th>\n",
       "      <td>الرسم مريح ومبدع</td>\n",
       "      <td>Resim yapmak huzur verici ve yaratıcıdır</td>\n",
       "      <td>الحديث مع صديق يجلب المتعة</td>\n",
       "      <td>Bir arkadaşla konuşmak eğlence getirir</td>\n",
       "    </tr>\n",
       "    <tr>\n",
       "      <th>4</th>\n",
       "      <td>قضاء الوقت في الحديقة مطمئن</td>\n",
       "      <td>Bahçede zaman geçirmek huzur verici</td>\n",
       "      <td>التخييم في الطبيعة يحمل الكثير من المغامرات والمرح</td>\n",
       "      <td>Doğada kamp yapmak macera dolu ve eğlenceli bir deneyimdir.</td>\n",
       "    </tr>\n",
       "    <tr>\n",
       "      <th>5</th>\n",
       "      <td>ممارسة اليوغا تمنح الطاقة وتجلب الهدوء</td>\n",
       "      <td>Yoga yapmak enerji verir ve huzur getirir</td>\n",
       "      <td>تناول الحلوى يعزز البهجة</td>\n",
       "      <td>Tatlı yemek mutluluğu arttırır.</td>\n",
       "    </tr>\n",
       "    <tr>\n",
       "      <th>6</th>\n",
       "      <td>الاسترخاء على شاطئ البحر مطمئن</td>\n",
       "      <td>Deniz kenarında rahatlamak huzur verir</td>\n",
       "      <td>التحديق في لوحة جميلة تجربة مؤثرة</td>\n",
       "      <td>Güzel bir tabloya bakmak duygulandırıcı bir deneyimdir.</td>\n",
       "    </tr>\n",
       "    <tr>\n",
       "      <th>7</th>\n",
       "      <td>اكتشاف ثقافات مختلفة مثير وتعليمي</td>\n",
       "      <td>Farklı kültürleri keşfetmek heyecan verici ve öğreticidir.</td>\n",
       "      <td>الاستلقاء على الشاطئ في يوم مشمس يعزز السكينة</td>\n",
       "      <td>Güneşli bir günde sahilde uzanmak huzuru teşvik eder.</td>\n",
       "    </tr>\n",
       "    <tr>\n",
       "      <th>8</th>\n",
       "      <td>المشي في الجبال يمنح الطاقة ويجلب الهدوء</td>\n",
       "      <td>Dağlarda yürüyüş yapmak enerji verir ve huzur getirir.</td>\n",
       "      <td>في الأيام الممطرة، قراءة كتاب في المنزل تمرّن ممتع</td>\n",
       "      <td>Yağmurlu günlerde evde kitap okumak eğlenceli bir egzersizdir.</td>\n",
       "    </tr>\n",
       "    <tr>\n",
       "      <th>9</th>\n",
       "      <td>تجربة نكهات مختلفة ممتعة ولذيذة</td>\n",
       "      <td>Farklı tatları denemek eğlenceli ve lezzetlidir.</td>\n",
       "      <td>تناول الآيس كريم منعش ولذيذ</td>\n",
       "      <td>Dondurma yemek ferahlatıcı ve lezzetlidir</td>\n",
       "    </tr>\n",
       "    <tr>\n",
       "      <th>10</th>\n",
       "      <td>المشي يسمح لك بالحصول على هواء نقي</td>\n",
       "      <td>Yürüyüş yapmak taze hava almanızı sağlar</td>\n",
       "      <td>استكشاف الطبيعة بركوب الدراجة تجربة رائعة</td>\n",
       "      <td>Doğayı bisikletle keşfetmek harika bir deneyim.</td>\n",
       "    </tr>\n",
       "    <tr>\n",
       "      <th>11</th>\n",
       "      <td>في الربيع تزهر الزهور وتستيقظ الطبيعة</td>\n",
       "      <td>Baharda çiçekler açar ve doğa uyanır</td>\n",
       "      <td>العزف على الجيتار هو هواية مسلية</td>\n",
       "      <td>Gitar çalmak zevkli bir uğraşıdır.</td>\n",
       "    </tr>\n",
       "    <tr>\n",
       "      <th>12</th>\n",
       "      <td>قضاء الوقت على الشاطئ في أيام مشمسة ممتع</td>\n",
       "      <td>Güneşli günlerde plajda vakit geçirmek eğlencelidir</td>\n",
       "      <td>التجول في الطبيعة يحيي الروح</td>\n",
       "      <td>Doğa yürüyüşleri ruhu canlandırır.</td>\n",
       "    </tr>\n",
       "    <tr>\n",
       "      <th>13</th>\n",
       "      <td>ركوب الدراجة منعش وصحي</td>\n",
       "      <td>Bisiklet sürmek serinletici ve sağlıklıdır</td>\n",
       "      <td>الحيوانات الأليفة تجلب الحب والسرور</td>\n",
       "      <td>Evcil hayvanlar sevgi ve neşe getirir.</td>\n",
       "    </tr>\n",
       "    <tr>\n",
       "      <th>14</th>\n",
       "      <td>النظر إلى السماء له تأثير مهدئ</td>\n",
       "      <td>Gökyüzüne bakmak sakinleştirici bir etkiye sahiptir</td>\n",
       "      <td>الاحتفال بعيد الميلاد يعزز السعادة</td>\n",
       "      <td>Noel kutlamak mutluluğu artırır.</td>\n",
       "    </tr>\n",
       "    <tr>\n",
       "      <th>15</th>\n",
       "      <td>المشي على الشاطئ يمنح الهدوء ويزيل الضغط</td>\n",
       "      <td>Sahilde yürümek sakinlik getirir ve stresi azaltır.</td>\n",
       "      <td>مشاهدة الأفلام مع الأسرة يُسعد</td>\n",
       "      <td>Aileyle film izlemek mutluluk verir.</td>\n",
       "    </tr>\n",
       "    <tr>\n",
       "      <th>16</th>\n",
       "      <td>التأمل في مكان هادئ مريح</td>\n",
       "      <td>Sessiz bir yerde meditasyon yapmak rahatlatıcıdır</td>\n",
       "      <td>شرب الحساء الساخن في الشتاء رائع</td>\n",
       "      <td>Kışın sıcak çorba içmek harika.</td>\n",
       "    </tr>\n",
       "    <tr>\n",
       "      <th>17</th>\n",
       "      <td>التخييم في الطبيعة مليء بالمغامرة ومسلي</td>\n",
       "      <td>Doğada kamp yapmak macera dolu ve eğlencelidir</td>\n",
       "      <td>تناول وجبة خفيفة يزود بالحيوية</td>\n",
       "      <td>Hafif bir öğün yemek canlılık sağlar.</td>\n",
       "    </tr>\n",
       "    <tr>\n",
       "      <th>18</th>\n",
       "      <td>تمتع بيومك مع مشروب دافئ</td>\n",
       "      <td>Sıcak bir içecekle günün tadını çıkar.</td>\n",
       "      <td>لقاء الأصدقاء القدامى يشعر بالسرور</td>\n",
       "      <td>Eski dostlarla buluşmak sevinç vericidir.</td>\n",
       "    </tr>\n",
       "    <tr>\n",
       "      <th>19</th>\n",
       "      <td>اغمض عينيك واسترخي بسلام</td>\n",
       "      <td>Gözlerini kapat ve huzurla dinlen.</td>\n",
       "      <td>رصد النجوم تجربة ساحرة</td>\n",
       "      <td>Yıldızları gözlemlemek büyülü bir deneyimdir.</td>\n",
       "    </tr>\n",
       "    <tr>\n",
       "      <th>20</th>\n",
       "      <td>إطلالة جميلة توفر سكينة روحية</td>\n",
       "      <td>Güzel manzara iç huzur sağlar.</td>\n",
       "      <td>الوقت الذي تقضيه مع من تحب يكون ثمينًا</td>\n",
       "      <td>Sevdiklerinle geçirdiğin zaman çok değerlidir.</td>\n",
       "    </tr>\n",
       "    <tr>\n",
       "      <th>21</th>\n",
       "      <td>قضاء الوقت مع من تحب قيمة عظيمة</td>\n",
       "      <td>Sevdiklerinle zaman geçirmek büyük bir değere sahiptir.</td>\n",
       "      <td>إطلالة رائعة تمنح الهدوء الروحي</td>\n",
       "      <td>Harika bir manzara iç huzur sunar.</td>\n",
       "    </tr>\n",
       "    <tr>\n",
       "      <th>22</th>\n",
       "      <td>مشاهدة النجوم تجربة ساحرة</td>\n",
       "      <td>Yıldızları izlemek büyülü bir deneyimdir.</td>\n",
       "      <td>أغلق عينيك واسترح بسكينة</td>\n",
       "      <td>Gözlerini kapat ve sakinleş.</td>\n",
       "    </tr>\n",
       "    <tr>\n",
       "      <th>23</th>\n",
       "      <td>لقاء الأصدقاء القدامى يسعد القلب</td>\n",
       "      <td>Eski dostlarla buluşmak sevinç vericidir</td>\n",
       "      <td>استمتع بيومك مع مشروب ساخن</td>\n",
       "      <td>Sıcak bir içecekle günün keyfini çıkar.</td>\n",
       "    </tr>\n",
       "    <tr>\n",
       "      <th>24</th>\n",
       "      <td>تناول وجبة خفيفة يمنح الطاقة</td>\n",
       "      <td>Hafif bir öğün yemek enerji verir.</td>\n",
       "      <td>التخييم في الطبيعة يحمل الكثير من المغامرات والمرح</td>\n",
       "      <td>Doğada kamp yapmak macera dolu ve eğlenceli bir deneyimdir.</td>\n",
       "    </tr>\n",
       "    <tr>\n",
       "      <th>25</th>\n",
       "      <td>شرب شوربات دافئة في الشتاء رائع</td>\n",
       "      <td>Kışın sıcak çorbalar içmek harika.</td>\n",
       "      <td>التأمل في مكان هادئ يساعد على الاسترخاء</td>\n",
       "      <td>Sessiz bir yerde meditasyon yapmak rahatlatıcıdır ve iç huzur sağlar.</td>\n",
       "    </tr>\n",
       "    <tr>\n",
       "      <th>26</th>\n",
       "      <td>مشاهدة الأفلام مع العائلة ممتع</td>\n",
       "      <td>Aileyle film izlemek keyiflidir.</td>\n",
       "      <td>التجول على الشاطئ يهدئ الأعصاب ويزيل التوتر</td>\n",
       "      <td>Kıyıda gezinmek sinirleri yatıştırır ve gerginliği giderir.</td>\n",
       "    </tr>\n",
       "    <tr>\n",
       "      <th>27</th>\n",
       "      <td>الاحتفال بعيد الميلاد يسعد</td>\n",
       "      <td>Noel kutlamak mutluluk getirir.</td>\n",
       "      <td>التحديق في السماء يؤثر بشكل مهدئ</td>\n",
       "      <td>Gökyüzüne bakmak sakinleştirici bir etkiye sahiptir ve iç huzur sağlar.</td>\n",
       "    </tr>\n",
       "    <tr>\n",
       "      <th>28</th>\n",
       "      <td>الحيوانات الأليفة تجلب الحب والفرح</td>\n",
       "      <td>Evcil hayvanlar sevgi ve neşe getirir</td>\n",
       "      <td>ركوب الدراجة ممتع ومفيد للصحة</td>\n",
       "      <td>Bisiklet sürmek serinletici ve sağlıklı bir aktivitedir.</td>\n",
       "    </tr>\n",
       "    <tr>\n",
       "      <th>29</th>\n",
       "      <td>المشي في الطبيعة ينعش الروح</td>\n",
       "      <td>Doğa yürüyüşleri ruhu canlandırır</td>\n",
       "      <td>الاستمتاع بأوقات الشاطئ في أيام مشمسة يعتبر مسليًا</td>\n",
       "      <td>Güneşli günlerde plajda vakit geçirmek keyiflidir.</td>\n",
       "    </tr>\n",
       "    <tr>\n",
       "      <th>30</th>\n",
       "      <td>عزف الجيتار هو هواية ممتعة</td>\n",
       "      <td>Gitar çalmak eğlenceli bir hobidir.</td>\n",
       "      <td>في فصل الربيع تفتح الزهور وتعود الطبيعة إلى الحياة</td>\n",
       "      <td>Baharda çiçekler açar ve doğa uyanır, bu da manevi bir huzur kaynağıdır.</td>\n",
       "    </tr>\n",
       "    <tr>\n",
       "      <th>31</th>\n",
       "      <td>استكشاف الطبيعة على الدراجة تجربة رائعة</td>\n",
       "      <td>Doğayı bisikletle keşfetmek harika bir deneyim</td>\n",
       "      <td>المشي يمنحك فرصة للتنفس بالهواء النقي</td>\n",
       "      <td>Yürüyüş yapmak taze hava almanızı sağlayan bir deneyimdir.</td>\n",
       "    </tr>\n",
       "    <tr>\n",
       "      <th>32</th>\n",
       "      <td>تناول الآيس كريم منعش ولذيذ</td>\n",
       "      <td>Dondurma yemek ferahlatıcı ve lezzetlidir</td>\n",
       "      <td>تجربة نكهات متنوعة مليء بالمرح والذواقة</td>\n",
       "      <td>Çeşitli tatları denemek eğlenceli ve lezzetlidir.</td>\n",
       "    </tr>\n",
       "    <tr>\n",
       "      <th>33</th>\n",
       "      <td>في الأيام الممطرة، ابق في المنزل واقرأ كتابًا</td>\n",
       "      <td>Yağmurlu günlerde evde kalın ve kitap okuyun.</td>\n",
       "      <td>المشي في الجبال يعزز الحيوية ويحضر الهدوء</td>\n",
       "      <td>Dağlarda yürüyüş yapmak canlılığı artırır ve huzur getirir.</td>\n",
       "    </tr>\n",
       "    <tr>\n",
       "      <th>34</th>\n",
       "      <td>الاستلقاء على الشاطئ في يوم مشمس يمنح الهدوء</td>\n",
       "      <td>Güneşli bir günde sahilde uzanmak huzur verir</td>\n",
       "      <td>استكشاف ثقافات متنوعة مليء بالإثارة والتعليم</td>\n",
       "      <td>Çeşitli kültürleri keşfetmek heyecan verici ve eğitici bir deneyimdir.</td>\n",
       "    </tr>\n",
       "    <tr>\n",
       "      <th>35</th>\n",
       "      <td>النظر إلى لوحة جميلة تجربة عاطفية</td>\n",
       "      <td>Güzel bir tabloya bakmak duygusal bir deneyimdir.</td>\n",
       "      <td>الاسترخاء على شاطئ البحر يمنح السكينة</td>\n",
       "      <td>Deniz kıyısında dinlenmek sakinlik verir</td>\n",
       "    </tr>\n",
       "    <tr>\n",
       "      <th>36</th>\n",
       "      <td>تناول الحلوى يجلب السعادة</td>\n",
       "      <td>Tatlı yemek mutluluk getirir</td>\n",
       "      <td>ممارسة اليوغا تعزز الحيوية وتحضر الهدوء</td>\n",
       "      <td>Yoga yapmak canlılığı artırır ve huzur getirir</td>\n",
       "    </tr>\n",
       "    <tr>\n",
       "      <th>37</th>\n",
       "      <td>التخييم في الطبيعة مليء بالمغامرة ومسلي</td>\n",
       "      <td>Doğada kamp yapmak macera dolu ve eğlencelidir</td>\n",
       "      <td>الاستمتاع بالوقت في الحديقة مطمئن وممتع</td>\n",
       "      <td>Bahçede zamanı keyifli ve huzur dolu bir şekilde geçirmek</td>\n",
       "    </tr>\n",
       "    <tr>\n",
       "      <th>38</th>\n",
       "      <td>الدردشة مع صديق يمكن أن تكون ممتعة</td>\n",
       "      <td>Bir arkadaşınızla sohbet etmek eğlenceli olabilir</td>\n",
       "      <td>الرسم مسلي ومبدع</td>\n",
       "      <td>Resim yapmak eğlenceli ve yaratıcıdır</td>\n",
       "    </tr>\n",
       "    <tr>\n",
       "      <th>39</th>\n",
       "      <td>مشاهدة الألعاب النارية تجربة ساحرة</td>\n",
       "      <td>Ateşli oyunları izlemek büyüleyici bir deneyimdir.</td>\n",
       "      <td>الاستماع إلى الموسيقى يهدئ روحي</td>\n",
       "      <td>Müzik dinlemek ruhumu sakinleştirir.</td>\n",
       "    </tr>\n",
       "    <tr>\n",
       "      <th>40</th>\n",
       "      <td>قضاء يوم جميل في نزهة في الهواء الطلق يكون رائعًا</td>\n",
       "      <td>Temiz havada güzel bir gün geçirmek harikadır.</td>\n",
       "      <td>طهي الطعام ممتع وذواق</td>\n",
       "      <td>Yemek yapmak eğlenceli ve lezzetlidir.</td>\n",
       "    </tr>\n",
       "    <tr>\n",
       "      <th>41</th>\n",
       "      <td>النظر إلى الصور القديمة يحيي الذكريات</td>\n",
       "      <td>Eski fotoğraflara bakmak anıları canlandırır.</td>\n",
       "      <td>الاستمتاع بالكتب في المنزل ممتع ومطلوب</td>\n",
       "      <td>Evde kitapların tadını çıkarmak keyifli ve gereklidir.</td>\n",
       "    </tr>\n",
       "  </tbody>\n",
       "</table>\n",
       "</div>"
      ],
      "text/plain": [
       "                                   arabic_translation  \\\n",
       "0                     القراءة في المنزل ممتعة ومطمئنة   \n",
       "1                               طهي الطعام ممتع ولذيذ   \n",
       "2                     الاستماع إلى الموسيقى يريح روحي   \n",
       "3                                    الرسم مريح ومبدع   \n",
       "4                         قضاء الوقت في الحديقة مطمئن   \n",
       "5              ممارسة اليوغا تمنح الطاقة وتجلب الهدوء   \n",
       "6                      الاسترخاء على شاطئ البحر مطمئن   \n",
       "7                   اكتشاف ثقافات مختلفة مثير وتعليمي   \n",
       "8            المشي في الجبال يمنح الطاقة ويجلب الهدوء   \n",
       "9                     تجربة نكهات مختلفة ممتعة ولذيذة   \n",
       "10                 المشي يسمح لك بالحصول على هواء نقي   \n",
       "11              في الربيع تزهر الزهور وتستيقظ الطبيعة   \n",
       "12           قضاء الوقت على الشاطئ في أيام مشمسة ممتع   \n",
       "13                             ركوب الدراجة منعش وصحي   \n",
       "14                     النظر إلى السماء له تأثير مهدئ   \n",
       "15           المشي على الشاطئ يمنح الهدوء ويزيل الضغط   \n",
       "16                           التأمل في مكان هادئ مريح   \n",
       "17            التخييم في الطبيعة مليء بالمغامرة ومسلي   \n",
       "18                           تمتع بيومك مع مشروب دافئ   \n",
       "19                           اغمض عينيك واسترخي بسلام   \n",
       "20                      إطلالة جميلة توفر سكينة روحية   \n",
       "21                    قضاء الوقت مع من تحب قيمة عظيمة   \n",
       "22                          مشاهدة النجوم تجربة ساحرة   \n",
       "23                   لقاء الأصدقاء القدامى يسعد القلب   \n",
       "24                       تناول وجبة خفيفة يمنح الطاقة   \n",
       "25                    شرب شوربات دافئة في الشتاء رائع   \n",
       "26                     مشاهدة الأفلام مع العائلة ممتع   \n",
       "27                         الاحتفال بعيد الميلاد يسعد   \n",
       "28                 الحيوانات الأليفة تجلب الحب والفرح   \n",
       "29                        المشي في الطبيعة ينعش الروح   \n",
       "30                         عزف الجيتار هو هواية ممتعة   \n",
       "31            استكشاف الطبيعة على الدراجة تجربة رائعة   \n",
       "32                        تناول الآيس كريم منعش ولذيذ   \n",
       "33      في الأيام الممطرة، ابق في المنزل واقرأ كتابًا   \n",
       "34       الاستلقاء على الشاطئ في يوم مشمس يمنح الهدوء   \n",
       "35                  النظر إلى لوحة جميلة تجربة عاطفية   \n",
       "36                          تناول الحلوى يجلب السعادة   \n",
       "37            التخييم في الطبيعة مليء بالمغامرة ومسلي   \n",
       "38                 الدردشة مع صديق يمكن أن تكون ممتعة   \n",
       "39                 مشاهدة الألعاب النارية تجربة ساحرة   \n",
       "40  قضاء يوم جميل في نزهة في الهواء الطلق يكون رائعًا   \n",
       "41              النظر إلى الصور القديمة يحيي الذكريات   \n",
       "\n",
       "                                           translation_meaning  \\\n",
       "0                       Evde okuma keyifli ve huzur vericidir.   \n",
       "1                     Yemek pişirmek eğlenceli ve lezzetlidir.   \n",
       "2                           Müzik dinlemek ruhumu dinlendirir.   \n",
       "3                     Resim yapmak huzur verici ve yaratıcıdır   \n",
       "4                          Bahçede zaman geçirmek huzur verici   \n",
       "5                    Yoga yapmak enerji verir ve huzur getirir   \n",
       "6                       Deniz kenarında rahatlamak huzur verir   \n",
       "7   Farklı kültürleri keşfetmek heyecan verici ve öğreticidir.   \n",
       "8       Dağlarda yürüyüş yapmak enerji verir ve huzur getirir.   \n",
       "9             Farklı tatları denemek eğlenceli ve lezzetlidir.   \n",
       "10                    Yürüyüş yapmak taze hava almanızı sağlar   \n",
       "11                        Baharda çiçekler açar ve doğa uyanır   \n",
       "12         Güneşli günlerde plajda vakit geçirmek eğlencelidir   \n",
       "13                  Bisiklet sürmek serinletici ve sağlıklıdır   \n",
       "14         Gökyüzüne bakmak sakinleştirici bir etkiye sahiptir   \n",
       "15         Sahilde yürümek sakinlik getirir ve stresi azaltır.   \n",
       "16           Sessiz bir yerde meditasyon yapmak rahatlatıcıdır   \n",
       "17              Doğada kamp yapmak macera dolu ve eğlencelidir   \n",
       "18                      Sıcak bir içecekle günün tadını çıkar.   \n",
       "19                          Gözlerini kapat ve huzurla dinlen.   \n",
       "20                              Güzel manzara iç huzur sağlar.   \n",
       "21     Sevdiklerinle zaman geçirmek büyük bir değere sahiptir.   \n",
       "22                   Yıldızları izlemek büyülü bir deneyimdir.   \n",
       "23                    Eski dostlarla buluşmak sevinç vericidir   \n",
       "24                          Hafif bir öğün yemek enerji verir.   \n",
       "25                          Kışın sıcak çorbalar içmek harika.   \n",
       "26                            Aileyle film izlemek keyiflidir.   \n",
       "27                             Noel kutlamak mutluluk getirir.   \n",
       "28                       Evcil hayvanlar sevgi ve neşe getirir   \n",
       "29                           Doğa yürüyüşleri ruhu canlandırır   \n",
       "30                         Gitar çalmak eğlenceli bir hobidir.   \n",
       "31              Doğayı bisikletle keşfetmek harika bir deneyim   \n",
       "32                   Dondurma yemek ferahlatıcı ve lezzetlidir   \n",
       "33               Yağmurlu günlerde evde kalın ve kitap okuyun.   \n",
       "34               Güneşli bir günde sahilde uzanmak huzur verir   \n",
       "35           Güzel bir tabloya bakmak duygusal bir deneyimdir.   \n",
       "36                                Tatlı yemek mutluluk getirir   \n",
       "37              Doğada kamp yapmak macera dolu ve eğlencelidir   \n",
       "38           Bir arkadaşınızla sohbet etmek eğlenceli olabilir   \n",
       "39          Ateşli oyunları izlemek büyüleyici bir deneyimdir.   \n",
       "40              Temiz havada güzel bir gün geçirmek harikadır.   \n",
       "41               Eski fotoğraflara bakmak anıları canlandırır.   \n",
       "\n",
       "                          reversed_arabic_translation1  \\\n",
       "0             الاستمرار في الصور القديمة يجدد الذكريات   \n",
       "1    قضاء يوم جميل في نزهة في الهواء الطلق يكون ممتعًا   \n",
       "2                   مشاهدة الألعاب النارية تجربة رائعة   \n",
       "3                           الحديث مع صديق يجلب المتعة   \n",
       "4   التخييم في الطبيعة يحمل الكثير من المغامرات والمرح   \n",
       "5                             تناول الحلوى يعزز البهجة   \n",
       "6                    التحديق في لوحة جميلة تجربة مؤثرة   \n",
       "7        الاستلقاء على الشاطئ في يوم مشمس يعزز السكينة   \n",
       "8   في الأيام الممطرة، قراءة كتاب في المنزل تمرّن ممتع   \n",
       "9                          تناول الآيس كريم منعش ولذيذ   \n",
       "10           استكشاف الطبيعة بركوب الدراجة تجربة رائعة   \n",
       "11                    العزف على الجيتار هو هواية مسلية   \n",
       "12                        التجول في الطبيعة يحيي الروح   \n",
       "13                 الحيوانات الأليفة تجلب الحب والسرور   \n",
       "14                  الاحتفال بعيد الميلاد يعزز السعادة   \n",
       "15                      مشاهدة الأفلام مع الأسرة يُسعد   \n",
       "16                    شرب الحساء الساخن في الشتاء رائع   \n",
       "17                      تناول وجبة خفيفة يزود بالحيوية   \n",
       "18                  لقاء الأصدقاء القدامى يشعر بالسرور   \n",
       "19                              رصد النجوم تجربة ساحرة   \n",
       "20              الوقت الذي تقضيه مع من تحب يكون ثمينًا   \n",
       "21                     إطلالة رائعة تمنح الهدوء الروحي   \n",
       "22                            أغلق عينيك واسترح بسكينة   \n",
       "23                          استمتع بيومك مع مشروب ساخن   \n",
       "24  التخييم في الطبيعة يحمل الكثير من المغامرات والمرح   \n",
       "25             التأمل في مكان هادئ يساعد على الاسترخاء   \n",
       "26         التجول على الشاطئ يهدئ الأعصاب ويزيل التوتر   \n",
       "27                    التحديق في السماء يؤثر بشكل مهدئ   \n",
       "28                       ركوب الدراجة ممتع ومفيد للصحة   \n",
       "29  الاستمتاع بأوقات الشاطئ في أيام مشمسة يعتبر مسليًا   \n",
       "30  في فصل الربيع تفتح الزهور وتعود الطبيعة إلى الحياة   \n",
       "31               المشي يمنحك فرصة للتنفس بالهواء النقي   \n",
       "32             تجربة نكهات متنوعة مليء بالمرح والذواقة   \n",
       "33           المشي في الجبال يعزز الحيوية ويحضر الهدوء   \n",
       "34        استكشاف ثقافات متنوعة مليء بالإثارة والتعليم   \n",
       "35               الاسترخاء على شاطئ البحر يمنح السكينة   \n",
       "36             ممارسة اليوغا تعزز الحيوية وتحضر الهدوء   \n",
       "37             الاستمتاع بالوقت في الحديقة مطمئن وممتع   \n",
       "38                                    الرسم مسلي ومبدع   \n",
       "39                     الاستماع إلى الموسيقى يهدئ روحي   \n",
       "40                               طهي الطعام ممتع وذواق   \n",
       "41              الاستمتاع بالكتب في المنزل ممتع ومطلوب   \n",
       "\n",
       "                                               reversed_translation_meaning1  \n",
       "0                             Eski fotoğraflara devam etmek anıları yeniler.  \n",
       "1                          Temiz havada güzel bir gün geçirmek eğlencelidir.  \n",
       "2                             Ateşli oyunları izlemek harika bir deneyimdir.  \n",
       "3                                     Bir arkadaşla konuşmak eğlence getirir  \n",
       "4                Doğada kamp yapmak macera dolu ve eğlenceli bir deneyimdir.  \n",
       "5                                            Tatlı yemek mutluluğu arttırır.  \n",
       "6                    Güzel bir tabloya bakmak duygulandırıcı bir deneyimdir.  \n",
       "7                      Güneşli bir günde sahilde uzanmak huzuru teşvik eder.  \n",
       "8             Yağmurlu günlerde evde kitap okumak eğlenceli bir egzersizdir.  \n",
       "9                                  Dondurma yemek ferahlatıcı ve lezzetlidir  \n",
       "10                           Doğayı bisikletle keşfetmek harika bir deneyim.  \n",
       "11                                        Gitar çalmak zevkli bir uğraşıdır.  \n",
       "12                                        Doğa yürüyüşleri ruhu canlandırır.  \n",
       "13                                    Evcil hayvanlar sevgi ve neşe getirir.  \n",
       "14                                          Noel kutlamak mutluluğu artırır.  \n",
       "15                                      Aileyle film izlemek mutluluk verir.  \n",
       "16                                           Kışın sıcak çorba içmek harika.  \n",
       "17                                     Hafif bir öğün yemek canlılık sağlar.  \n",
       "18                                 Eski dostlarla buluşmak sevinç vericidir.  \n",
       "19                             Yıldızları gözlemlemek büyülü bir deneyimdir.  \n",
       "20                            Sevdiklerinle geçirdiğin zaman çok değerlidir.  \n",
       "21                                        Harika bir manzara iç huzur sunar.  \n",
       "22                                              Gözlerini kapat ve sakinleş.  \n",
       "23                                   Sıcak bir içecekle günün keyfini çıkar.  \n",
       "24               Doğada kamp yapmak macera dolu ve eğlenceli bir deneyimdir.  \n",
       "25     Sessiz bir yerde meditasyon yapmak rahatlatıcıdır ve iç huzur sağlar.  \n",
       "26               Kıyıda gezinmek sinirleri yatıştırır ve gerginliği giderir.  \n",
       "27   Gökyüzüne bakmak sakinleştirici bir etkiye sahiptir ve iç huzur sağlar.  \n",
       "28                  Bisiklet sürmek serinletici ve sağlıklı bir aktivitedir.  \n",
       "29                        Güneşli günlerde plajda vakit geçirmek keyiflidir.  \n",
       "30  Baharda çiçekler açar ve doğa uyanır, bu da manevi bir huzur kaynağıdır.  \n",
       "31                Yürüyüş yapmak taze hava almanızı sağlayan bir deneyimdir.  \n",
       "32                         Çeşitli tatları denemek eğlenceli ve lezzetlidir.  \n",
       "33               Dağlarda yürüyüş yapmak canlılığı artırır ve huzur getirir.  \n",
       "34    Çeşitli kültürleri keşfetmek heyecan verici ve eğitici bir deneyimdir.  \n",
       "35                                  Deniz kıyısında dinlenmek sakinlik verir  \n",
       "36                            Yoga yapmak canlılığı artırır ve huzur getirir  \n",
       "37                 Bahçede zamanı keyifli ve huzur dolu bir şekilde geçirmek  \n",
       "38                                     Resim yapmak eğlenceli ve yaratıcıdır  \n",
       "39                                      Müzik dinlemek ruhumu sakinleştirir.  \n",
       "40                                    Yemek yapmak eğlenceli ve lezzetlidir.  \n",
       "41                    Evde kitapların tadını çıkarmak keyifli ve gereklidir.  "
      ]
     },
     "execution_count": 26,
     "metadata": {},
     "output_type": "execute_result"
    }
   ],
   "source": [
    "df[\"reversed_arabic_translation1\"] = df[\"arabic_translation1\"][::-1].values\n",
    "df[\"reversed_translation_meaning1\"] = df[\"translation_meaning1\"][::-1].values\n",
    "df = df[[\"arabic_translation\",\"translation_meaning\",\"reversed_arabic_translation1\",\"reversed_translation_meaning1\"]]\n",
    "df.head()"
   ]
  },
  {
   "cell_type": "code",
   "execution_count": 27,
   "metadata": {},
   "outputs": [
    {
     "name": "stderr",
     "output_type": "stream",
     "text": [
      "Asking to truncate to max_length but no maximum length is provided and the model has no predefined maximum length. Default to no truncation.\n"
     ]
    },
    {
     "name": "stdout",
     "output_type": "stream",
     "text": [
      "0. Cümle çifti:\n",
      "arabic_translation                              القراءة في المنزل ممتعة ومطمئنة\n",
      "translation_meaning                      Evde okuma keyifli ve huzur vericidir.\n",
      "reversed_arabic_translation1           الاستمرار في الصور القديمة يجدد الذكريات\n",
      "reversed_translation_meaning1    Eski fotoğraflara devam etmek anıları yeniler.\n",
      "Name: 0, dtype: object\n",
      "Similarity Score:0.5434937477111816\n",
      "\n"
     ]
    },
    {
     "name": "stderr",
     "output_type": "stream",
     "text": [
      "Asking to truncate to max_length but no maximum length is provided and the model has no predefined maximum length. Default to no truncation.\n"
     ]
    },
    {
     "name": "stdout",
     "output_type": "stream",
     "text": [
      "1. Cümle çifti:\n",
      "arabic_translation                                           طهي الطعام ممتع ولذيذ\n",
      "translation_meaning                       Yemek pişirmek eğlenceli ve lezzetlidir.\n",
      "reversed_arabic_translation1     قضاء يوم جميل في نزهة في الهواء الطلق يكون ممتعًا\n",
      "reversed_translation_meaning1    Temiz havada güzel bir gün geçirmek eğlencelidir.\n",
      "Name: 1, dtype: object\n",
      "Similarity Score:0.565779447555542\n",
      "\n"
     ]
    },
    {
     "name": "stderr",
     "output_type": "stream",
     "text": [
      "Asking to truncate to max_length but no maximum length is provided and the model has no predefined maximum length. Default to no truncation.\n"
     ]
    },
    {
     "name": "stdout",
     "output_type": "stream",
     "text": [
      "2. Cümle çifti:\n",
      "arabic_translation                              الاستماع إلى الموسيقى يريح روحي\n",
      "translation_meaning                          Müzik dinlemek ruhumu dinlendirir.\n",
      "reversed_arabic_translation1                 مشاهدة الألعاب النارية تجربة رائعة\n",
      "reversed_translation_meaning1    Ateşli oyunları izlemek harika bir deneyimdir.\n",
      "Name: 2, dtype: object\n",
      "Similarity Score:0.5965569019317627\n",
      "\n"
     ]
    },
    {
     "name": "stderr",
     "output_type": "stream",
     "text": [
      "Asking to truncate to max_length but no maximum length is provided and the model has no predefined maximum length. Default to no truncation.\n"
     ]
    },
    {
     "name": "stdout",
     "output_type": "stream",
     "text": [
      "3. Cümle çifti:\n",
      "arabic_translation                                       الرسم مريح ومبدع\n",
      "translation_meaning              Resim yapmak huzur verici ve yaratıcıdır\n",
      "reversed_arabic_translation1                   الحديث مع صديق يجلب المتعة\n",
      "reversed_translation_meaning1      Bir arkadaşla konuşmak eğlence getirir\n",
      "Name: 3, dtype: object\n",
      "Similarity Score:0.5705980062484741\n",
      "\n"
     ]
    },
    {
     "name": "stderr",
     "output_type": "stream",
     "text": [
      "Asking to truncate to max_length but no maximum length is provided and the model has no predefined maximum length. Default to no truncation.\n"
     ]
    },
    {
     "name": "stdout",
     "output_type": "stream",
     "text": [
      "4. Cümle çifti:\n",
      "arabic_translation                                               قضاء الوقت في الحديقة مطمئن\n",
      "translation_meaning                                      Bahçede zaman geçirmek huzur verici\n",
      "reversed_arabic_translation1              التخييم في الطبيعة يحمل الكثير من المغامرات والمرح\n",
      "reversed_translation_meaning1    Doğada kamp yapmak macera dolu ve eğlenceli bir deneyimdir.\n",
      "Name: 4, dtype: object\n",
      "Similarity Score:0.6865779161453247\n",
      "\n"
     ]
    },
    {
     "name": "stderr",
     "output_type": "stream",
     "text": [
      "Asking to truncate to max_length but no maximum length is provided and the model has no predefined maximum length. Default to no truncation.\n"
     ]
    },
    {
     "name": "stdout",
     "output_type": "stream",
     "text": [
      "5. Cümle çifti:\n",
      "arabic_translation                  ممارسة اليوغا تمنح الطاقة وتجلب الهدوء\n",
      "translation_meaning              Yoga yapmak enerji verir ve huzur getirir\n",
      "reversed_arabic_translation1                      تناول الحلوى يعزز البهجة\n",
      "reversed_translation_meaning1              Tatlı yemek mutluluğu arttırır.\n",
      "Name: 5, dtype: object\n",
      "Similarity Score:0.6579654812812805\n",
      "\n"
     ]
    },
    {
     "name": "stderr",
     "output_type": "stream",
     "text": [
      "Asking to truncate to max_length but no maximum length is provided and the model has no predefined maximum length. Default to no truncation.\n"
     ]
    },
    {
     "name": "stdout",
     "output_type": "stream",
     "text": [
      "6. Cümle çifti:\n",
      "arabic_translation                                        الاسترخاء على شاطئ البحر مطمئن\n",
      "translation_meaning                               Deniz kenarında rahatlamak huzur verir\n",
      "reversed_arabic_translation1                           التحديق في لوحة جميلة تجربة مؤثرة\n",
      "reversed_translation_meaning1    Güzel bir tabloya bakmak duygulandırıcı bir deneyimdir.\n",
      "Name: 6, dtype: object\n",
      "Similarity Score:0.5439940094947815\n",
      "\n"
     ]
    },
    {
     "name": "stderr",
     "output_type": "stream",
     "text": [
      "Asking to truncate to max_length but no maximum length is provided and the model has no predefined maximum length. Default to no truncation.\n"
     ]
    },
    {
     "name": "stdout",
     "output_type": "stream",
     "text": [
      "7. Cümle çifti:\n",
      "arabic_translation                                        اكتشاف ثقافات مختلفة مثير وتعليمي\n",
      "translation_meaning              Farklı kültürleri keşfetmek heyecan verici ve öğreticidir.\n",
      "reversed_arabic_translation1                  الاستلقاء على الشاطئ في يوم مشمس يعزز السكينة\n",
      "reversed_translation_meaning1         Güneşli bir günde sahilde uzanmak huzuru teşvik eder.\n",
      "Name: 7, dtype: object\n",
      "Similarity Score:0.4768209457397461\n",
      "\n"
     ]
    },
    {
     "name": "stderr",
     "output_type": "stream",
     "text": [
      "Asking to truncate to max_length but no maximum length is provided and the model has no predefined maximum length. Default to no truncation.\n"
     ]
    },
    {
     "name": "stdout",
     "output_type": "stream",
     "text": [
      "8. Cümle çifti:\n",
      "arabic_translation                                     المشي في الجبال يمنح الطاقة ويجلب الهدوء\n",
      "translation_meaning                      Dağlarda yürüyüş yapmak enerji verir ve huzur getirir.\n",
      "reversed_arabic_translation1                 في الأيام الممطرة، قراءة كتاب في المنزل تمرّن ممتع\n",
      "reversed_translation_meaning1    Yağmurlu günlerde evde kitap okumak eğlenceli bir egzersizdir.\n",
      "Name: 8, dtype: object\n",
      "Similarity Score:0.6271557211875916\n",
      "\n"
     ]
    },
    {
     "name": "stderr",
     "output_type": "stream",
     "text": [
      "Asking to truncate to max_length but no maximum length is provided and the model has no predefined maximum length. Default to no truncation.\n"
     ]
    },
    {
     "name": "stdout",
     "output_type": "stream",
     "text": [
      "9. Cümle çifti:\n",
      "arabic_translation                                تجربة نكهات مختلفة ممتعة ولذيذة\n",
      "translation_meaning              Farklı tatları denemek eğlenceli ve lezzetlidir.\n",
      "reversed_arabic_translation1                          تناول الآيس كريم منعش ولذيذ\n",
      "reversed_translation_meaning1           Dondurma yemek ferahlatıcı ve lezzetlidir\n",
      "Name: 9, dtype: object\n",
      "Similarity Score:0.7779927253723145\n",
      "\n"
     ]
    },
    {
     "name": "stderr",
     "output_type": "stream",
     "text": [
      "Asking to truncate to max_length but no maximum length is provided and the model has no predefined maximum length. Default to no truncation.\n"
     ]
    },
    {
     "name": "stdout",
     "output_type": "stream",
     "text": [
      "10. Cümle çifti:\n",
      "arabic_translation                            المشي يسمح لك بالحصول على هواء نقي\n",
      "translation_meaning                     Yürüyüş yapmak taze hava almanızı sağlar\n",
      "reversed_arabic_translation1           استكشاف الطبيعة بركوب الدراجة تجربة رائعة\n",
      "reversed_translation_meaning1    Doğayı bisikletle keşfetmek harika bir deneyim.\n",
      "Name: 10, dtype: object\n",
      "Similarity Score:0.6810298562049866\n",
      "\n"
     ]
    },
    {
     "name": "stderr",
     "output_type": "stream",
     "text": [
      "Asking to truncate to max_length but no maximum length is provided and the model has no predefined maximum length. Default to no truncation.\n"
     ]
    },
    {
     "name": "stdout",
     "output_type": "stream",
     "text": [
      "11. Cümle çifti:\n",
      "arabic_translation               في الربيع تزهر الزهور وتستيقظ الطبيعة\n",
      "translation_meaning               Baharda çiçekler açar ve doğa uyanır\n",
      "reversed_arabic_translation1          العزف على الجيتار هو هواية مسلية\n",
      "reversed_translation_meaning1       Gitar çalmak zevkli bir uğraşıdır.\n",
      "Name: 11, dtype: object\n",
      "Similarity Score:0.4696795642375946\n",
      "\n"
     ]
    },
    {
     "name": "stderr",
     "output_type": "stream",
     "text": [
      "Asking to truncate to max_length but no maximum length is provided and the model has no predefined maximum length. Default to no truncation.\n"
     ]
    },
    {
     "name": "stdout",
     "output_type": "stream",
     "text": [
      "12. Cümle çifti:\n",
      "arabic_translation                          قضاء الوقت على الشاطئ في أيام مشمسة ممتع\n",
      "translation_meaning              Güneşli günlerde plajda vakit geçirmek eğlencelidir\n",
      "reversed_arabic_translation1                            التجول في الطبيعة يحيي الروح\n",
      "reversed_translation_meaning1                     Doğa yürüyüşleri ruhu canlandırır.\n",
      "Name: 12, dtype: object\n",
      "Similarity Score:0.5779407024383545\n",
      "\n"
     ]
    },
    {
     "name": "stderr",
     "output_type": "stream",
     "text": [
      "Asking to truncate to max_length but no maximum length is provided and the model has no predefined maximum length. Default to no truncation.\n"
     ]
    },
    {
     "name": "stdout",
     "output_type": "stream",
     "text": [
      "13. Cümle çifti:\n",
      "arabic_translation                                   ركوب الدراجة منعش وصحي\n",
      "translation_meaning              Bisiklet sürmek serinletici ve sağlıklıdır\n",
      "reversed_arabic_translation1            الحيوانات الأليفة تجلب الحب والسرور\n",
      "reversed_translation_meaning1        Evcil hayvanlar sevgi ve neşe getirir.\n",
      "Name: 13, dtype: object\n",
      "Similarity Score:0.5597069263458252\n",
      "\n"
     ]
    },
    {
     "name": "stderr",
     "output_type": "stream",
     "text": [
      "Asking to truncate to max_length but no maximum length is provided and the model has no predefined maximum length. Default to no truncation.\n"
     ]
    },
    {
     "name": "stdout",
     "output_type": "stream",
     "text": [
      "14. Cümle çifti:\n",
      "arabic_translation                                    النظر إلى السماء له تأثير مهدئ\n",
      "translation_meaning              Gökyüzüne bakmak sakinleştirici bir etkiye sahiptir\n",
      "reversed_arabic_translation1                      الاحتفال بعيد الميلاد يعزز السعادة\n",
      "reversed_translation_meaning1                       Noel kutlamak mutluluğu artırır.\n",
      "Name: 14, dtype: object\n",
      "Similarity Score:0.635570764541626\n",
      "\n"
     ]
    },
    {
     "name": "stderr",
     "output_type": "stream",
     "text": [
      "Asking to truncate to max_length but no maximum length is provided and the model has no predefined maximum length. Default to no truncation.\n"
     ]
    },
    {
     "name": "stdout",
     "output_type": "stream",
     "text": [
      "15. Cümle çifti:\n",
      "arabic_translation                          المشي على الشاطئ يمنح الهدوء ويزيل الضغط\n",
      "translation_meaning              Sahilde yürümek sakinlik getirir ve stresi azaltır.\n",
      "reversed_arabic_translation1                          مشاهدة الأفلام مع الأسرة يُسعد\n",
      "reversed_translation_meaning1                   Aileyle film izlemek mutluluk verir.\n",
      "Name: 15, dtype: object\n",
      "Similarity Score:0.45080700516700745\n",
      "\n"
     ]
    },
    {
     "name": "stderr",
     "output_type": "stream",
     "text": [
      "Asking to truncate to max_length but no maximum length is provided and the model has no predefined maximum length. Default to no truncation.\n"
     ]
    },
    {
     "name": "stdout",
     "output_type": "stream",
     "text": [
      "16. Cümle çifti:\n",
      "arabic_translation                                        التأمل في مكان هادئ مريح\n",
      "translation_meaning              Sessiz bir yerde meditasyon yapmak rahatlatıcıdır\n",
      "reversed_arabic_translation1                      شرب الحساء الساخن في الشتاء رائع\n",
      "reversed_translation_meaning1                      Kışın sıcak çorba içmek harika.\n",
      "Name: 16, dtype: object\n",
      "Similarity Score:0.6961002349853516\n",
      "\n"
     ]
    },
    {
     "name": "stderr",
     "output_type": "stream",
     "text": [
      "Asking to truncate to max_length but no maximum length is provided and the model has no predefined maximum length. Default to no truncation.\n"
     ]
    },
    {
     "name": "stdout",
     "output_type": "stream",
     "text": [
      "17. Cümle çifti:\n",
      "arabic_translation                      التخييم في الطبيعة مليء بالمغامرة ومسلي\n",
      "translation_meaning              Doğada kamp yapmak macera dolu ve eğlencelidir\n",
      "reversed_arabic_translation1                     تناول وجبة خفيفة يزود بالحيوية\n",
      "reversed_translation_meaning1             Hafif bir öğün yemek canlılık sağlar.\n",
      "Name: 17, dtype: object\n",
      "Similarity Score:0.5408655405044556\n",
      "\n"
     ]
    },
    {
     "name": "stderr",
     "output_type": "stream",
     "text": [
      "Asking to truncate to max_length but no maximum length is provided and the model has no predefined maximum length. Default to no truncation.\n"
     ]
    },
    {
     "name": "stdout",
     "output_type": "stream",
     "text": [
      "18. Cümle çifti:\n",
      "arabic_translation                                تمتع بيومك مع مشروب دافئ\n",
      "translation_meaning                 Sıcak bir içecekle günün tadını çıkar.\n",
      "reversed_arabic_translation1            لقاء الأصدقاء القدامى يشعر بالسرور\n",
      "reversed_translation_meaning1    Eski dostlarla buluşmak sevinç vericidir.\n",
      "Name: 18, dtype: object\n",
      "Similarity Score:0.5722841024398804\n",
      "\n"
     ]
    },
    {
     "name": "stderr",
     "output_type": "stream",
     "text": [
      "Asking to truncate to max_length but no maximum length is provided and the model has no predefined maximum length. Default to no truncation.\n"
     ]
    },
    {
     "name": "stdout",
     "output_type": "stream",
     "text": [
      "19. Cümle çifti:\n",
      "arabic_translation                                    اغمض عينيك واسترخي بسلام\n",
      "translation_meaning                         Gözlerini kapat ve huzurla dinlen.\n",
      "reversed_arabic_translation1                            رصد النجوم تجربة ساحرة\n",
      "reversed_translation_meaning1    Yıldızları gözlemlemek büyülü bir deneyimdir.\n",
      "Name: 19, dtype: object\n",
      "Similarity Score:0.44718730449676514\n",
      "\n"
     ]
    },
    {
     "name": "stderr",
     "output_type": "stream",
     "text": [
      "Asking to truncate to max_length but no maximum length is provided and the model has no predefined maximum length. Default to no truncation.\n"
     ]
    },
    {
     "name": "stdout",
     "output_type": "stream",
     "text": [
      "20. Cümle çifti:\n",
      "arabic_translation                                إطلالة جميلة توفر سكينة روحية\n",
      "translation_meaning                              Güzel manzara iç huzur sağlar.\n",
      "reversed_arabic_translation1             الوقت الذي تقضيه مع من تحب يكون ثمينًا\n",
      "reversed_translation_meaning1    Sevdiklerinle geçirdiğin zaman çok değerlidir.\n",
      "Name: 20, dtype: object\n",
      "Similarity Score:0.5141351819038391\n",
      "\n"
     ]
    },
    {
     "name": "stderr",
     "output_type": "stream",
     "text": [
      "Asking to truncate to max_length but no maximum length is provided and the model has no predefined maximum length. Default to no truncation.\n"
     ]
    },
    {
     "name": "stdout",
     "output_type": "stream",
     "text": [
      "21. Cümle çifti:\n",
      "arabic_translation                                       قضاء الوقت مع من تحب قيمة عظيمة\n",
      "translation_meaning              Sevdiklerinle zaman geçirmek büyük bir değere sahiptir.\n",
      "reversed_arabic_translation1                             إطلالة رائعة تمنح الهدوء الروحي\n",
      "reversed_translation_meaning1                         Harika bir manzara iç huzur sunar.\n",
      "Name: 21, dtype: object\n",
      "Similarity Score:0.5640901327133179\n",
      "\n"
     ]
    },
    {
     "name": "stderr",
     "output_type": "stream",
     "text": [
      "Asking to truncate to max_length but no maximum length is provided and the model has no predefined maximum length. Default to no truncation.\n"
     ]
    },
    {
     "name": "stdout",
     "output_type": "stream",
     "text": [
      "22. Cümle çifti:\n",
      "arabic_translation                               مشاهدة النجوم تجربة ساحرة\n",
      "translation_meaning              Yıldızları izlemek büyülü bir deneyimdir.\n",
      "reversed_arabic_translation1                      أغلق عينيك واسترح بسكينة\n",
      "reversed_translation_meaning1                 Gözlerini kapat ve sakinleş.\n",
      "Name: 22, dtype: object\n",
      "Similarity Score:0.5316516160964966\n",
      "\n"
     ]
    },
    {
     "name": "stderr",
     "output_type": "stream",
     "text": [
      "Asking to truncate to max_length but no maximum length is provided and the model has no predefined maximum length. Default to no truncation.\n"
     ]
    },
    {
     "name": "stdout",
     "output_type": "stream",
     "text": [
      "23. Cümle çifti:\n",
      "arabic_translation                       لقاء الأصدقاء القدامى يسعد القلب\n",
      "translation_meaning              Eski dostlarla buluşmak sevinç vericidir\n",
      "reversed_arabic_translation1                   استمتع بيومك مع مشروب ساخن\n",
      "reversed_translation_meaning1     Sıcak bir içecekle günün keyfini çıkar.\n",
      "Name: 23, dtype: object\n",
      "Similarity Score:0.5018240213394165\n",
      "\n"
     ]
    },
    {
     "name": "stderr",
     "output_type": "stream",
     "text": [
      "Asking to truncate to max_length but no maximum length is provided and the model has no predefined maximum length. Default to no truncation.\n"
     ]
    },
    {
     "name": "stdout",
     "output_type": "stream",
     "text": [
      "24. Cümle çifti:\n",
      "arabic_translation                                              تناول وجبة خفيفة يمنح الطاقة\n",
      "translation_meaning                                       Hafif bir öğün yemek enerji verir.\n",
      "reversed_arabic_translation1              التخييم في الطبيعة يحمل الكثير من المغامرات والمرح\n",
      "reversed_translation_meaning1    Doğada kamp yapmak macera dolu ve eğlenceli bir deneyimdir.\n",
      "Name: 24, dtype: object\n",
      "Similarity Score:0.5331725478172302\n",
      "\n"
     ]
    },
    {
     "name": "stderr",
     "output_type": "stream",
     "text": [
      "Asking to truncate to max_length but no maximum length is provided and the model has no predefined maximum length. Default to no truncation.\n"
     ]
    },
    {
     "name": "stdout",
     "output_type": "stream",
     "text": [
      "25. Cümle çifti:\n",
      "arabic_translation                                                     شرب شوربات دافئة في الشتاء رائع\n",
      "translation_meaning                                                 Kışın sıcak çorbalar içmek harika.\n",
      "reversed_arabic_translation1                                   التأمل في مكان هادئ يساعد على الاسترخاء\n",
      "reversed_translation_meaning1    Sessiz bir yerde meditasyon yapmak rahatlatıcıdır ve iç huzur sağlar.\n",
      "Name: 25, dtype: object\n",
      "Similarity Score:0.6584984064102173\n",
      "\n"
     ]
    },
    {
     "name": "stderr",
     "output_type": "stream",
     "text": [
      "Asking to truncate to max_length but no maximum length is provided and the model has no predefined maximum length. Default to no truncation.\n"
     ]
    },
    {
     "name": "stdout",
     "output_type": "stream",
     "text": [
      "26. Cümle çifti:\n",
      "arabic_translation                                            مشاهدة الأفلام مع العائلة ممتع\n",
      "translation_meaning                                         Aileyle film izlemek keyiflidir.\n",
      "reversed_arabic_translation1                     التجول على الشاطئ يهدئ الأعصاب ويزيل التوتر\n",
      "reversed_translation_meaning1    Kıyıda gezinmek sinirleri yatıştırır ve gerginliği giderir.\n",
      "Name: 26, dtype: object\n",
      "Similarity Score:0.407309353351593\n",
      "\n"
     ]
    },
    {
     "name": "stderr",
     "output_type": "stream",
     "text": [
      "Asking to truncate to max_length but no maximum length is provided and the model has no predefined maximum length. Default to no truncation.\n"
     ]
    },
    {
     "name": "stdout",
     "output_type": "stream",
     "text": [
      "27. Cümle çifti:\n",
      "arabic_translation                                                            الاحتفال بعيد الميلاد يسعد\n",
      "translation_meaning                                                      Noel kutlamak mutluluk getirir.\n",
      "reversed_arabic_translation1                                            التحديق في السماء يؤثر بشكل مهدئ\n",
      "reversed_translation_meaning1    Gökyüzüne bakmak sakinleştirici bir etkiye sahiptir ve iç huzur sağlar.\n",
      "Name: 27, dtype: object\n",
      "Similarity Score:0.5384459495544434\n",
      "\n"
     ]
    },
    {
     "name": "stderr",
     "output_type": "stream",
     "text": [
      "Asking to truncate to max_length but no maximum length is provided and the model has no predefined maximum length. Default to no truncation.\n"
     ]
    },
    {
     "name": "stdout",
     "output_type": "stream",
     "text": [
      "28. Cümle çifti:\n",
      "arabic_translation                                     الحيوانات الأليفة تجلب الحب والفرح\n",
      "translation_meaning                                 Evcil hayvanlar sevgi ve neşe getirir\n",
      "reversed_arabic_translation1                                ركوب الدراجة ممتع ومفيد للصحة\n",
      "reversed_translation_meaning1    Bisiklet sürmek serinletici ve sağlıklı bir aktivitedir.\n",
      "Name: 28, dtype: object\n",
      "Similarity Score:0.5679724216461182\n",
      "\n"
     ]
    },
    {
     "name": "stderr",
     "output_type": "stream",
     "text": [
      "Asking to truncate to max_length but no maximum length is provided and the model has no predefined maximum length. Default to no truncation.\n"
     ]
    },
    {
     "name": "stdout",
     "output_type": "stream",
     "text": [
      "29. Cümle çifti:\n",
      "arabic_translation                                      المشي في الطبيعة ينعش الروح\n",
      "translation_meaning                               Doğa yürüyüşleri ruhu canlandırır\n",
      "reversed_arabic_translation1     الاستمتاع بأوقات الشاطئ في أيام مشمسة يعتبر مسليًا\n",
      "reversed_translation_meaning1    Güneşli günlerde plajda vakit geçirmek keyiflidir.\n",
      "Name: 29, dtype: object\n",
      "Similarity Score:0.611172616481781\n",
      "\n"
     ]
    },
    {
     "name": "stderr",
     "output_type": "stream",
     "text": [
      "Asking to truncate to max_length but no maximum length is provided and the model has no predefined maximum length. Default to no truncation.\n"
     ]
    },
    {
     "name": "stdout",
     "output_type": "stream",
     "text": [
      "30. Cümle çifti:\n",
      "arabic_translation                                                             عزف الجيتار هو هواية ممتعة\n",
      "translation_meaning                                                   Gitar çalmak eğlenceli bir hobidir.\n",
      "reversed_arabic_translation1                           في فصل الربيع تفتح الزهور وتعود الطبيعة إلى الحياة\n",
      "reversed_translation_meaning1    Baharda çiçekler açar ve doğa uyanır, bu da manevi bir huzur kaynağıdır.\n",
      "Name: 30, dtype: object\n",
      "Similarity Score:0.5417399406433105\n",
      "\n"
     ]
    },
    {
     "name": "stderr",
     "output_type": "stream",
     "text": [
      "Asking to truncate to max_length but no maximum length is provided and the model has no predefined maximum length. Default to no truncation.\n"
     ]
    },
    {
     "name": "stdout",
     "output_type": "stream",
     "text": [
      "31. Cümle çifti:\n",
      "arabic_translation                                  استكشاف الطبيعة على الدراجة تجربة رائعة\n",
      "translation_meaning                          Doğayı bisikletle keşfetmek harika bir deneyim\n",
      "reversed_arabic_translation1                          المشي يمنحك فرصة للتنفس بالهواء النقي\n",
      "reversed_translation_meaning1    Yürüyüş yapmak taze hava almanızı sağlayan bir deneyimdir.\n",
      "Name: 31, dtype: object\n",
      "Similarity Score:0.6655237078666687\n",
      "\n"
     ]
    },
    {
     "name": "stderr",
     "output_type": "stream",
     "text": [
      "Asking to truncate to max_length but no maximum length is provided and the model has no predefined maximum length. Default to no truncation.\n"
     ]
    },
    {
     "name": "stdout",
     "output_type": "stream",
     "text": [
      "32. Cümle çifti:\n",
      "arabic_translation                                     تناول الآيس كريم منعش ولذيذ\n",
      "translation_meaning                      Dondurma yemek ferahlatıcı ve lezzetlidir\n",
      "reversed_arabic_translation1               تجربة نكهات متنوعة مليء بالمرح والذواقة\n",
      "reversed_translation_meaning1    Çeşitli tatları denemek eğlenceli ve lezzetlidir.\n",
      "Name: 32, dtype: object\n",
      "Similarity Score:0.7025274038314819\n",
      "\n"
     ]
    },
    {
     "name": "stderr",
     "output_type": "stream",
     "text": [
      "Asking to truncate to max_length but no maximum length is provided and the model has no predefined maximum length. Default to no truncation.\n"
     ]
    },
    {
     "name": "stdout",
     "output_type": "stream",
     "text": [
      "33. Cümle çifti:\n",
      "arabic_translation                             في الأيام الممطرة، ابق في المنزل واقرأ كتابًا\n",
      "translation_meaning                            Yağmurlu günlerde evde kalın ve kitap okuyun.\n",
      "reversed_arabic_translation1                       المشي في الجبال يعزز الحيوية ويحضر الهدوء\n",
      "reversed_translation_meaning1    Dağlarda yürüyüş yapmak canlılığı artırır ve huzur getirir.\n",
      "Name: 33, dtype: object\n",
      "Similarity Score:0.5955797433853149\n",
      "\n"
     ]
    },
    {
     "name": "stderr",
     "output_type": "stream",
     "text": [
      "Asking to truncate to max_length but no maximum length is provided and the model has no predefined maximum length. Default to no truncation.\n"
     ]
    },
    {
     "name": "stdout",
     "output_type": "stream",
     "text": [
      "34. Cümle çifti:\n",
      "arabic_translation                                         الاستلقاء على الشاطئ في يوم مشمس يمنح الهدوء\n",
      "translation_meaning                                       Güneşli bir günde sahilde uzanmak huzur verir\n",
      "reversed_arabic_translation1                               استكشاف ثقافات متنوعة مليء بالإثارة والتعليم\n",
      "reversed_translation_meaning1    Çeşitli kültürleri keşfetmek heyecan verici ve eğitici bir deneyimdir.\n",
      "Name: 34, dtype: object\n",
      "Similarity Score:0.6093009114265442\n",
      "\n"
     ]
    },
    {
     "name": "stderr",
     "output_type": "stream",
     "text": [
      "Asking to truncate to max_length but no maximum length is provided and the model has no predefined maximum length. Default to no truncation.\n"
     ]
    },
    {
     "name": "stdout",
     "output_type": "stream",
     "text": [
      "35. Cümle çifti:\n",
      "arabic_translation                               النظر إلى لوحة جميلة تجربة عاطفية\n",
      "translation_meaning              Güzel bir tabloya bakmak duygusal bir deneyimdir.\n",
      "reversed_arabic_translation1                 الاسترخاء على شاطئ البحر يمنح السكينة\n",
      "reversed_translation_meaning1             Deniz kıyısında dinlenmek sakinlik verir\n",
      "Name: 35, dtype: object\n",
      "Similarity Score:0.5643027424812317\n",
      "\n"
     ]
    },
    {
     "name": "stderr",
     "output_type": "stream",
     "text": [
      "Asking to truncate to max_length but no maximum length is provided and the model has no predefined maximum length. Default to no truncation.\n"
     ]
    },
    {
     "name": "stdout",
     "output_type": "stream",
     "text": [
      "36. Cümle çifti:\n",
      "arabic_translation                                    تناول الحلوى يجلب السعادة\n",
      "translation_meaning                                Tatlı yemek mutluluk getirir\n",
      "reversed_arabic_translation1            ممارسة اليوغا تعزز الحيوية وتحضر الهدوء\n",
      "reversed_translation_meaning1    Yoga yapmak canlılığı artırır ve huzur getirir\n",
      "Name: 36, dtype: object\n",
      "Similarity Score:0.6522263288497925\n",
      "\n"
     ]
    },
    {
     "name": "stderr",
     "output_type": "stream",
     "text": [
      "Asking to truncate to max_length but no maximum length is provided and the model has no predefined maximum length. Default to no truncation.\n"
     ]
    },
    {
     "name": "stdout",
     "output_type": "stream",
     "text": [
      "37. Cümle çifti:\n",
      "arabic_translation                                 التخييم في الطبيعة مليء بالمغامرة ومسلي\n",
      "translation_meaning                         Doğada kamp yapmak macera dolu ve eğlencelidir\n",
      "reversed_arabic_translation1                       الاستمتاع بالوقت في الحديقة مطمئن وممتع\n",
      "reversed_translation_meaning1    Bahçede zamanı keyifli ve huzur dolu bir şekilde geçirmek\n",
      "Name: 37, dtype: object\n",
      "Similarity Score:0.7861298322677612\n",
      "\n"
     ]
    },
    {
     "name": "stderr",
     "output_type": "stream",
     "text": [
      "Asking to truncate to max_length but no maximum length is provided and the model has no predefined maximum length. Default to no truncation.\n"
     ]
    },
    {
     "name": "stdout",
     "output_type": "stream",
     "text": [
      "38. Cümle çifti:\n",
      "arabic_translation                              الدردشة مع صديق يمكن أن تكون ممتعة\n",
      "translation_meaning              Bir arkadaşınızla sohbet etmek eğlenceli olabilir\n",
      "reversed_arabic_translation1                                      الرسم مسلي ومبدع\n",
      "reversed_translation_meaning1                Resim yapmak eğlenceli ve yaratıcıdır\n",
      "Name: 38, dtype: object\n",
      "Similarity Score:0.37512463331222534\n",
      "\n"
     ]
    },
    {
     "name": "stderr",
     "output_type": "stream",
     "text": [
      "Asking to truncate to max_length but no maximum length is provided and the model has no predefined maximum length. Default to no truncation.\n"
     ]
    },
    {
     "name": "stdout",
     "output_type": "stream",
     "text": [
      "39. Cümle çifti:\n",
      "arabic_translation                               مشاهدة الألعاب النارية تجربة ساحرة\n",
      "translation_meaning              Ateşli oyunları izlemek büyüleyici bir deneyimdir.\n",
      "reversed_arabic_translation1                        الاستماع إلى الموسيقى يهدئ روحي\n",
      "reversed_translation_meaning1                  Müzik dinlemek ruhumu sakinleştirir.\n",
      "Name: 39, dtype: object\n",
      "Similarity Score:0.5842747092247009\n",
      "\n"
     ]
    },
    {
     "name": "stderr",
     "output_type": "stream",
     "text": [
      "Asking to truncate to max_length but no maximum length is provided and the model has no predefined maximum length. Default to no truncation.\n"
     ]
    },
    {
     "name": "stdout",
     "output_type": "stream",
     "text": [
      "40. Cümle çifti:\n",
      "arabic_translation               قضاء يوم جميل في نزهة في الهواء الطلق يكون رائعًا\n",
      "translation_meaning                 Temiz havada güzel bir gün geçirmek harikadır.\n",
      "reversed_arabic_translation1                                 طهي الطعام ممتع وذواق\n",
      "reversed_translation_meaning1               Yemek yapmak eğlenceli ve lezzetlidir.\n",
      "Name: 40, dtype: object\n",
      "Similarity Score:0.554597795009613\n",
      "\n"
     ]
    },
    {
     "name": "stderr",
     "output_type": "stream",
     "text": [
      "Asking to truncate to max_length but no maximum length is provided and the model has no predefined maximum length. Default to no truncation.\n"
     ]
    },
    {
     "name": "stdout",
     "output_type": "stream",
     "text": [
      "41. Cümle çifti:\n",
      "arabic_translation                                النظر إلى الصور القديمة يحيي الذكريات\n",
      "translation_meaning                       Eski fotoğraflara bakmak anıları canlandırır.\n",
      "reversed_arabic_translation1                     الاستمتاع بالكتب في المنزل ممتع ومطلوب\n",
      "reversed_translation_meaning1    Evde kitapların tadını çıkarmak keyifli ve gereklidir.\n",
      "Name: 41, dtype: object\n",
      "Similarity Score:0.5378739833831787\n",
      "\n"
     ]
    }
   ],
   "source": [
    "camel_list_reversed = []\n",
    "for index, row in df.iterrows():\n",
    "    score = camel.get_similarity([row[\"arabic_translation\"],row[\"reversed_arabic_translation1\"]])\n",
    "    print(f\"{index}. Cümle çifti:\\n{row}\\nSimilarity Score:{score}\\n\")\n",
    "    camel_list_reversed.append(score)"
   ]
  },
  {
   "cell_type": "code",
   "execution_count": 28,
   "metadata": {},
   "outputs": [
    {
     "name": "stdout",
     "output_type": "stream",
     "text": [
      "camelbert reversed ortalama: 0.5779900210244315\n"
     ]
    }
   ],
   "source": [
    "average_camel = sum(camel_list_reversed) / len(camel_list_reversed)\n",
    "print(f\"camelbert reversed ortalama: {average_camel}\")"
   ]
  },
  {
   "cell_type": "markdown",
   "metadata": {},
   "source": [
    "# ARABERT"
   ]
  },
  {
   "cell_type": "markdown",
   "metadata": {},
   "source": [
    "### bert-large-arabertv02"
   ]
  },
  {
   "cell_type": "code",
   "execution_count": null,
   "metadata": {},
   "outputs": [],
   "source": [
    "from config import Configurator\n",
    "from arabic_transformer import SentenceTransformer\n",
    "import pandas as pd\n",
    "\n",
    "pd.set_option('display.max_colwidth', None)\n",
    "\n",
    "cfg = Configurator(json_file_path=\"sentences.json\")\n",
    "df = pd.DataFrame(cfg.data[\"sentences\"])\n",
    "df.head()"
   ]
  },
  {
   "cell_type": "code",
   "execution_count": 46,
   "metadata": {},
   "outputs": [
    {
     "name": "stdout",
     "output_type": "stream",
     "text": [
      "ولن نبالغ إذا قلنا : إن هاتف أو كمبيوتر المكتب في زمننا هذا ضروري\n"
     ]
    }
   ],
   "source": [
    "from arabert.preprocess import ArabertPreprocessor\n",
    "\n",
    "model_name=\"aubmindlab/bert-large-arabertv02\"\n",
    "arabert_prep = ArabertPreprocessor(model_name=model_name)\n",
    "\n",
    "text = \"ولن نبالغ إذا قلنا: إن هاتف أو كمبيوتر المكتب في زمننا هذا ضروري\"\n",
    "text_preprocces = arabert_prep.preprocess(text)\n",
    "print(text_preprocces)"
   ]
  },
  {
   "cell_type": "code",
   "execution_count": 47,
   "metadata": {},
   "outputs": [],
   "source": [
    "arabert_large_v02 = SentenceTransformer(model_name=model_name)"
   ]
  },
  {
   "cell_type": "code",
   "execution_count": 48,
   "metadata": {},
   "outputs": [
    {
     "data": {
      "text/plain": [
       "0.7703359"
      ]
     },
     "execution_count": 48,
     "metadata": {},
     "output_type": "execute_result"
    }
   ],
   "source": [
    "arabert_large_v02.get_similarity(sentences=[arabert_prep.preprocess(\"القراءة في المنزل ممتعة ومطمئنة\"), arabert_prep.preprocess(\"الاستمتاع بالكتب في المنزل ممتع ومطلوب\")])"
   ]
  },
  {
   "cell_type": "code",
   "execution_count": 49,
   "metadata": {},
   "outputs": [
    {
     "data": {
      "text/plain": [
       "0.7703359"
      ]
     },
     "execution_count": 49,
     "metadata": {},
     "output_type": "execute_result"
    }
   ],
   "source": [
    "arabert_large_v02.get_similarity(sentences=[\"القراءة في المنزل ممتعة ومطمئنة\",\"الاستمتاع بالكتب في المنزل ممتع ومطلوب\"])"
   ]
  },
  {
   "cell_type": "code",
   "execution_count": 50,
   "metadata": {},
   "outputs": [
    {
     "data": {
      "text/plain": [
       "0.5079924"
      ]
     },
     "execution_count": 50,
     "metadata": {},
     "output_type": "execute_result"
    }
   ],
   "source": [
    "arabert_large_v02.get_similarity(sentences=[\"طهي الطعام ممتع ولذيذ\",\"القراءة في المنزل ممتعة ومطمئنة\"])\n",
    "## Yemek pişirmek eğlenceli ve lezzetlidir / Evde kitap okumak eğlenceli ve güven vericidir"
   ]
  },
  {
   "cell_type": "code",
   "execution_count": 51,
   "metadata": {},
   "outputs": [
    {
     "name": "stdout",
     "output_type": "stream",
     "text": [
      "0. Cümle çifti:\n",
      "arabic_translation                             القراءة في المنزل ممتعة ومطمئنة\n",
      "arabic_translation1                     الاستمتاع بالكتب في المنزل ممتع ومطلوب\n",
      "translation_meaning                     Evde okuma keyifli ve huzur vericidir.\n",
      "translation_meaning1    Evde kitapların tadını çıkarmak keyifli ve gereklidir.\n",
      "Name: 0, dtype: object\n",
      "Similarity Score:0.7703359127044678\n",
      "\n",
      "1. Cümle çifti:\n",
      "arabic_translation                         طهي الطعام ممتع ولذيذ\n",
      "arabic_translation1                        طهي الطعام ممتع وذواق\n",
      "translation_meaning     Yemek pişirmek eğlenceli ve lezzetlidir.\n",
      "translation_meaning1      Yemek yapmak eğlenceli ve lezzetlidir.\n",
      "Name: 1, dtype: object\n",
      "Similarity Score:0.8880246877670288\n",
      "\n",
      "2. Cümle çifti:\n",
      "arabic_translation           الاستماع إلى الموسيقى يريح روحي\n",
      "arabic_translation1          الاستماع إلى الموسيقى يهدئ روحي\n",
      "translation_meaning       Müzik dinlemek ruhumu dinlendirir.\n",
      "translation_meaning1    Müzik dinlemek ruhumu sakinleştirir.\n",
      "Name: 2, dtype: object\n",
      "Similarity Score:0.8417000770568848\n",
      "\n",
      "3. Cümle çifti:\n",
      "arabic_translation                              الرسم مريح ومبدع\n",
      "arabic_translation1                             الرسم مسلي ومبدع\n",
      "translation_meaning     Resim yapmak huzur verici ve yaratıcıdır\n",
      "translation_meaning1       Resim yapmak eğlenceli ve yaratıcıdır\n",
      "Name: 3, dtype: object\n",
      "Similarity Score:0.8296158313751221\n",
      "\n",
      "4. Cümle çifti:\n",
      "arabic_translation                                    قضاء الوقت في الحديقة مطمئن\n",
      "arabic_translation1                       الاستمتاع بالوقت في الحديقة مطمئن وممتع\n",
      "translation_meaning                           Bahçede zaman geçirmek huzur verici\n",
      "translation_meaning1    Bahçede zamanı keyifli ve huzur dolu bir şekilde geçirmek\n",
      "Name: 4, dtype: object\n",
      "Similarity Score:0.8873790502548218\n",
      "\n",
      "5. Cümle çifti:\n",
      "arabic_translation              ممارسة اليوغا تمنح الطاقة وتجلب الهدوء\n",
      "arabic_translation1            ممارسة اليوغا تعزز الحيوية وتحضر الهدوء\n",
      "translation_meaning          Yoga yapmak enerji verir ve huzur getirir\n",
      "translation_meaning1    Yoga yapmak canlılığı artırır ve huzur getirir\n",
      "Name: 5, dtype: object\n",
      "Similarity Score:0.8828047513961792\n",
      "\n",
      "6. Cümle çifti:\n",
      "arabic_translation                الاسترخاء على شاطئ البحر مطمئن\n",
      "arabic_translation1        الاسترخاء على شاطئ البحر يمنح السكينة\n",
      "translation_meaning       Deniz kenarında rahatlamak huzur verir\n",
      "translation_meaning1    Deniz kıyısında dinlenmek sakinlik verir\n",
      "Name: 6, dtype: object\n",
      "Similarity Score:0.8503198027610779\n",
      "\n",
      "7. Cümle çifti:\n",
      "arabic_translation                                           اكتشاف ثقافات مختلفة مثير وتعليمي\n",
      "arabic_translation1                               استكشاف ثقافات متنوعة مليء بالإثارة والتعليم\n",
      "translation_meaning                 Farklı kültürleri keşfetmek heyecan verici ve öğreticidir.\n",
      "translation_meaning1    Çeşitli kültürleri keşfetmek heyecan verici ve eğitici bir deneyimdir.\n",
      "Name: 7, dtype: object\n",
      "Similarity Score:0.7566172480583191\n",
      "\n",
      "8. Cümle çifti:\n",
      "arabic_translation                         المشي في الجبال يمنح الطاقة ويجلب الهدوء\n",
      "arabic_translation1                       المشي في الجبال يعزز الحيوية ويحضر الهدوء\n",
      "translation_meaning          Dağlarda yürüyüş yapmak enerji verir ve huzur getirir.\n",
      "translation_meaning1    Dağlarda yürüyüş yapmak canlılığı artırır ve huzur getirir.\n",
      "Name: 8, dtype: object\n",
      "Similarity Score:0.8283007144927979\n",
      "\n",
      "9. Cümle çifti:\n",
      "arabic_translation                        تجربة نكهات مختلفة ممتعة ولذيذة\n",
      "arabic_translation1               تجربة نكهات متنوعة مليء بالمرح والذواقة\n",
      "translation_meaning      Farklı tatları denemek eğlenceli ve lezzetlidir.\n",
      "translation_meaning1    Çeşitli tatları denemek eğlenceli ve lezzetlidir.\n",
      "Name: 9, dtype: object\n",
      "Similarity Score:0.8325850367546082\n",
      "\n",
      "10. Cümle çifti:\n",
      "arabic_translation                              المشي يسمح لك بالحصول على هواء نقي\n",
      "arabic_translation1                          المشي يمنحك فرصة للتنفس بالهواء النقي\n",
      "translation_meaning                       Yürüyüş yapmak taze hava almanızı sağlar\n",
      "translation_meaning1    Yürüyüş yapmak taze hava almanızı sağlayan bir deneyimdir.\n",
      "Name: 10, dtype: object\n",
      "Similarity Score:0.7939260601997375\n",
      "\n",
      "11. Cümle çifti:\n",
      "arabic_translation                                         في الربيع تزهر الزهور وتستيقظ الطبيعة\n",
      "arabic_translation1                           في فصل الربيع تفتح الزهور وتعود الطبيعة إلى الحياة\n",
      "translation_meaning                                         Baharda çiçekler açar ve doğa uyanır\n",
      "translation_meaning1    Baharda çiçekler açar ve doğa uyanır, bu da manevi bir huzur kaynağıdır.\n",
      "Name: 11, dtype: object\n",
      "Similarity Score:0.8287070989608765\n",
      "\n",
      "12. Cümle çifti:\n",
      "arabic_translation                 قضاء الوقت على الشاطئ في أيام مشمسة ممتع\n",
      "arabic_translation1      الاستمتاع بأوقات الشاطئ في أيام مشمسة يعتبر مسليًا\n",
      "translation_meaning     Güneşli günlerde plajda vakit geçirmek eğlencelidir\n",
      "translation_meaning1     Güneşli günlerde plajda vakit geçirmek keyiflidir.\n",
      "Name: 12, dtype: object\n",
      "Similarity Score:0.7730875015258789\n",
      "\n",
      "13. Cümle çifti:\n",
      "arabic_translation                                        ركوب الدراجة منعش وصحي\n",
      "arabic_translation1                                ركوب الدراجة ممتع ومفيد للصحة\n",
      "translation_meaning                   Bisiklet sürmek serinletici ve sağlıklıdır\n",
      "translation_meaning1    Bisiklet sürmek serinletici ve sağlıklı bir aktivitedir.\n",
      "Name: 13, dtype: object\n",
      "Similarity Score:0.8145897388458252\n",
      "\n",
      "14. Cümle çifti:\n",
      "arabic_translation                                               النظر إلى السماء له تأثير مهدئ\n",
      "arabic_translation1                                            التحديق في السماء يؤثر بشكل مهدئ\n",
      "translation_meaning                         Gökyüzüne bakmak sakinleştirici bir etkiye sahiptir\n",
      "translation_meaning1    Gökyüzüne bakmak sakinleştirici bir etkiye sahiptir ve iç huzur sağlar.\n",
      "Name: 14, dtype: object\n",
      "Similarity Score:0.8190233707427979\n",
      "\n",
      "15. Cümle çifti:\n",
      "arabic_translation                         المشي على الشاطئ يمنح الهدوء ويزيل الضغط\n",
      "arabic_translation1                     التجول على الشاطئ يهدئ الأعصاب ويزيل التوتر\n",
      "translation_meaning             Sahilde yürümek sakinlik getirir ve stresi azaltır.\n",
      "translation_meaning1    Kıyıda gezinmek sinirleri yatıştırır ve gerginliği giderir.\n",
      "Name: 15, dtype: object\n",
      "Similarity Score:0.8294162750244141\n",
      "\n",
      "16. Cümle çifti:\n",
      "arabic_translation                                                   التأمل في مكان هادئ مريح\n",
      "arabic_translation1                                   التأمل في مكان هادئ يساعد على الاسترخاء\n",
      "translation_meaning                         Sessiz bir yerde meditasyon yapmak rahatlatıcıdır\n",
      "translation_meaning1    Sessiz bir yerde meditasyon yapmak rahatlatıcıdır ve iç huzur sağlar.\n",
      "Name: 16, dtype: object\n",
      "Similarity Score:0.708037257194519\n",
      "\n",
      "17. Cümle çifti:\n",
      "arabic_translation                          التخييم في الطبيعة مليء بالمغامرة ومسلي\n",
      "arabic_translation1              التخييم في الطبيعة يحمل الكثير من المغامرات والمرح\n",
      "translation_meaning                  Doğada kamp yapmak macera dolu ve eğlencelidir\n",
      "translation_meaning1    Doğada kamp yapmak macera dolu ve eğlenceli bir deneyimdir.\n",
      "Name: 17, dtype: object\n",
      "Similarity Score:0.8234292268753052\n",
      "\n",
      "18. Cümle çifti:\n",
      "arabic_translation                     تمتع بيومك مع مشروب دافئ\n",
      "arabic_translation1                  استمتع بيومك مع مشروب ساخن\n",
      "translation_meaning      Sıcak bir içecekle günün tadını çıkar.\n",
      "translation_meaning1    Sıcak bir içecekle günün keyfini çıkar.\n",
      "Name: 18, dtype: object\n",
      "Similarity Score:0.9410479068756104\n",
      "\n",
      "19. Cümle çifti:\n",
      "arabic_translation                اغمض عينيك واسترخي بسلام\n",
      "arabic_translation1               أغلق عينيك واسترح بسكينة\n",
      "translation_meaning     Gözlerini kapat ve huzurla dinlen.\n",
      "translation_meaning1          Gözlerini kapat ve sakinleş.\n",
      "Name: 19, dtype: object\n",
      "Similarity Score:0.8054516315460205\n",
      "\n",
      "20. Cümle çifti:\n",
      "arabic_translation           إطلالة جميلة توفر سكينة روحية\n",
      "arabic_translation1        إطلالة رائعة تمنح الهدوء الروحي\n",
      "translation_meaning         Güzel manzara iç huzur sağlar.\n",
      "translation_meaning1    Harika bir manzara iç huzur sunar.\n",
      "Name: 20, dtype: object\n",
      "Similarity Score:0.8128712773323059\n",
      "\n",
      "21. Cümle çifti:\n",
      "arabic_translation                              قضاء الوقت مع من تحب قيمة عظيمة\n",
      "arabic_translation1                      الوقت الذي تقضيه مع من تحب يكون ثمينًا\n",
      "translation_meaning     Sevdiklerinle zaman geçirmek büyük bir değere sahiptir.\n",
      "translation_meaning1             Sevdiklerinle geçirdiğin zaman çok değerlidir.\n",
      "Name: 21, dtype: object\n",
      "Similarity Score:0.7034051418304443\n",
      "\n",
      "22. Cümle çifti:\n",
      "arabic_translation                          مشاهدة النجوم تجربة ساحرة\n",
      "arabic_translation1                            رصد النجوم تجربة ساحرة\n",
      "translation_meaning         Yıldızları izlemek büyülü bir deneyimdir.\n",
      "translation_meaning1    Yıldızları gözlemlemek büyülü bir deneyimdir.\n",
      "Name: 22, dtype: object\n",
      "Similarity Score:0.8883754014968872\n",
      "\n",
      "23. Cümle çifti:\n",
      "arabic_translation               لقاء الأصدقاء القدامى يسعد القلب\n",
      "arabic_translation1            لقاء الأصدقاء القدامى يشعر بالسرور\n",
      "translation_meaning      Eski dostlarla buluşmak sevinç vericidir\n",
      "translation_meaning1    Eski dostlarla buluşmak sevinç vericidir.\n",
      "Name: 23, dtype: object\n",
      "Similarity Score:0.827165961265564\n",
      "\n",
      "24. Cümle çifti:\n",
      "arabic_translation               تناول وجبة خفيفة يمنح الطاقة\n",
      "arabic_translation1            تناول وجبة خفيفة يزود بالحيوية\n",
      "translation_meaning        Hafif bir öğün yemek enerji verir.\n",
      "translation_meaning1    Hafif bir öğün yemek canlılık sağlar.\n",
      "Name: 24, dtype: object\n",
      "Similarity Score:0.8177322149276733\n",
      "\n",
      "25. Cümle çifti:\n",
      "arabic_translation         شرب شوربات دافئة في الشتاء رائع\n",
      "arabic_translation1       شرب الحساء الساخن في الشتاء رائع\n",
      "translation_meaning     Kışın sıcak çorbalar içmek harika.\n",
      "translation_meaning1       Kışın sıcak çorba içmek harika.\n",
      "Name: 25, dtype: object\n",
      "Similarity Score:0.8994494080543518\n",
      "\n",
      "26. Cümle çifti:\n",
      "arabic_translation            مشاهدة الأفلام مع العائلة ممتع\n",
      "arabic_translation1           مشاهدة الأفلام مع الأسرة يُسعد\n",
      "translation_meaning         Aileyle film izlemek keyiflidir.\n",
      "translation_meaning1    Aileyle film izlemek mutluluk verir.\n",
      "Name: 26, dtype: object\n",
      "Similarity Score:0.7700358629226685\n",
      "\n",
      "27. Cümle çifti:\n",
      "arabic_translation              الاحتفال بعيد الميلاد يسعد\n",
      "arabic_translation1     الاحتفال بعيد الميلاد يعزز السعادة\n",
      "translation_meaning        Noel kutlamak mutluluk getirir.\n",
      "translation_meaning1      Noel kutlamak mutluluğu artırır.\n",
      "Name: 27, dtype: object\n",
      "Similarity Score:0.833368182182312\n",
      "\n",
      "28. Cümle çifti:\n",
      "arabic_translation          الحيوانات الأليفة تجلب الحب والفرح\n",
      "arabic_translation1        الحيوانات الأليفة تجلب الحب والسرور\n",
      "translation_meaning      Evcil hayvanlar sevgi ve neşe getirir\n",
      "translation_meaning1    Evcil hayvanlar sevgi ve neşe getirir.\n",
      "Name: 28, dtype: object\n",
      "Similarity Score:0.9835437536239624\n",
      "\n",
      "29. Cümle çifti:\n",
      "arabic_translation             المشي في الطبيعة ينعش الروح\n",
      "arabic_translation1           التجول في الطبيعة يحيي الروح\n",
      "translation_meaning      Doğa yürüyüşleri ruhu canlandırır\n",
      "translation_meaning1    Doğa yürüyüşleri ruhu canlandırır.\n",
      "Name: 29, dtype: object\n",
      "Similarity Score:0.86821448802948\n",
      "\n",
      "30. Cümle çifti:\n",
      "arabic_translation               عزف الجيتار هو هواية ممتعة\n",
      "arabic_translation1        العزف على الجيتار هو هواية مسلية\n",
      "translation_meaning     Gitar çalmak eğlenceli bir hobidir.\n",
      "translation_meaning1     Gitar çalmak zevkli bir uğraşıdır.\n",
      "Name: 30, dtype: object\n",
      "Similarity Score:0.8855108022689819\n",
      "\n",
      "31. Cümle çifti:\n",
      "arabic_translation              استكشاف الطبيعة على الدراجة تجربة رائعة\n",
      "arabic_translation1           استكشاف الطبيعة بركوب الدراجة تجربة رائعة\n",
      "translation_meaning      Doğayı bisikletle keşfetmek harika bir deneyim\n",
      "translation_meaning1    Doğayı bisikletle keşfetmek harika bir deneyim.\n",
      "Name: 31, dtype: object\n",
      "Similarity Score:0.8980342745780945\n",
      "\n",
      "32. Cümle çifti:\n",
      "arabic_translation                    تناول الآيس كريم منعش ولذيذ\n",
      "arabic_translation1                   تناول الآيس كريم منعش ولذيذ\n",
      "translation_meaning     Dondurma yemek ferahlatıcı ve lezzetlidir\n",
      "translation_meaning1    Dondurma yemek ferahlatıcı ve lezzetlidir\n",
      "Name: 32, dtype: object\n",
      "Similarity Score:0.9999998807907104\n",
      "\n",
      "33. Cümle çifti:\n",
      "arabic_translation                       في الأيام الممطرة، ابق في المنزل واقرأ كتابًا\n",
      "arabic_translation1                 في الأيام الممطرة، قراءة كتاب في المنزل تمرّن ممتع\n",
      "translation_meaning                      Yağmurlu günlerde evde kalın ve kitap okuyun.\n",
      "translation_meaning1    Yağmurlu günlerde evde kitap okumak eğlenceli bir egzersizdir.\n",
      "Name: 33, dtype: object\n",
      "Similarity Score:0.7479309439659119\n",
      "\n",
      "34. Cümle çifti:\n",
      "arabic_translation               الاستلقاء على الشاطئ في يوم مشمس يمنح الهدوء\n",
      "arabic_translation1             الاستلقاء على الشاطئ في يوم مشمس يعزز السكينة\n",
      "translation_meaning             Güneşli bir günde sahilde uzanmak huzur verir\n",
      "translation_meaning1    Güneşli bir günde sahilde uzanmak huzuru teşvik eder.\n",
      "Name: 34, dtype: object\n",
      "Similarity Score:0.8999793529510498\n",
      "\n",
      "35. Cümle çifti:\n",
      "arabic_translation                            النظر إلى لوحة جميلة تجربة عاطفية\n",
      "arabic_translation1                           التحديق في لوحة جميلة تجربة مؤثرة\n",
      "translation_meaning           Güzel bir tabloya bakmak duygusal bir deneyimdir.\n",
      "translation_meaning1    Güzel bir tabloya bakmak duygulandırıcı bir deneyimdir.\n",
      "Name: 35, dtype: object\n",
      "Similarity Score:0.8522329926490784\n",
      "\n",
      "36. Cümle çifti:\n",
      "arabic_translation            تناول الحلوى يجلب السعادة\n",
      "arabic_translation1            تناول الحلوى يعزز البهجة\n",
      "translation_meaning        Tatlı yemek mutluluk getirir\n",
      "translation_meaning1    Tatlı yemek mutluluğu arttırır.\n",
      "Name: 36, dtype: object\n",
      "Similarity Score:0.9186558723449707\n",
      "\n",
      "37. Cümle çifti:\n",
      "arabic_translation                          التخييم في الطبيعة مليء بالمغامرة ومسلي\n",
      "arabic_translation1              التخييم في الطبيعة يحمل الكثير من المغامرات والمرح\n",
      "translation_meaning                  Doğada kamp yapmak macera dolu ve eğlencelidir\n",
      "translation_meaning1    Doğada kamp yapmak macera dolu ve eğlenceli bir deneyimdir.\n",
      "Name: 37, dtype: object\n",
      "Similarity Score:0.8234292268753052\n",
      "\n",
      "38. Cümle çifti:\n",
      "arabic_translation                     الدردشة مع صديق يمكن أن تكون ممتعة\n",
      "arabic_translation1                            الحديث مع صديق يجلب المتعة\n",
      "translation_meaning     Bir arkadaşınızla sohbet etmek eğlenceli olabilir\n",
      "translation_meaning1               Bir arkadaşla konuşmak eğlence getirir\n",
      "Name: 38, dtype: object\n",
      "Similarity Score:0.6291779279708862\n",
      "\n",
      "39. Cümle çifti:\n",
      "arabic_translation                      مشاهدة الألعاب النارية تجربة ساحرة\n",
      "arabic_translation1                     مشاهدة الألعاب النارية تجربة رائعة\n",
      "translation_meaning     Ateşli oyunları izlemek büyüleyici bir deneyimdir.\n",
      "translation_meaning1        Ateşli oyunları izlemek harika bir deneyimdir.\n",
      "Name: 39, dtype: object\n",
      "Similarity Score:0.9362391233444214\n",
      "\n",
      "40. Cümle çifti:\n",
      "arabic_translation      قضاء يوم جميل في نزهة في الهواء الطلق يكون رائعًا\n",
      "arabic_translation1     قضاء يوم جميل في نزهة في الهواء الطلق يكون ممتعًا\n",
      "translation_meaning        Temiz havada güzel bir gün geçirmek harikadır.\n",
      "translation_meaning1    Temiz havada güzel bir gün geçirmek eğlencelidir.\n",
      "Name: 40, dtype: object\n",
      "Similarity Score:0.9999998807907104\n",
      "\n",
      "41. Cümle çifti:\n",
      "arabic_translation               النظر إلى الصور القديمة يحيي الذكريات\n",
      "arabic_translation1           الاستمرار في الصور القديمة يجدد الذكريات\n",
      "translation_meaning      Eski fotoğraflara bakmak anıları canlandırır.\n",
      "translation_meaning1    Eski fotoğraflara devam etmek anıları yeniler.\n",
      "Name: 41, dtype: object\n",
      "Similarity Score:0.8996679186820984\n",
      "\n"
     ]
    }
   ],
   "source": [
    "arabert_large_v02_list = []\n",
    "for index, row in df.iterrows():\n",
    "    score = arabert_large_v02.get_similarity([row[\"arabic_translation\"],row[\"arabic_translation1\"]])\n",
    "    print(f\"{index}. Cümle çifti:\\n{row}\\nSimilarity Score:{score}\\n\")\n",
    "    arabert_large_v02_list.append(score)"
   ]
  },
  {
   "cell_type": "markdown",
   "metadata": {},
   "source": [
    "41 cümlede 87 saniye"
   ]
  },
  {
   "cell_type": "code",
   "execution_count": 52,
   "metadata": {},
   "outputs": [
    {
     "name": "stdout",
     "output_type": "stream",
     "text": [
      "Ortalama bert-large-arabertv02 score: 0.8428433111735752\n"
     ]
    }
   ],
   "source": [
    "average = sum(arabert_large_v02_list) / len(arabert_large_v02_list)\n",
    "print(f\"Ortalama bert-large-arabertv02 score: {average}\")"
   ]
  },
  {
   "cell_type": "markdown",
   "metadata": {},
   "source": [
    "#### farklı verilerde deneyelim"
   ]
  },
  {
   "cell_type": "code",
   "execution_count": 53,
   "metadata": {},
   "outputs": [
    {
     "data": {
      "text/html": [
       "<div>\n",
       "<style scoped>\n",
       "    .dataframe tbody tr th:only-of-type {\n",
       "        vertical-align: middle;\n",
       "    }\n",
       "\n",
       "    .dataframe tbody tr th {\n",
       "        vertical-align: top;\n",
       "    }\n",
       "\n",
       "    .dataframe thead th {\n",
       "        text-align: right;\n",
       "    }\n",
       "</style>\n",
       "<table border=\"1\" class=\"dataframe\">\n",
       "  <thead>\n",
       "    <tr style=\"text-align: right;\">\n",
       "      <th></th>\n",
       "      <th>arabic_translation</th>\n",
       "      <th>translation_meaning</th>\n",
       "      <th>reversed_arabic_translation1</th>\n",
       "      <th>reversed_translation_meaning1</th>\n",
       "    </tr>\n",
       "  </thead>\n",
       "  <tbody>\n",
       "    <tr>\n",
       "      <th>0</th>\n",
       "      <td>القراءة في المنزل ممتعة ومطمئنة</td>\n",
       "      <td>Evde okuma keyifli ve huzur vericidir.</td>\n",
       "      <td>الاستمرار في الصور القديمة يجدد الذكريات</td>\n",
       "      <td>Eski fotoğraflara devam etmek anıları yeniler.</td>\n",
       "    </tr>\n",
       "    <tr>\n",
       "      <th>1</th>\n",
       "      <td>طهي الطعام ممتع ولذيذ</td>\n",
       "      <td>Yemek pişirmek eğlenceli ve lezzetlidir.</td>\n",
       "      <td>قضاء يوم جميل في نزهة في الهواء الطلق يكون ممتعًا</td>\n",
       "      <td>Temiz havada güzel bir gün geçirmek eğlencelidir.</td>\n",
       "    </tr>\n",
       "    <tr>\n",
       "      <th>2</th>\n",
       "      <td>الاستماع إلى الموسيقى يريح روحي</td>\n",
       "      <td>Müzik dinlemek ruhumu dinlendirir.</td>\n",
       "      <td>مشاهدة الألعاب النارية تجربة رائعة</td>\n",
       "      <td>Ateşli oyunları izlemek harika bir deneyimdir.</td>\n",
       "    </tr>\n",
       "    <tr>\n",
       "      <th>3</th>\n",
       "      <td>الرسم مريح ومبدع</td>\n",
       "      <td>Resim yapmak huzur verici ve yaratıcıdır</td>\n",
       "      <td>الحديث مع صديق يجلب المتعة</td>\n",
       "      <td>Bir arkadaşla konuşmak eğlence getirir</td>\n",
       "    </tr>\n",
       "    <tr>\n",
       "      <th>4</th>\n",
       "      <td>قضاء الوقت في الحديقة مطمئن</td>\n",
       "      <td>Bahçede zaman geçirmek huzur verici</td>\n",
       "      <td>التخييم في الطبيعة يحمل الكثير من المغامرات والمرح</td>\n",
       "      <td>Doğada kamp yapmak macera dolu ve eğlenceli bir deneyimdir.</td>\n",
       "    </tr>\n",
       "  </tbody>\n",
       "</table>\n",
       "</div>"
      ],
      "text/plain": [
       "                arabic_translation                       translation_meaning  \\\n",
       "0  القراءة في المنزل ممتعة ومطمئنة    Evde okuma keyifli ve huzur vericidir.   \n",
       "1            طهي الطعام ممتع ولذيذ  Yemek pişirmek eğlenceli ve lezzetlidir.   \n",
       "2  الاستماع إلى الموسيقى يريح روحي        Müzik dinlemek ruhumu dinlendirir.   \n",
       "3                 الرسم مريح ومبدع  Resim yapmak huzur verici ve yaratıcıdır   \n",
       "4      قضاء الوقت في الحديقة مطمئن       Bahçede zaman geçirmek huzur verici   \n",
       "\n",
       "                         reversed_arabic_translation1  \\\n",
       "0            الاستمرار في الصور القديمة يجدد الذكريات   \n",
       "1   قضاء يوم جميل في نزهة في الهواء الطلق يكون ممتعًا   \n",
       "2                  مشاهدة الألعاب النارية تجربة رائعة   \n",
       "3                          الحديث مع صديق يجلب المتعة   \n",
       "4  التخييم في الطبيعة يحمل الكثير من المغامرات والمرح   \n",
       "\n",
       "                                 reversed_translation_meaning1  \n",
       "0               Eski fotoğraflara devam etmek anıları yeniler.  \n",
       "1            Temiz havada güzel bir gün geçirmek eğlencelidir.  \n",
       "2               Ateşli oyunları izlemek harika bir deneyimdir.  \n",
       "3                       Bir arkadaşla konuşmak eğlence getirir  \n",
       "4  Doğada kamp yapmak macera dolu ve eğlenceli bir deneyimdir.  "
      ]
     },
     "execution_count": 53,
     "metadata": {},
     "output_type": "execute_result"
    }
   ],
   "source": [
    "df[\"reversed_arabic_translation1\"] = df[\"arabic_translation1\"][::-1].values\n",
    "df[\"reversed_translation_meaning1\"] = df[\"translation_meaning1\"][::-1].values\n",
    "df = df[[\"arabic_translation\",\"translation_meaning\",\"reversed_arabic_translation1\",\"reversed_translation_meaning1\"]]\n",
    "df.head()"
   ]
  },
  {
   "cell_type": "code",
   "execution_count": 54,
   "metadata": {},
   "outputs": [
    {
     "name": "stdout",
     "output_type": "stream",
     "text": [
      "0. Cümle çifti:\n",
      "arabic_translation                              القراءة في المنزل ممتعة ومطمئنة\n",
      "translation_meaning                      Evde okuma keyifli ve huzur vericidir.\n",
      "reversed_arabic_translation1           الاستمرار في الصور القديمة يجدد الذكريات\n",
      "reversed_translation_meaning1    Eski fotoğraflara devam etmek anıları yeniler.\n",
      "Name: 0, dtype: object\n",
      "Similarity Score:0.5110863447189331\n",
      "\n",
      "1. Cümle çifti:\n",
      "arabic_translation                                           طهي الطعام ممتع ولذيذ\n",
      "translation_meaning                       Yemek pişirmek eğlenceli ve lezzetlidir.\n",
      "reversed_arabic_translation1     قضاء يوم جميل في نزهة في الهواء الطلق يكون ممتعًا\n",
      "reversed_translation_meaning1    Temiz havada güzel bir gün geçirmek eğlencelidir.\n",
      "Name: 1, dtype: object\n",
      "Similarity Score:0.5860113501548767\n",
      "\n",
      "2. Cümle çifti:\n",
      "arabic_translation                              الاستماع إلى الموسيقى يريح روحي\n",
      "translation_meaning                          Müzik dinlemek ruhumu dinlendirir.\n",
      "reversed_arabic_translation1                 مشاهدة الألعاب النارية تجربة رائعة\n",
      "reversed_translation_meaning1    Ateşli oyunları izlemek harika bir deneyimdir.\n",
      "Name: 2, dtype: object\n",
      "Similarity Score:0.5891313552856445\n",
      "\n",
      "3. Cümle çifti:\n",
      "arabic_translation                                       الرسم مريح ومبدع\n",
      "translation_meaning              Resim yapmak huzur verici ve yaratıcıdır\n",
      "reversed_arabic_translation1                   الحديث مع صديق يجلب المتعة\n",
      "reversed_translation_meaning1      Bir arkadaşla konuşmak eğlence getirir\n",
      "Name: 3, dtype: object\n",
      "Similarity Score:0.6800195574760437\n",
      "\n",
      "4. Cümle çifti:\n",
      "arabic_translation                                               قضاء الوقت في الحديقة مطمئن\n",
      "translation_meaning                                      Bahçede zaman geçirmek huzur verici\n",
      "reversed_arabic_translation1              التخييم في الطبيعة يحمل الكثير من المغامرات والمرح\n",
      "reversed_translation_meaning1    Doğada kamp yapmak macera dolu ve eğlenceli bir deneyimdir.\n",
      "Name: 4, dtype: object\n",
      "Similarity Score:0.6767971515655518\n",
      "\n",
      "5. Cümle çifti:\n",
      "arabic_translation                  ممارسة اليوغا تمنح الطاقة وتجلب الهدوء\n",
      "translation_meaning              Yoga yapmak enerji verir ve huzur getirir\n",
      "reversed_arabic_translation1                      تناول الحلوى يعزز البهجة\n",
      "reversed_translation_meaning1              Tatlı yemek mutluluğu arttırır.\n",
      "Name: 5, dtype: object\n",
      "Similarity Score:0.6513176560401917\n",
      "\n",
      "6. Cümle çifti:\n",
      "arabic_translation                                        الاسترخاء على شاطئ البحر مطمئن\n",
      "translation_meaning                               Deniz kenarında rahatlamak huzur verir\n",
      "reversed_arabic_translation1                           التحديق في لوحة جميلة تجربة مؤثرة\n",
      "reversed_translation_meaning1    Güzel bir tabloya bakmak duygulandırıcı bir deneyimdir.\n",
      "Name: 6, dtype: object\n",
      "Similarity Score:0.6395522356033325\n",
      "\n",
      "7. Cümle çifti:\n",
      "arabic_translation                                        اكتشاف ثقافات مختلفة مثير وتعليمي\n",
      "translation_meaning              Farklı kültürleri keşfetmek heyecan verici ve öğreticidir.\n",
      "reversed_arabic_translation1                  الاستلقاء على الشاطئ في يوم مشمس يعزز السكينة\n",
      "reversed_translation_meaning1         Güneşli bir günde sahilde uzanmak huzuru teşvik eder.\n",
      "Name: 7, dtype: object\n",
      "Similarity Score:0.5685980916023254\n",
      "\n",
      "8. Cümle çifti:\n",
      "arabic_translation                                     المشي في الجبال يمنح الطاقة ويجلب الهدوء\n",
      "translation_meaning                      Dağlarda yürüyüş yapmak enerji verir ve huzur getirir.\n",
      "reversed_arabic_translation1                 في الأيام الممطرة، قراءة كتاب في المنزل تمرّن ممتع\n",
      "reversed_translation_meaning1    Yağmurlu günlerde evde kitap okumak eğlenceli bir egzersizdir.\n",
      "Name: 8, dtype: object\n",
      "Similarity Score:0.5930878520011902\n",
      "\n",
      "9. Cümle çifti:\n",
      "arabic_translation                                تجربة نكهات مختلفة ممتعة ولذيذة\n",
      "translation_meaning              Farklı tatları denemek eğlenceli ve lezzetlidir.\n",
      "reversed_arabic_translation1                          تناول الآيس كريم منعش ولذيذ\n",
      "reversed_translation_meaning1           Dondurma yemek ferahlatıcı ve lezzetlidir\n",
      "Name: 9, dtype: object\n",
      "Similarity Score:0.6431118249893188\n",
      "\n",
      "10. Cümle çifti:\n",
      "arabic_translation                            المشي يسمح لك بالحصول على هواء نقي\n",
      "translation_meaning                     Yürüyüş yapmak taze hava almanızı sağlar\n",
      "reversed_arabic_translation1           استكشاف الطبيعة بركوب الدراجة تجربة رائعة\n",
      "reversed_translation_meaning1    Doğayı bisikletle keşfetmek harika bir deneyim.\n",
      "Name: 10, dtype: object\n",
      "Similarity Score:0.5340185165405273\n",
      "\n",
      "11. Cümle çifti:\n",
      "arabic_translation               في الربيع تزهر الزهور وتستيقظ الطبيعة\n",
      "translation_meaning               Baharda çiçekler açar ve doğa uyanır\n",
      "reversed_arabic_translation1          العزف على الجيتار هو هواية مسلية\n",
      "reversed_translation_meaning1       Gitar çalmak zevkli bir uğraşıdır.\n",
      "Name: 11, dtype: object\n",
      "Similarity Score:0.5117383599281311\n",
      "\n",
      "12. Cümle çifti:\n",
      "arabic_translation                          قضاء الوقت على الشاطئ في أيام مشمسة ممتع\n",
      "translation_meaning              Güneşli günlerde plajda vakit geçirmek eğlencelidir\n",
      "reversed_arabic_translation1                            التجول في الطبيعة يحيي الروح\n",
      "reversed_translation_meaning1                     Doğa yürüyüşleri ruhu canlandırır.\n",
      "Name: 12, dtype: object\n",
      "Similarity Score:0.6210320591926575\n",
      "\n",
      "13. Cümle çifti:\n",
      "arabic_translation                                   ركوب الدراجة منعش وصحي\n",
      "translation_meaning              Bisiklet sürmek serinletici ve sağlıklıdır\n",
      "reversed_arabic_translation1            الحيوانات الأليفة تجلب الحب والسرور\n",
      "reversed_translation_meaning1        Evcil hayvanlar sevgi ve neşe getirir.\n",
      "Name: 13, dtype: object\n",
      "Similarity Score:0.5190053582191467\n",
      "\n",
      "14. Cümle çifti:\n",
      "arabic_translation                                    النظر إلى السماء له تأثير مهدئ\n",
      "translation_meaning              Gökyüzüne bakmak sakinleştirici bir etkiye sahiptir\n",
      "reversed_arabic_translation1                      الاحتفال بعيد الميلاد يعزز السعادة\n",
      "reversed_translation_meaning1                       Noel kutlamak mutluluğu artırır.\n",
      "Name: 14, dtype: object\n",
      "Similarity Score:0.6145460605621338\n",
      "\n",
      "15. Cümle çifti:\n",
      "arabic_translation                          المشي على الشاطئ يمنح الهدوء ويزيل الضغط\n",
      "translation_meaning              Sahilde yürümek sakinlik getirir ve stresi azaltır.\n",
      "reversed_arabic_translation1                          مشاهدة الأفلام مع الأسرة يُسعد\n",
      "reversed_translation_meaning1                   Aileyle film izlemek mutluluk verir.\n",
      "Name: 15, dtype: object\n",
      "Similarity Score:0.3722824454307556\n",
      "\n",
      "16. Cümle çifti:\n",
      "arabic_translation                                        التأمل في مكان هادئ مريح\n",
      "translation_meaning              Sessiz bir yerde meditasyon yapmak rahatlatıcıdır\n",
      "reversed_arabic_translation1                      شرب الحساء الساخن في الشتاء رائع\n",
      "reversed_translation_meaning1                      Kışın sıcak çorba içmek harika.\n",
      "Name: 16, dtype: object\n",
      "Similarity Score:0.5709329843521118\n",
      "\n",
      "17. Cümle çifti:\n",
      "arabic_translation                      التخييم في الطبيعة مليء بالمغامرة ومسلي\n",
      "translation_meaning              Doğada kamp yapmak macera dolu ve eğlencelidir\n",
      "reversed_arabic_translation1                     تناول وجبة خفيفة يزود بالحيوية\n",
      "reversed_translation_meaning1             Hafif bir öğün yemek canlılık sağlar.\n",
      "Name: 17, dtype: object\n",
      "Similarity Score:0.4117453396320343\n",
      "\n",
      "18. Cümle çifti:\n",
      "arabic_translation                                تمتع بيومك مع مشروب دافئ\n",
      "translation_meaning                 Sıcak bir içecekle günün tadını çıkar.\n",
      "reversed_arabic_translation1            لقاء الأصدقاء القدامى يشعر بالسرور\n",
      "reversed_translation_meaning1    Eski dostlarla buluşmak sevinç vericidir.\n",
      "Name: 18, dtype: object\n",
      "Similarity Score:0.5267568826675415\n",
      "\n",
      "19. Cümle çifti:\n",
      "arabic_translation                                    اغمض عينيك واسترخي بسلام\n",
      "translation_meaning                         Gözlerini kapat ve huzurla dinlen.\n",
      "reversed_arabic_translation1                            رصد النجوم تجربة ساحرة\n",
      "reversed_translation_meaning1    Yıldızları gözlemlemek büyülü bir deneyimdir.\n",
      "Name: 19, dtype: object\n",
      "Similarity Score:0.473432332277298\n",
      "\n",
      "20. Cümle çifti:\n",
      "arabic_translation                                إطلالة جميلة توفر سكينة روحية\n",
      "translation_meaning                              Güzel manzara iç huzur sağlar.\n",
      "reversed_arabic_translation1             الوقت الذي تقضيه مع من تحب يكون ثمينًا\n",
      "reversed_translation_meaning1    Sevdiklerinle geçirdiğin zaman çok değerlidir.\n",
      "Name: 20, dtype: object\n",
      "Similarity Score:0.5682175755500793\n",
      "\n",
      "21. Cümle çifti:\n",
      "arabic_translation                                       قضاء الوقت مع من تحب قيمة عظيمة\n",
      "translation_meaning              Sevdiklerinle zaman geçirmek büyük bir değere sahiptir.\n",
      "reversed_arabic_translation1                             إطلالة رائعة تمنح الهدوء الروحي\n",
      "reversed_translation_meaning1                         Harika bir manzara iç huzur sunar.\n",
      "Name: 21, dtype: object\n",
      "Similarity Score:0.6422146558761597\n",
      "\n",
      "22. Cümle çifti:\n",
      "arabic_translation                               مشاهدة النجوم تجربة ساحرة\n",
      "translation_meaning              Yıldızları izlemek büyülü bir deneyimdir.\n",
      "reversed_arabic_translation1                      أغلق عينيك واسترح بسكينة\n",
      "reversed_translation_meaning1                 Gözlerini kapat ve sakinleş.\n",
      "Name: 22, dtype: object\n",
      "Similarity Score:0.5027568340301514\n",
      "\n",
      "23. Cümle çifti:\n",
      "arabic_translation                       لقاء الأصدقاء القدامى يسعد القلب\n",
      "translation_meaning              Eski dostlarla buluşmak sevinç vericidir\n",
      "reversed_arabic_translation1                   استمتع بيومك مع مشروب ساخن\n",
      "reversed_translation_meaning1     Sıcak bir içecekle günün keyfini çıkar.\n",
      "Name: 23, dtype: object\n",
      "Similarity Score:0.39006391167640686\n",
      "\n",
      "24. Cümle çifti:\n",
      "arabic_translation                                              تناول وجبة خفيفة يمنح الطاقة\n",
      "translation_meaning                                       Hafif bir öğün yemek enerji verir.\n",
      "reversed_arabic_translation1              التخييم في الطبيعة يحمل الكثير من المغامرات والمرح\n",
      "reversed_translation_meaning1    Doğada kamp yapmak macera dolu ve eğlenceli bir deneyimdir.\n",
      "Name: 24, dtype: object\n",
      "Similarity Score:0.36518344283103943\n",
      "\n",
      "25. Cümle çifti:\n",
      "arabic_translation                                                     شرب شوربات دافئة في الشتاء رائع\n",
      "translation_meaning                                                 Kışın sıcak çorbalar içmek harika.\n",
      "reversed_arabic_translation1                                   التأمل في مكان هادئ يساعد على الاسترخاء\n",
      "reversed_translation_meaning1    Sessiz bir yerde meditasyon yapmak rahatlatıcıdır ve iç huzur sağlar.\n",
      "Name: 25, dtype: object\n",
      "Similarity Score:0.4250185191631317\n",
      "\n",
      "26. Cümle çifti:\n",
      "arabic_translation                                            مشاهدة الأفلام مع العائلة ممتع\n",
      "translation_meaning                                         Aileyle film izlemek keyiflidir.\n",
      "reversed_arabic_translation1                     التجول على الشاطئ يهدئ الأعصاب ويزيل التوتر\n",
      "reversed_translation_meaning1    Kıyıda gezinmek sinirleri yatıştırır ve gerginliği giderir.\n",
      "Name: 26, dtype: object\n",
      "Similarity Score:0.5117264986038208\n",
      "\n",
      "27. Cümle çifti:\n",
      "arabic_translation                                                            الاحتفال بعيد الميلاد يسعد\n",
      "translation_meaning                                                      Noel kutlamak mutluluk getirir.\n",
      "reversed_arabic_translation1                                            التحديق في السماء يؤثر بشكل مهدئ\n",
      "reversed_translation_meaning1    Gökyüzüne bakmak sakinleştirici bir etkiye sahiptir ve iç huzur sağlar.\n",
      "Name: 27, dtype: object\n",
      "Similarity Score:0.6030064821243286\n",
      "\n",
      "28. Cümle çifti:\n",
      "arabic_translation                                     الحيوانات الأليفة تجلب الحب والفرح\n",
      "translation_meaning                                 Evcil hayvanlar sevgi ve neşe getirir\n",
      "reversed_arabic_translation1                                ركوب الدراجة ممتع ومفيد للصحة\n",
      "reversed_translation_meaning1    Bisiklet sürmek serinletici ve sağlıklı bir aktivitedir.\n",
      "Name: 28, dtype: object\n",
      "Similarity Score:0.6308961510658264\n",
      "\n",
      "29. Cümle çifti:\n",
      "arabic_translation                                      المشي في الطبيعة ينعش الروح\n",
      "translation_meaning                               Doğa yürüyüşleri ruhu canlandırır\n",
      "reversed_arabic_translation1     الاستمتاع بأوقات الشاطئ في أيام مشمسة يعتبر مسليًا\n",
      "reversed_translation_meaning1    Güneşli günlerde plajda vakit geçirmek keyiflidir.\n",
      "Name: 29, dtype: object\n",
      "Similarity Score:0.6556210517883301\n",
      "\n",
      "30. Cümle çifti:\n",
      "arabic_translation                                                             عزف الجيتار هو هواية ممتعة\n",
      "translation_meaning                                                   Gitar çalmak eğlenceli bir hobidir.\n",
      "reversed_arabic_translation1                           في فصل الربيع تفتح الزهور وتعود الطبيعة إلى الحياة\n",
      "reversed_translation_meaning1    Baharda çiçekler açar ve doğa uyanır, bu da manevi bir huzur kaynağıdır.\n",
      "Name: 30, dtype: object\n",
      "Similarity Score:0.5925184488296509\n",
      "\n",
      "31. Cümle çifti:\n",
      "arabic_translation                                  استكشاف الطبيعة على الدراجة تجربة رائعة\n",
      "translation_meaning                          Doğayı bisikletle keşfetmek harika bir deneyim\n",
      "reversed_arabic_translation1                          المشي يمنحك فرصة للتنفس بالهواء النقي\n",
      "reversed_translation_meaning1    Yürüyüş yapmak taze hava almanızı sağlayan bir deneyimdir.\n",
      "Name: 31, dtype: object\n",
      "Similarity Score:0.5060641169548035\n",
      "\n",
      "32. Cümle çifti:\n",
      "arabic_translation                                     تناول الآيس كريم منعش ولذيذ\n",
      "translation_meaning                      Dondurma yemek ferahlatıcı ve lezzetlidir\n",
      "reversed_arabic_translation1               تجربة نكهات متنوعة مليء بالمرح والذواقة\n",
      "reversed_translation_meaning1    Çeşitli tatları denemek eğlenceli ve lezzetlidir.\n",
      "Name: 32, dtype: object\n",
      "Similarity Score:0.5485597252845764\n",
      "\n",
      "33. Cümle çifti:\n",
      "arabic_translation                             في الأيام الممطرة، ابق في المنزل واقرأ كتابًا\n",
      "translation_meaning                            Yağmurlu günlerde evde kalın ve kitap okuyun.\n",
      "reversed_arabic_translation1                       المشي في الجبال يعزز الحيوية ويحضر الهدوء\n",
      "reversed_translation_meaning1    Dağlarda yürüyüş yapmak canlılığı artırır ve huzur getirir.\n",
      "Name: 33, dtype: object\n",
      "Similarity Score:0.4081941246986389\n",
      "\n",
      "34. Cümle çifti:\n",
      "arabic_translation                                         الاستلقاء على الشاطئ في يوم مشمس يمنح الهدوء\n",
      "translation_meaning                                       Güneşli bir günde sahilde uzanmak huzur verir\n",
      "reversed_arabic_translation1                               استكشاف ثقافات متنوعة مليء بالإثارة والتعليم\n",
      "reversed_translation_meaning1    Çeşitli kültürleri keşfetmek heyecan verici ve eğitici bir deneyimdir.\n",
      "Name: 34, dtype: object\n",
      "Similarity Score:0.6108251214027405\n",
      "\n",
      "35. Cümle çifti:\n",
      "arabic_translation                               النظر إلى لوحة جميلة تجربة عاطفية\n",
      "translation_meaning              Güzel bir tabloya bakmak duygusal bir deneyimdir.\n",
      "reversed_arabic_translation1                 الاسترخاء على شاطئ البحر يمنح السكينة\n",
      "reversed_translation_meaning1             Deniz kıyısında dinlenmek sakinlik verir\n",
      "Name: 35, dtype: object\n",
      "Similarity Score:0.6395905017852783\n",
      "\n",
      "36. Cümle çifti:\n",
      "arabic_translation                                    تناول الحلوى يجلب السعادة\n",
      "translation_meaning                                Tatlı yemek mutluluk getirir\n",
      "reversed_arabic_translation1            ممارسة اليوغا تعزز الحيوية وتحضر الهدوء\n",
      "reversed_translation_meaning1    Yoga yapmak canlılığı artırır ve huzur getirir\n",
      "Name: 36, dtype: object\n",
      "Similarity Score:0.6405044794082642\n",
      "\n",
      "37. Cümle çifti:\n",
      "arabic_translation                                 التخييم في الطبيعة مليء بالمغامرة ومسلي\n",
      "translation_meaning                         Doğada kamp yapmak macera dolu ve eğlencelidir\n",
      "reversed_arabic_translation1                       الاستمتاع بالوقت في الحديقة مطمئن وممتع\n",
      "reversed_translation_meaning1    Bahçede zamanı keyifli ve huzur dolu bir şekilde geçirmek\n",
      "Name: 37, dtype: object\n",
      "Similarity Score:0.7606885433197021\n",
      "\n",
      "38. Cümle çifti:\n",
      "arabic_translation                              الدردشة مع صديق يمكن أن تكون ممتعة\n",
      "translation_meaning              Bir arkadaşınızla sohbet etmek eğlenceli olabilir\n",
      "reversed_arabic_translation1                                      الرسم مسلي ومبدع\n",
      "reversed_translation_meaning1                Resim yapmak eğlenceli ve yaratıcıdır\n",
      "Name: 38, dtype: object\n",
      "Similarity Score:0.49964576959609985\n",
      "\n",
      "39. Cümle çifti:\n",
      "arabic_translation                               مشاهدة الألعاب النارية تجربة ساحرة\n",
      "translation_meaning              Ateşli oyunları izlemek büyüleyici bir deneyimdir.\n",
      "reversed_arabic_translation1                        الاستماع إلى الموسيقى يهدئ روحي\n",
      "reversed_translation_meaning1                  Müzik dinlemek ruhumu sakinleştirir.\n",
      "Name: 39, dtype: object\n",
      "Similarity Score:0.5815235376358032\n",
      "\n",
      "40. Cümle çifti:\n",
      "arabic_translation               قضاء يوم جميل في نزهة في الهواء الطلق يكون رائعًا\n",
      "translation_meaning                 Temiz havada güzel bir gün geçirmek harikadır.\n",
      "reversed_arabic_translation1                                 طهي الطعام ممتع وذواق\n",
      "reversed_translation_meaning1               Yemek yapmak eğlenceli ve lezzetlidir.\n",
      "Name: 40, dtype: object\n",
      "Similarity Score:0.5562278032302856\n",
      "\n",
      "41. Cümle çifti:\n",
      "arabic_translation                                النظر إلى الصور القديمة يحيي الذكريات\n",
      "translation_meaning                       Eski fotoğraflara bakmak anıları canlandırır.\n",
      "reversed_arabic_translation1                     الاستمتاع بالكتب في المنزل ممتع ومطلوب\n",
      "reversed_translation_meaning1    Evde kitapların tadını çıkarmak keyifli ve gereklidir.\n",
      "Name: 41, dtype: object\n",
      "Similarity Score:0.6380568742752075\n",
      "\n"
     ]
    }
   ],
   "source": [
    "arabert_large_v02_list_reversed = []\n",
    "for index, row in df.iterrows():\n",
    "    score = arabert_large_v02.get_similarity([row[\"arabic_translation\"],row[\"reversed_arabic_translation1\"]])\n",
    "    print(f\"{index}. Cümle çifti:\\n{row}\\nSimilarity Score:{score}\\n\")\n",
    "    arabert_large_v02_list_reversed.append(score)"
   ]
  },
  {
   "cell_type": "code",
   "execution_count": 55,
   "metadata": {},
   "outputs": [
    {
     "name": "stdout",
     "output_type": "stream",
     "text": [
      "Ortalama bert-large-arabertv02 score: 0.5612216173183351\n"
     ]
    }
   ],
   "source": [
    "average = sum(arabert_large_v02_list_reversed) / len(arabert_large_v02_list_reversed)\n",
    "print(f\"Ortalama bert-large-arabertv02 score: {average}\")"
   ]
  },
  {
   "cell_type": "markdown",
   "metadata": {},
   "source": [
    "### bert-base-arabertv02"
   ]
  },
  {
   "cell_type": "code",
   "execution_count": 62,
   "metadata": {},
   "outputs": [
    {
     "data": {
      "text/html": [
       "<div>\n",
       "<style scoped>\n",
       "    .dataframe tbody tr th:only-of-type {\n",
       "        vertical-align: middle;\n",
       "    }\n",
       "\n",
       "    .dataframe tbody tr th {\n",
       "        vertical-align: top;\n",
       "    }\n",
       "\n",
       "    .dataframe thead th {\n",
       "        text-align: right;\n",
       "    }\n",
       "</style>\n",
       "<table border=\"1\" class=\"dataframe\">\n",
       "  <thead>\n",
       "    <tr style=\"text-align: right;\">\n",
       "      <th></th>\n",
       "      <th>arabic_translation</th>\n",
       "      <th>arabic_translation1</th>\n",
       "      <th>translation_meaning</th>\n",
       "      <th>translation_meaning1</th>\n",
       "    </tr>\n",
       "  </thead>\n",
       "  <tbody>\n",
       "    <tr>\n",
       "      <th>0</th>\n",
       "      <td>القراءة في المنزل ممتعة ومطمئنة</td>\n",
       "      <td>الاستمتاع بالكتب في المنزل ممتع ومطلوب</td>\n",
       "      <td>Evde okuma keyifli ve huzur vericidir.</td>\n",
       "      <td>Evde kitapların tadını çıkarmak keyifli ve gereklidir.</td>\n",
       "    </tr>\n",
       "    <tr>\n",
       "      <th>1</th>\n",
       "      <td>طهي الطعام ممتع ولذيذ</td>\n",
       "      <td>طهي الطعام ممتع وذواق</td>\n",
       "      <td>Yemek pişirmek eğlenceli ve lezzetlidir.</td>\n",
       "      <td>Yemek yapmak eğlenceli ve lezzetlidir.</td>\n",
       "    </tr>\n",
       "    <tr>\n",
       "      <th>2</th>\n",
       "      <td>الاستماع إلى الموسيقى يريح روحي</td>\n",
       "      <td>الاستماع إلى الموسيقى يهدئ روحي</td>\n",
       "      <td>Müzik dinlemek ruhumu dinlendirir.</td>\n",
       "      <td>Müzik dinlemek ruhumu sakinleştirir.</td>\n",
       "    </tr>\n",
       "    <tr>\n",
       "      <th>3</th>\n",
       "      <td>الرسم مريح ومبدع</td>\n",
       "      <td>الرسم مسلي ومبدع</td>\n",
       "      <td>Resim yapmak huzur verici ve yaratıcıdır</td>\n",
       "      <td>Resim yapmak eğlenceli ve yaratıcıdır</td>\n",
       "    </tr>\n",
       "    <tr>\n",
       "      <th>4</th>\n",
       "      <td>قضاء الوقت في الحديقة مطمئن</td>\n",
       "      <td>الاستمتاع بالوقت في الحديقة مطمئن وممتع</td>\n",
       "      <td>Bahçede zaman geçirmek huzur verici</td>\n",
       "      <td>Bahçede zamanı keyifli ve huzur dolu bir şekilde geçirmek</td>\n",
       "    </tr>\n",
       "  </tbody>\n",
       "</table>\n",
       "</div>"
      ],
      "text/plain": [
       "                arabic_translation                      arabic_translation1  \\\n",
       "0  القراءة في المنزل ممتعة ومطمئنة   الاستمتاع بالكتب في المنزل ممتع ومطلوب   \n",
       "1            طهي الطعام ممتع ولذيذ                    طهي الطعام ممتع وذواق   \n",
       "2  الاستماع إلى الموسيقى يريح روحي          الاستماع إلى الموسيقى يهدئ روحي   \n",
       "3                 الرسم مريح ومبدع                         الرسم مسلي ومبدع   \n",
       "4      قضاء الوقت في الحديقة مطمئن  الاستمتاع بالوقت في الحديقة مطمئن وممتع   \n",
       "\n",
       "                        translation_meaning  \\\n",
       "0    Evde okuma keyifli ve huzur vericidir.   \n",
       "1  Yemek pişirmek eğlenceli ve lezzetlidir.   \n",
       "2        Müzik dinlemek ruhumu dinlendirir.   \n",
       "3  Resim yapmak huzur verici ve yaratıcıdır   \n",
       "4       Bahçede zaman geçirmek huzur verici   \n",
       "\n",
       "                                        translation_meaning1  \n",
       "0     Evde kitapların tadını çıkarmak keyifli ve gereklidir.  \n",
       "1                     Yemek yapmak eğlenceli ve lezzetlidir.  \n",
       "2                       Müzik dinlemek ruhumu sakinleştirir.  \n",
       "3                      Resim yapmak eğlenceli ve yaratıcıdır  \n",
       "4  Bahçede zamanı keyifli ve huzur dolu bir şekilde geçirmek  "
      ]
     },
     "execution_count": 62,
     "metadata": {},
     "output_type": "execute_result"
    }
   ],
   "source": [
    "from config import Configurator\n",
    "from arabic_transformer import SentenceTransformer\n",
    "import pandas as pd\n",
    "\n",
    "pd.set_option('display.max_colwidth', None)\n",
    "\n",
    "cfg = Configurator(json_file_path=\"sentences.json\")\n",
    "df = pd.DataFrame(cfg.data[\"sentences\"])\n",
    "df.head()"
   ]
  },
  {
   "cell_type": "code",
   "execution_count": 56,
   "metadata": {},
   "outputs": [
    {
     "name": "stdout",
     "output_type": "stream",
     "text": [
      "ولن نبالغ إذا قلنا : إن هاتف أو كمبيوتر المكتب في زمننا هذا ضروري\n"
     ]
    }
   ],
   "source": [
    "from arabert.preprocess import ArabertPreprocessor\n",
    "\n",
    "model_name=\"aubmindlab/bert-base-arabertv02\"\n",
    "arabert_prep = ArabertPreprocessor(model_name=model_name)\n",
    "\n",
    "text = \"ولن نبالغ إذا قلنا: إن هاتف أو كمبيوتر المكتب في زمننا هذا ضروري\"\n",
    "text_preprocces = arabert_prep.preprocess(text)\n",
    "print(text_preprocces)"
   ]
  },
  {
   "cell_type": "code",
   "execution_count": 57,
   "metadata": {},
   "outputs": [],
   "source": [
    "arabert_base_v02 = SentenceTransformer(model_name=model_name)"
   ]
  },
  {
   "cell_type": "code",
   "execution_count": 58,
   "metadata": {},
   "outputs": [
    {
     "name": "stderr",
     "output_type": "stream",
     "text": [
      "Downloading (…)okenizer_config.json: 100%|██████████| 381/381 [00:00<00:00, 76.1kB/s]\n",
      "d:\\work\\AiThinks\\ArabicSimilarity\\.venv\\lib\\site-packages\\huggingface_hub\\file_download.py:133: UserWarning: `huggingface_hub` cache-system uses symlinks by default to efficiently store duplicated files but your machine does not support them in C:\\Users\\apoks\\.cache\\huggingface\\hub. Caching files will still work but in a degraded version that might require more space on your disk. This warning can be disabled by setting the `HF_HUB_DISABLE_SYMLINKS_WARNING` environment variable. For more details, see https://huggingface.co/docs/huggingface_hub/how-to-cache#limitations.\n",
      "To support symlinks on Windows, you either need to activate Developer Mode or to run Python as an administrator. In order to see activate developer mode, see this article: https://docs.microsoft.com/en-us/windows/apps/get-started/enable-your-device-for-development\n",
      "  warnings.warn(message)\n",
      "Downloading (…)lve/main/config.json: 100%|██████████| 384/384 [00:00<00:00, 96.0kB/s]\n",
      "Downloading (…)solve/main/vocab.txt: 100%|██████████| 825k/825k [00:00<00:00, 1.68MB/s]\n",
      "Downloading (…)/main/tokenizer.json: 100%|██████████| 2.64M/2.64M [00:00<00:00, 3.58MB/s]\n",
      "Downloading (…)cial_tokens_map.json: 100%|██████████| 112/112 [00:00<00:00, 22.4kB/s]\n",
      "Downloading model.safetensors: 100%|██████████| 543M/543M [00:18<00:00, 28.8MB/s] \n"
     ]
    },
    {
     "data": {
      "text/plain": [
       "0.82277226"
      ]
     },
     "execution_count": 58,
     "metadata": {},
     "output_type": "execute_result"
    }
   ],
   "source": [
    "arabert_base_v02.get_similarity(sentences=[arabert_prep.preprocess(\"القراءة في المنزل ممتعة ومطمئنة\"), arabert_prep.preprocess(\"الاستمتاع بالكتب في المنزل ممتع ومطلوب\")])"
   ]
  },
  {
   "cell_type": "code",
   "execution_count": 63,
   "metadata": {},
   "outputs": [
    {
     "data": {
      "text/plain": [
       "0.82277226"
      ]
     },
     "execution_count": 63,
     "metadata": {},
     "output_type": "execute_result"
    }
   ],
   "source": [
    "arabert_base_v02.get_similarity(sentences=[\"القراءة في المنزل ممتعة ومطمئنة\",\"الاستمتاع بالكتب في المنزل ممتع ومطلوب\"])"
   ]
  },
  {
   "cell_type": "code",
   "execution_count": 64,
   "metadata": {},
   "outputs": [
    {
     "data": {
      "text/plain": [
       "0.7044877"
      ]
     },
     "execution_count": 64,
     "metadata": {},
     "output_type": "execute_result"
    }
   ],
   "source": [
    "arabert_base_v02.get_similarity(sentences=[\"طهي الطعام ممتع ولذيذ\",\"القراءة في المنزل ممتعة ومطمئنة\"])\n",
    "## Yemek pişirmek eğlenceli ve lezzetlidir / Evde kitap okumak eğlenceli ve güven vericidir"
   ]
  },
  {
   "cell_type": "code",
   "execution_count": 65,
   "metadata": {},
   "outputs": [
    {
     "name": "stdout",
     "output_type": "stream",
     "text": [
      "0. Cümle çifti:\n",
      "arabic_translation                             القراءة في المنزل ممتعة ومطمئنة\n",
      "arabic_translation1                     الاستمتاع بالكتب في المنزل ممتع ومطلوب\n",
      "translation_meaning                     Evde okuma keyifli ve huzur vericidir.\n",
      "translation_meaning1    Evde kitapların tadını çıkarmak keyifli ve gereklidir.\n",
      "Name: 0, dtype: object\n",
      "Similarity Score:0.8227722644805908\n",
      "\n",
      "1. Cümle çifti:\n",
      "arabic_translation                         طهي الطعام ممتع ولذيذ\n",
      "arabic_translation1                        طهي الطعام ممتع وذواق\n",
      "translation_meaning     Yemek pişirmek eğlenceli ve lezzetlidir.\n",
      "translation_meaning1      Yemek yapmak eğlenceli ve lezzetlidir.\n",
      "Name: 1, dtype: object\n",
      "Similarity Score:0.9314448237419128\n",
      "\n",
      "2. Cümle çifti:\n",
      "arabic_translation           الاستماع إلى الموسيقى يريح روحي\n",
      "arabic_translation1          الاستماع إلى الموسيقى يهدئ روحي\n",
      "translation_meaning       Müzik dinlemek ruhumu dinlendirir.\n",
      "translation_meaning1    Müzik dinlemek ruhumu sakinleştirir.\n",
      "Name: 2, dtype: object\n",
      "Similarity Score:0.9469818472862244\n",
      "\n",
      "3. Cümle çifti:\n",
      "arabic_translation                              الرسم مريح ومبدع\n",
      "arabic_translation1                             الرسم مسلي ومبدع\n",
      "translation_meaning     Resim yapmak huzur verici ve yaratıcıdır\n",
      "translation_meaning1       Resim yapmak eğlenceli ve yaratıcıdır\n",
      "Name: 3, dtype: object\n",
      "Similarity Score:0.8801823854446411\n",
      "\n",
      "4. Cümle çifti:\n",
      "arabic_translation                                    قضاء الوقت في الحديقة مطمئن\n",
      "arabic_translation1                       الاستمتاع بالوقت في الحديقة مطمئن وممتع\n",
      "translation_meaning                           Bahçede zaman geçirmek huzur verici\n",
      "translation_meaning1    Bahçede zamanı keyifli ve huzur dolu bir şekilde geçirmek\n",
      "Name: 4, dtype: object\n",
      "Similarity Score:0.8578189611434937\n",
      "\n",
      "5. Cümle çifti:\n",
      "arabic_translation              ممارسة اليوغا تمنح الطاقة وتجلب الهدوء\n",
      "arabic_translation1            ممارسة اليوغا تعزز الحيوية وتحضر الهدوء\n",
      "translation_meaning          Yoga yapmak enerji verir ve huzur getirir\n",
      "translation_meaning1    Yoga yapmak canlılığı artırır ve huzur getirir\n",
      "Name: 5, dtype: object\n",
      "Similarity Score:0.9365759491920471\n",
      "\n",
      "6. Cümle çifti:\n",
      "arabic_translation                الاسترخاء على شاطئ البحر مطمئن\n",
      "arabic_translation1        الاسترخاء على شاطئ البحر يمنح السكينة\n",
      "translation_meaning       Deniz kenarında rahatlamak huzur verir\n",
      "translation_meaning1    Deniz kıyısında dinlenmek sakinlik verir\n",
      "Name: 6, dtype: object\n",
      "Similarity Score:0.8719119429588318\n",
      "\n",
      "7. Cümle çifti:\n",
      "arabic_translation                                           اكتشاف ثقافات مختلفة مثير وتعليمي\n",
      "arabic_translation1                               استكشاف ثقافات متنوعة مليء بالإثارة والتعليم\n",
      "translation_meaning                 Farklı kültürleri keşfetmek heyecan verici ve öğreticidir.\n",
      "translation_meaning1    Çeşitli kültürleri keşfetmek heyecan verici ve eğitici bir deneyimdir.\n",
      "Name: 7, dtype: object\n",
      "Similarity Score:0.8287621140480042\n",
      "\n",
      "8. Cümle çifti:\n",
      "arabic_translation                         المشي في الجبال يمنح الطاقة ويجلب الهدوء\n",
      "arabic_translation1                       المشي في الجبال يعزز الحيوية ويحضر الهدوء\n",
      "translation_meaning          Dağlarda yürüyüş yapmak enerji verir ve huzur getirir.\n",
      "translation_meaning1    Dağlarda yürüyüş yapmak canlılığı artırır ve huzur getirir.\n",
      "Name: 8, dtype: object\n",
      "Similarity Score:0.892330527305603\n",
      "\n",
      "9. Cümle çifti:\n",
      "arabic_translation                        تجربة نكهات مختلفة ممتعة ولذيذة\n",
      "arabic_translation1               تجربة نكهات متنوعة مليء بالمرح والذواقة\n",
      "translation_meaning      Farklı tatları denemek eğlenceli ve lezzetlidir.\n",
      "translation_meaning1    Çeşitli tatları denemek eğlenceli ve lezzetlidir.\n",
      "Name: 9, dtype: object\n",
      "Similarity Score:0.8063454627990723\n",
      "\n",
      "10. Cümle çifti:\n",
      "arabic_translation                              المشي يسمح لك بالحصول على هواء نقي\n",
      "arabic_translation1                          المشي يمنحك فرصة للتنفس بالهواء النقي\n",
      "translation_meaning                       Yürüyüş yapmak taze hava almanızı sağlar\n",
      "translation_meaning1    Yürüyüş yapmak taze hava almanızı sağlayan bir deneyimdir.\n",
      "Name: 10, dtype: object\n",
      "Similarity Score:0.9291571378707886\n",
      "\n",
      "11. Cümle çifti:\n",
      "arabic_translation                                         في الربيع تزهر الزهور وتستيقظ الطبيعة\n",
      "arabic_translation1                           في فصل الربيع تفتح الزهور وتعود الطبيعة إلى الحياة\n",
      "translation_meaning                                         Baharda çiçekler açar ve doğa uyanır\n",
      "translation_meaning1    Baharda çiçekler açar ve doğa uyanır, bu da manevi bir huzur kaynağıdır.\n",
      "Name: 11, dtype: object\n",
      "Similarity Score:0.9034774899482727\n",
      "\n",
      "12. Cümle çifti:\n",
      "arabic_translation                 قضاء الوقت على الشاطئ في أيام مشمسة ممتع\n",
      "arabic_translation1      الاستمتاع بأوقات الشاطئ في أيام مشمسة يعتبر مسليًا\n",
      "translation_meaning     Güneşli günlerde plajda vakit geçirmek eğlencelidir\n",
      "translation_meaning1     Güneşli günlerde plajda vakit geçirmek keyiflidir.\n",
      "Name: 12, dtype: object\n",
      "Similarity Score:0.799815833568573\n",
      "\n",
      "13. Cümle çifti:\n",
      "arabic_translation                                        ركوب الدراجة منعش وصحي\n",
      "arabic_translation1                                ركوب الدراجة ممتع ومفيد للصحة\n",
      "translation_meaning                   Bisiklet sürmek serinletici ve sağlıklıdır\n",
      "translation_meaning1    Bisiklet sürmek serinletici ve sağlıklı bir aktivitedir.\n",
      "Name: 13, dtype: object\n",
      "Similarity Score:0.9033517837524414\n",
      "\n",
      "14. Cümle çifti:\n",
      "arabic_translation                                               النظر إلى السماء له تأثير مهدئ\n",
      "arabic_translation1                                            التحديق في السماء يؤثر بشكل مهدئ\n",
      "translation_meaning                         Gökyüzüne bakmak sakinleştirici bir etkiye sahiptir\n",
      "translation_meaning1    Gökyüzüne bakmak sakinleştirici bir etkiye sahiptir ve iç huzur sağlar.\n",
      "Name: 14, dtype: object\n",
      "Similarity Score:0.8870405554771423\n",
      "\n",
      "15. Cümle çifti:\n",
      "arabic_translation                         المشي على الشاطئ يمنح الهدوء ويزيل الضغط\n",
      "arabic_translation1                     التجول على الشاطئ يهدئ الأعصاب ويزيل التوتر\n",
      "translation_meaning             Sahilde yürümek sakinlik getirir ve stresi azaltır.\n",
      "translation_meaning1    Kıyıda gezinmek sinirleri yatıştırır ve gerginliği giderir.\n",
      "Name: 15, dtype: object\n",
      "Similarity Score:0.9503129124641418\n",
      "\n",
      "16. Cümle çifti:\n",
      "arabic_translation                                                   التأمل في مكان هادئ مريح\n",
      "arabic_translation1                                   التأمل في مكان هادئ يساعد على الاسترخاء\n",
      "translation_meaning                         Sessiz bir yerde meditasyon yapmak rahatlatıcıdır\n",
      "translation_meaning1    Sessiz bir yerde meditasyon yapmak rahatlatıcıdır ve iç huzur sağlar.\n",
      "Name: 16, dtype: object\n",
      "Similarity Score:0.825339674949646\n",
      "\n",
      "17. Cümle çifti:\n",
      "arabic_translation                          التخييم في الطبيعة مليء بالمغامرة ومسلي\n",
      "arabic_translation1              التخييم في الطبيعة يحمل الكثير من المغامرات والمرح\n",
      "translation_meaning                  Doğada kamp yapmak macera dolu ve eğlencelidir\n",
      "translation_meaning1    Doğada kamp yapmak macera dolu ve eğlenceli bir deneyimdir.\n",
      "Name: 17, dtype: object\n",
      "Similarity Score:0.9023697972297668\n",
      "\n",
      "18. Cümle çifti:\n",
      "arabic_translation                     تمتع بيومك مع مشروب دافئ\n",
      "arabic_translation1                  استمتع بيومك مع مشروب ساخن\n",
      "translation_meaning      Sıcak bir içecekle günün tadını çıkar.\n",
      "translation_meaning1    Sıcak bir içecekle günün keyfini çıkar.\n",
      "Name: 18, dtype: object\n",
      "Similarity Score:0.9663304686546326\n",
      "\n",
      "19. Cümle çifti:\n",
      "arabic_translation                اغمض عينيك واسترخي بسلام\n",
      "arabic_translation1               أغلق عينيك واسترح بسكينة\n",
      "translation_meaning     Gözlerini kapat ve huzurla dinlen.\n",
      "translation_meaning1          Gözlerini kapat ve sakinleş.\n",
      "Name: 19, dtype: object\n",
      "Similarity Score:0.7998930811882019\n",
      "\n",
      "20. Cümle çifti:\n",
      "arabic_translation           إطلالة جميلة توفر سكينة روحية\n",
      "arabic_translation1        إطلالة رائعة تمنح الهدوء الروحي\n",
      "translation_meaning         Güzel manzara iç huzur sağlar.\n",
      "translation_meaning1    Harika bir manzara iç huzur sunar.\n",
      "Name: 20, dtype: object\n",
      "Similarity Score:0.8223204016685486\n",
      "\n",
      "21. Cümle çifti:\n",
      "arabic_translation                              قضاء الوقت مع من تحب قيمة عظيمة\n",
      "arabic_translation1                      الوقت الذي تقضيه مع من تحب يكون ثمينًا\n",
      "translation_meaning     Sevdiklerinle zaman geçirmek büyük bir değere sahiptir.\n",
      "translation_meaning1             Sevdiklerinle geçirdiğin zaman çok değerlidir.\n",
      "Name: 21, dtype: object\n",
      "Similarity Score:0.7706854343414307\n",
      "\n",
      "22. Cümle çifti:\n",
      "arabic_translation                          مشاهدة النجوم تجربة ساحرة\n",
      "arabic_translation1                            رصد النجوم تجربة ساحرة\n",
      "translation_meaning         Yıldızları izlemek büyülü bir deneyimdir.\n",
      "translation_meaning1    Yıldızları gözlemlemek büyülü bir deneyimdir.\n",
      "Name: 22, dtype: object\n",
      "Similarity Score:0.8646742105484009\n",
      "\n",
      "23. Cümle çifti:\n",
      "arabic_translation               لقاء الأصدقاء القدامى يسعد القلب\n",
      "arabic_translation1            لقاء الأصدقاء القدامى يشعر بالسرور\n",
      "translation_meaning      Eski dostlarla buluşmak sevinç vericidir\n",
      "translation_meaning1    Eski dostlarla buluşmak sevinç vericidir.\n",
      "Name: 23, dtype: object\n",
      "Similarity Score:0.895490288734436\n",
      "\n",
      "24. Cümle çifti:\n",
      "arabic_translation               تناول وجبة خفيفة يمنح الطاقة\n",
      "arabic_translation1            تناول وجبة خفيفة يزود بالحيوية\n",
      "translation_meaning        Hafif bir öğün yemek enerji verir.\n",
      "translation_meaning1    Hafif bir öğün yemek canlılık sağlar.\n",
      "Name: 24, dtype: object\n",
      "Similarity Score:0.941571831703186\n",
      "\n",
      "25. Cümle çifti:\n",
      "arabic_translation         شرب شوربات دافئة في الشتاء رائع\n",
      "arabic_translation1       شرب الحساء الساخن في الشتاء رائع\n",
      "translation_meaning     Kışın sıcak çorbalar içmek harika.\n",
      "translation_meaning1       Kışın sıcak çorba içmek harika.\n",
      "Name: 25, dtype: object\n",
      "Similarity Score:0.9254794716835022\n",
      "\n",
      "26. Cümle çifti:\n",
      "arabic_translation            مشاهدة الأفلام مع العائلة ممتع\n",
      "arabic_translation1           مشاهدة الأفلام مع الأسرة يُسعد\n",
      "translation_meaning         Aileyle film izlemek keyiflidir.\n",
      "translation_meaning1    Aileyle film izlemek mutluluk verir.\n",
      "Name: 26, dtype: object\n",
      "Similarity Score:0.7770406603813171\n",
      "\n",
      "27. Cümle çifti:\n",
      "arabic_translation              الاحتفال بعيد الميلاد يسعد\n",
      "arabic_translation1     الاحتفال بعيد الميلاد يعزز السعادة\n",
      "translation_meaning        Noel kutlamak mutluluk getirir.\n",
      "translation_meaning1      Noel kutlamak mutluluğu artırır.\n",
      "Name: 27, dtype: object\n",
      "Similarity Score:0.8473583459854126\n",
      "\n",
      "28. Cümle çifti:\n",
      "arabic_translation          الحيوانات الأليفة تجلب الحب والفرح\n",
      "arabic_translation1        الحيوانات الأليفة تجلب الحب والسرور\n",
      "translation_meaning      Evcil hayvanlar sevgi ve neşe getirir\n",
      "translation_meaning1    Evcil hayvanlar sevgi ve neşe getirir.\n",
      "Name: 28, dtype: object\n",
      "Similarity Score:0.9671057462692261\n",
      "\n",
      "29. Cümle çifti:\n",
      "arabic_translation             المشي في الطبيعة ينعش الروح\n",
      "arabic_translation1           التجول في الطبيعة يحيي الروح\n",
      "translation_meaning      Doğa yürüyüşleri ruhu canlandırır\n",
      "translation_meaning1    Doğa yürüyüşleri ruhu canlandırır.\n",
      "Name: 29, dtype: object\n",
      "Similarity Score:0.9013341069221497\n",
      "\n",
      "30. Cümle çifti:\n",
      "arabic_translation               عزف الجيتار هو هواية ممتعة\n",
      "arabic_translation1        العزف على الجيتار هو هواية مسلية\n",
      "translation_meaning     Gitar çalmak eğlenceli bir hobidir.\n",
      "translation_meaning1     Gitar çalmak zevkli bir uğraşıdır.\n",
      "Name: 30, dtype: object\n",
      "Similarity Score:0.9481186866760254\n",
      "\n",
      "31. Cümle çifti:\n",
      "arabic_translation              استكشاف الطبيعة على الدراجة تجربة رائعة\n",
      "arabic_translation1           استكشاف الطبيعة بركوب الدراجة تجربة رائعة\n",
      "translation_meaning      Doğayı bisikletle keşfetmek harika bir deneyim\n",
      "translation_meaning1    Doğayı bisikletle keşfetmek harika bir deneyim.\n",
      "Name: 31, dtype: object\n",
      "Similarity Score:0.9616219997406006\n",
      "\n",
      "32. Cümle çifti:\n",
      "arabic_translation                    تناول الآيس كريم منعش ولذيذ\n",
      "arabic_translation1                   تناول الآيس كريم منعش ولذيذ\n",
      "translation_meaning     Dondurma yemek ferahlatıcı ve lezzetlidir\n",
      "translation_meaning1    Dondurma yemek ferahlatıcı ve lezzetlidir\n",
      "Name: 32, dtype: object\n",
      "Similarity Score:1.0000001192092896\n",
      "\n",
      "33. Cümle çifti:\n",
      "arabic_translation                       في الأيام الممطرة، ابق في المنزل واقرأ كتابًا\n",
      "arabic_translation1                 في الأيام الممطرة، قراءة كتاب في المنزل تمرّن ممتع\n",
      "translation_meaning                      Yağmurlu günlerde evde kalın ve kitap okuyun.\n",
      "translation_meaning1    Yağmurlu günlerde evde kitap okumak eğlenceli bir egzersizdir.\n",
      "Name: 33, dtype: object\n",
      "Similarity Score:0.7835192680358887\n",
      "\n",
      "34. Cümle çifti:\n",
      "arabic_translation               الاستلقاء على الشاطئ في يوم مشمس يمنح الهدوء\n",
      "arabic_translation1             الاستلقاء على الشاطئ في يوم مشمس يعزز السكينة\n",
      "translation_meaning             Güneşli bir günde sahilde uzanmak huzur verir\n",
      "translation_meaning1    Güneşli bir günde sahilde uzanmak huzuru teşvik eder.\n",
      "Name: 34, dtype: object\n",
      "Similarity Score:0.9764525890350342\n",
      "\n",
      "35. Cümle çifti:\n",
      "arabic_translation                            النظر إلى لوحة جميلة تجربة عاطفية\n",
      "arabic_translation1                           التحديق في لوحة جميلة تجربة مؤثرة\n",
      "translation_meaning           Güzel bir tabloya bakmak duygusal bir deneyimdir.\n",
      "translation_meaning1    Güzel bir tabloya bakmak duygulandırıcı bir deneyimdir.\n",
      "Name: 35, dtype: object\n",
      "Similarity Score:0.8463976979255676\n",
      "\n",
      "36. Cümle çifti:\n",
      "arabic_translation            تناول الحلوى يجلب السعادة\n",
      "arabic_translation1            تناول الحلوى يعزز البهجة\n",
      "translation_meaning        Tatlı yemek mutluluk getirir\n",
      "translation_meaning1    Tatlı yemek mutluluğu arttırır.\n",
      "Name: 36, dtype: object\n",
      "Similarity Score:0.9211874604225159\n",
      "\n",
      "37. Cümle çifti:\n",
      "arabic_translation                          التخييم في الطبيعة مليء بالمغامرة ومسلي\n",
      "arabic_translation1              التخييم في الطبيعة يحمل الكثير من المغامرات والمرح\n",
      "translation_meaning                  Doğada kamp yapmak macera dolu ve eğlencelidir\n",
      "translation_meaning1    Doğada kamp yapmak macera dolu ve eğlenceli bir deneyimdir.\n",
      "Name: 37, dtype: object\n",
      "Similarity Score:0.9023697972297668\n",
      "\n",
      "38. Cümle çifti:\n",
      "arabic_translation                     الدردشة مع صديق يمكن أن تكون ممتعة\n",
      "arabic_translation1                            الحديث مع صديق يجلب المتعة\n",
      "translation_meaning     Bir arkadaşınızla sohbet etmek eğlenceli olabilir\n",
      "translation_meaning1               Bir arkadaşla konuşmak eğlence getirir\n",
      "Name: 38, dtype: object\n",
      "Similarity Score:0.8674873113632202\n",
      "\n",
      "39. Cümle çifti:\n",
      "arabic_translation                      مشاهدة الألعاب النارية تجربة ساحرة\n",
      "arabic_translation1                     مشاهدة الألعاب النارية تجربة رائعة\n",
      "translation_meaning     Ateşli oyunları izlemek büyüleyici bir deneyimdir.\n",
      "translation_meaning1        Ateşli oyunları izlemek harika bir deneyimdir.\n",
      "Name: 39, dtype: object\n",
      "Similarity Score:0.9678761959075928\n",
      "\n",
      "40. Cümle çifti:\n",
      "arabic_translation      قضاء يوم جميل في نزهة في الهواء الطلق يكون رائعًا\n",
      "arabic_translation1     قضاء يوم جميل في نزهة في الهواء الطلق يكون ممتعًا\n",
      "translation_meaning        Temiz havada güzel bir gün geçirmek harikadır.\n",
      "translation_meaning1    Temiz havada güzel bir gün geçirmek eğlencelidir.\n",
      "Name: 40, dtype: object\n",
      "Similarity Score:1.0\n",
      "\n",
      "41. Cümle çifti:\n",
      "arabic_translation               النظر إلى الصور القديمة يحيي الذكريات\n",
      "arabic_translation1           الاستمرار في الصور القديمة يجدد الذكريات\n",
      "translation_meaning      Eski fotoğraflara bakmak anıları canlandırır.\n",
      "translation_meaning1    Eski fotoğraflara devam etmek anıları yeniler.\n",
      "Name: 41, dtype: object\n",
      "Similarity Score:0.9325885772705078\n",
      "\n"
     ]
    }
   ],
   "source": [
    "arabert_base_v02_list = []\n",
    "for index, row in df.iterrows():\n",
    "    score = arabert_base_v02.get_similarity([row[\"arabic_translation\"],row[\"arabic_translation1\"]])\n",
    "    print(f\"{index}. Cümle çifti:\\n{row}\\nSimilarity Score:{score}\\n\")\n",
    "    arabert_base_v02_list.append(score)"
   ]
  },
  {
   "cell_type": "markdown",
   "metadata": {},
   "source": [
    "41 cümlede 43 saniye"
   ]
  },
  {
   "cell_type": "code",
   "execution_count": 66,
   "metadata": {},
   "outputs": [
    {
     "name": "stdout",
     "output_type": "stream",
     "text": [
      "Ortalama bert-base-arabertv02 score: 0.8919736955847059\n"
     ]
    }
   ],
   "source": [
    "average = sum(arabert_base_v02_list) / len(arabert_base_v02_list)\n",
    "print(f\"Ortalama bert-base-arabertv02 score: {average}\")"
   ]
  },
  {
   "cell_type": "markdown",
   "metadata": {},
   "source": [
    "#### farklı verilerde deneyelim"
   ]
  },
  {
   "cell_type": "code",
   "execution_count": 67,
   "metadata": {},
   "outputs": [
    {
     "data": {
      "text/html": [
       "<div>\n",
       "<style scoped>\n",
       "    .dataframe tbody tr th:only-of-type {\n",
       "        vertical-align: middle;\n",
       "    }\n",
       "\n",
       "    .dataframe tbody tr th {\n",
       "        vertical-align: top;\n",
       "    }\n",
       "\n",
       "    .dataframe thead th {\n",
       "        text-align: right;\n",
       "    }\n",
       "</style>\n",
       "<table border=\"1\" class=\"dataframe\">\n",
       "  <thead>\n",
       "    <tr style=\"text-align: right;\">\n",
       "      <th></th>\n",
       "      <th>arabic_translation</th>\n",
       "      <th>translation_meaning</th>\n",
       "      <th>reversed_arabic_translation1</th>\n",
       "      <th>reversed_translation_meaning1</th>\n",
       "    </tr>\n",
       "  </thead>\n",
       "  <tbody>\n",
       "    <tr>\n",
       "      <th>0</th>\n",
       "      <td>القراءة في المنزل ممتعة ومطمئنة</td>\n",
       "      <td>Evde okuma keyifli ve huzur vericidir.</td>\n",
       "      <td>الاستمرار في الصور القديمة يجدد الذكريات</td>\n",
       "      <td>Eski fotoğraflara devam etmek anıları yeniler.</td>\n",
       "    </tr>\n",
       "    <tr>\n",
       "      <th>1</th>\n",
       "      <td>طهي الطعام ممتع ولذيذ</td>\n",
       "      <td>Yemek pişirmek eğlenceli ve lezzetlidir.</td>\n",
       "      <td>قضاء يوم جميل في نزهة في الهواء الطلق يكون ممتعًا</td>\n",
       "      <td>Temiz havada güzel bir gün geçirmek eğlencelidir.</td>\n",
       "    </tr>\n",
       "    <tr>\n",
       "      <th>2</th>\n",
       "      <td>الاستماع إلى الموسيقى يريح روحي</td>\n",
       "      <td>Müzik dinlemek ruhumu dinlendirir.</td>\n",
       "      <td>مشاهدة الألعاب النارية تجربة رائعة</td>\n",
       "      <td>Ateşli oyunları izlemek harika bir deneyimdir.</td>\n",
       "    </tr>\n",
       "    <tr>\n",
       "      <th>3</th>\n",
       "      <td>الرسم مريح ومبدع</td>\n",
       "      <td>Resim yapmak huzur verici ve yaratıcıdır</td>\n",
       "      <td>الحديث مع صديق يجلب المتعة</td>\n",
       "      <td>Bir arkadaşla konuşmak eğlence getirir</td>\n",
       "    </tr>\n",
       "    <tr>\n",
       "      <th>4</th>\n",
       "      <td>قضاء الوقت في الحديقة مطمئن</td>\n",
       "      <td>Bahçede zaman geçirmek huzur verici</td>\n",
       "      <td>التخييم في الطبيعة يحمل الكثير من المغامرات والمرح</td>\n",
       "      <td>Doğada kamp yapmak macera dolu ve eğlenceli bir deneyimdir.</td>\n",
       "    </tr>\n",
       "  </tbody>\n",
       "</table>\n",
       "</div>"
      ],
      "text/plain": [
       "                arabic_translation                       translation_meaning  \\\n",
       "0  القراءة في المنزل ممتعة ومطمئنة    Evde okuma keyifli ve huzur vericidir.   \n",
       "1            طهي الطعام ممتع ولذيذ  Yemek pişirmek eğlenceli ve lezzetlidir.   \n",
       "2  الاستماع إلى الموسيقى يريح روحي        Müzik dinlemek ruhumu dinlendirir.   \n",
       "3                 الرسم مريح ومبدع  Resim yapmak huzur verici ve yaratıcıdır   \n",
       "4      قضاء الوقت في الحديقة مطمئن       Bahçede zaman geçirmek huzur verici   \n",
       "\n",
       "                         reversed_arabic_translation1  \\\n",
       "0            الاستمرار في الصور القديمة يجدد الذكريات   \n",
       "1   قضاء يوم جميل في نزهة في الهواء الطلق يكون ممتعًا   \n",
       "2                  مشاهدة الألعاب النارية تجربة رائعة   \n",
       "3                          الحديث مع صديق يجلب المتعة   \n",
       "4  التخييم في الطبيعة يحمل الكثير من المغامرات والمرح   \n",
       "\n",
       "                                 reversed_translation_meaning1  \n",
       "0               Eski fotoğraflara devam etmek anıları yeniler.  \n",
       "1            Temiz havada güzel bir gün geçirmek eğlencelidir.  \n",
       "2               Ateşli oyunları izlemek harika bir deneyimdir.  \n",
       "3                       Bir arkadaşla konuşmak eğlence getirir  \n",
       "4  Doğada kamp yapmak macera dolu ve eğlenceli bir deneyimdir.  "
      ]
     },
     "execution_count": 67,
     "metadata": {},
     "output_type": "execute_result"
    }
   ],
   "source": [
    "df[\"reversed_arabic_translation1\"] = df[\"arabic_translation1\"][::-1].values\n",
    "df[\"reversed_translation_meaning1\"] = df[\"translation_meaning1\"][::-1].values\n",
    "df = df[[\"arabic_translation\",\"translation_meaning\",\"reversed_arabic_translation1\",\"reversed_translation_meaning1\"]]\n",
    "df.head()"
   ]
  },
  {
   "cell_type": "code",
   "execution_count": 68,
   "metadata": {},
   "outputs": [
    {
     "name": "stdout",
     "output_type": "stream",
     "text": [
      "0. Cümle çifti:\n",
      "arabic_translation                              القراءة في المنزل ممتعة ومطمئنة\n",
      "translation_meaning                      Evde okuma keyifli ve huzur vericidir.\n",
      "reversed_arabic_translation1           الاستمرار في الصور القديمة يجدد الذكريات\n",
      "reversed_translation_meaning1    Eski fotoğraflara devam etmek anıları yeniler.\n",
      "Name: 0, dtype: object\n",
      "Similarity Score:0.6373833417892456\n",
      "\n",
      "1. Cümle çifti:\n",
      "arabic_translation                                           طهي الطعام ممتع ولذيذ\n",
      "translation_meaning                       Yemek pişirmek eğlenceli ve lezzetlidir.\n",
      "reversed_arabic_translation1     قضاء يوم جميل في نزهة في الهواء الطلق يكون ممتعًا\n",
      "reversed_translation_meaning1    Temiz havada güzel bir gün geçirmek eğlencelidir.\n",
      "Name: 1, dtype: object\n",
      "Similarity Score:0.5539705157279968\n",
      "\n",
      "2. Cümle çifti:\n",
      "arabic_translation                              الاستماع إلى الموسيقى يريح روحي\n",
      "translation_meaning                          Müzik dinlemek ruhumu dinlendirir.\n",
      "reversed_arabic_translation1                 مشاهدة الألعاب النارية تجربة رائعة\n",
      "reversed_translation_meaning1    Ateşli oyunları izlemek harika bir deneyimdir.\n",
      "Name: 2, dtype: object\n",
      "Similarity Score:0.6375390887260437\n",
      "\n",
      "3. Cümle çifti:\n",
      "arabic_translation                                       الرسم مريح ومبدع\n",
      "translation_meaning              Resim yapmak huzur verici ve yaratıcıdır\n",
      "reversed_arabic_translation1                   الحديث مع صديق يجلب المتعة\n",
      "reversed_translation_meaning1      Bir arkadaşla konuşmak eğlence getirir\n",
      "Name: 3, dtype: object\n",
      "Similarity Score:0.5750260353088379\n",
      "\n",
      "4. Cümle çifti:\n",
      "arabic_translation                                               قضاء الوقت في الحديقة مطمئن\n",
      "translation_meaning                                      Bahçede zaman geçirmek huzur verici\n",
      "reversed_arabic_translation1              التخييم في الطبيعة يحمل الكثير من المغامرات والمرح\n",
      "reversed_translation_meaning1    Doğada kamp yapmak macera dolu ve eğlenceli bir deneyimdir.\n",
      "Name: 4, dtype: object\n",
      "Similarity Score:0.6974276900291443\n",
      "\n",
      "5. Cümle çifti:\n",
      "arabic_translation                  ممارسة اليوغا تمنح الطاقة وتجلب الهدوء\n",
      "translation_meaning              Yoga yapmak enerji verir ve huzur getirir\n",
      "reversed_arabic_translation1                      تناول الحلوى يعزز البهجة\n",
      "reversed_translation_meaning1              Tatlı yemek mutluluğu arttırır.\n",
      "Name: 5, dtype: object\n",
      "Similarity Score:0.6542872190475464\n",
      "\n",
      "6. Cümle çifti:\n",
      "arabic_translation                                        الاسترخاء على شاطئ البحر مطمئن\n",
      "translation_meaning                               Deniz kenarında rahatlamak huzur verir\n",
      "reversed_arabic_translation1                           التحديق في لوحة جميلة تجربة مؤثرة\n",
      "reversed_translation_meaning1    Güzel bir tabloya bakmak duygulandırıcı bir deneyimdir.\n",
      "Name: 6, dtype: object\n",
      "Similarity Score:0.6252826452255249\n",
      "\n",
      "7. Cümle çifti:\n",
      "arabic_translation                                        اكتشاف ثقافات مختلفة مثير وتعليمي\n",
      "translation_meaning              Farklı kültürleri keşfetmek heyecan verici ve öğreticidir.\n",
      "reversed_arabic_translation1                  الاستلقاء على الشاطئ في يوم مشمس يعزز السكينة\n",
      "reversed_translation_meaning1         Güneşli bir günde sahilde uzanmak huzuru teşvik eder.\n",
      "Name: 7, dtype: object\n",
      "Similarity Score:0.5746625661849976\n",
      "\n",
      "8. Cümle çifti:\n",
      "arabic_translation                                     المشي في الجبال يمنح الطاقة ويجلب الهدوء\n",
      "translation_meaning                      Dağlarda yürüyüş yapmak enerji verir ve huzur getirir.\n",
      "reversed_arabic_translation1                 في الأيام الممطرة، قراءة كتاب في المنزل تمرّن ممتع\n",
      "reversed_translation_meaning1    Yağmurlu günlerde evde kitap okumak eğlenceli bir egzersizdir.\n",
      "Name: 8, dtype: object\n",
      "Similarity Score:0.5578501224517822\n",
      "\n",
      "9. Cümle çifti:\n",
      "arabic_translation                                تجربة نكهات مختلفة ممتعة ولذيذة\n",
      "translation_meaning              Farklı tatları denemek eğlenceli ve lezzetlidir.\n",
      "reversed_arabic_translation1                          تناول الآيس كريم منعش ولذيذ\n",
      "reversed_translation_meaning1           Dondurma yemek ferahlatıcı ve lezzetlidir\n",
      "Name: 9, dtype: object\n",
      "Similarity Score:0.7383431196212769\n",
      "\n",
      "10. Cümle çifti:\n",
      "arabic_translation                            المشي يسمح لك بالحصول على هواء نقي\n",
      "translation_meaning                     Yürüyüş yapmak taze hava almanızı sağlar\n",
      "reversed_arabic_translation1           استكشاف الطبيعة بركوب الدراجة تجربة رائعة\n",
      "reversed_translation_meaning1    Doğayı bisikletle keşfetmek harika bir deneyim.\n",
      "Name: 10, dtype: object\n",
      "Similarity Score:0.7230961918830872\n",
      "\n",
      "11. Cümle çifti:\n",
      "arabic_translation               في الربيع تزهر الزهور وتستيقظ الطبيعة\n",
      "translation_meaning               Baharda çiçekler açar ve doğa uyanır\n",
      "reversed_arabic_translation1          العزف على الجيتار هو هواية مسلية\n",
      "reversed_translation_meaning1       Gitar çalmak zevkli bir uğraşıdır.\n",
      "Name: 11, dtype: object\n",
      "Similarity Score:0.5802936553955078\n",
      "\n",
      "12. Cümle çifti:\n",
      "arabic_translation                          قضاء الوقت على الشاطئ في أيام مشمسة ممتع\n",
      "translation_meaning              Güneşli günlerde plajda vakit geçirmek eğlencelidir\n",
      "reversed_arabic_translation1                            التجول في الطبيعة يحيي الروح\n",
      "reversed_translation_meaning1                     Doğa yürüyüşleri ruhu canlandırır.\n",
      "Name: 12, dtype: object\n",
      "Similarity Score:0.7561500072479248\n",
      "\n",
      "13. Cümle çifti:\n",
      "arabic_translation                                   ركوب الدراجة منعش وصحي\n",
      "translation_meaning              Bisiklet sürmek serinletici ve sağlıklıdır\n",
      "reversed_arabic_translation1            الحيوانات الأليفة تجلب الحب والسرور\n",
      "reversed_translation_meaning1        Evcil hayvanlar sevgi ve neşe getirir.\n",
      "Name: 13, dtype: object\n",
      "Similarity Score:0.6302008628845215\n",
      "\n",
      "14. Cümle çifti:\n",
      "arabic_translation                                    النظر إلى السماء له تأثير مهدئ\n",
      "translation_meaning              Gökyüzüne bakmak sakinleştirici bir etkiye sahiptir\n",
      "reversed_arabic_translation1                      الاحتفال بعيد الميلاد يعزز السعادة\n",
      "reversed_translation_meaning1                       Noel kutlamak mutluluğu artırır.\n",
      "Name: 14, dtype: object\n",
      "Similarity Score:0.7128833532333374\n",
      "\n",
      "15. Cümle çifti:\n",
      "arabic_translation                          المشي على الشاطئ يمنح الهدوء ويزيل الضغط\n",
      "translation_meaning              Sahilde yürümek sakinlik getirir ve stresi azaltır.\n",
      "reversed_arabic_translation1                          مشاهدة الأفلام مع الأسرة يُسعد\n",
      "reversed_translation_meaning1                   Aileyle film izlemek mutluluk verir.\n",
      "Name: 15, dtype: object\n",
      "Similarity Score:0.38261955976486206\n",
      "\n",
      "16. Cümle çifti:\n",
      "arabic_translation                                        التأمل في مكان هادئ مريح\n",
      "translation_meaning              Sessiz bir yerde meditasyon yapmak rahatlatıcıdır\n",
      "reversed_arabic_translation1                      شرب الحساء الساخن في الشتاء رائع\n",
      "reversed_translation_meaning1                      Kışın sıcak çorba içmek harika.\n",
      "Name: 16, dtype: object\n",
      "Similarity Score:0.6128108501434326\n",
      "\n",
      "17. Cümle çifti:\n",
      "arabic_translation                      التخييم في الطبيعة مليء بالمغامرة ومسلي\n",
      "translation_meaning              Doğada kamp yapmak macera dolu ve eğlencelidir\n",
      "reversed_arabic_translation1                     تناول وجبة خفيفة يزود بالحيوية\n",
      "reversed_translation_meaning1             Hafif bir öğün yemek canlılık sağlar.\n",
      "Name: 17, dtype: object\n",
      "Similarity Score:0.6388661861419678\n",
      "\n",
      "18. Cümle çifti:\n",
      "arabic_translation                                تمتع بيومك مع مشروب دافئ\n",
      "translation_meaning                 Sıcak bir içecekle günün tadını çıkar.\n",
      "reversed_arabic_translation1            لقاء الأصدقاء القدامى يشعر بالسرور\n",
      "reversed_translation_meaning1    Eski dostlarla buluşmak sevinç vericidir.\n",
      "Name: 18, dtype: object\n",
      "Similarity Score:0.648113489151001\n",
      "\n",
      "19. Cümle çifti:\n",
      "arabic_translation                                    اغمض عينيك واسترخي بسلام\n",
      "translation_meaning                         Gözlerini kapat ve huzurla dinlen.\n",
      "reversed_arabic_translation1                            رصد النجوم تجربة ساحرة\n",
      "reversed_translation_meaning1    Yıldızları gözlemlemek büyülü bir deneyimdir.\n",
      "Name: 19, dtype: object\n",
      "Similarity Score:0.5001481771469116\n",
      "\n",
      "20. Cümle çifti:\n",
      "arabic_translation                                إطلالة جميلة توفر سكينة روحية\n",
      "translation_meaning                              Güzel manzara iç huzur sağlar.\n",
      "reversed_arabic_translation1             الوقت الذي تقضيه مع من تحب يكون ثمينًا\n",
      "reversed_translation_meaning1    Sevdiklerinle geçirdiğin zaman çok değerlidir.\n",
      "Name: 20, dtype: object\n",
      "Similarity Score:0.35514742136001587\n",
      "\n",
      "21. Cümle çifti:\n",
      "arabic_translation                                       قضاء الوقت مع من تحب قيمة عظيمة\n",
      "translation_meaning              Sevdiklerinle zaman geçirmek büyük bir değere sahiptir.\n",
      "reversed_arabic_translation1                             إطلالة رائعة تمنح الهدوء الروحي\n",
      "reversed_translation_meaning1                         Harika bir manzara iç huzur sunar.\n",
      "Name: 21, dtype: object\n",
      "Similarity Score:0.6180542707443237\n",
      "\n",
      "22. Cümle çifti:\n",
      "arabic_translation                               مشاهدة النجوم تجربة ساحرة\n",
      "translation_meaning              Yıldızları izlemek büyülü bir deneyimdir.\n",
      "reversed_arabic_translation1                      أغلق عينيك واسترح بسكينة\n",
      "reversed_translation_meaning1                 Gözlerini kapat ve sakinleş.\n",
      "Name: 22, dtype: object\n",
      "Similarity Score:0.6018813848495483\n",
      "\n",
      "23. Cümle çifti:\n",
      "arabic_translation                       لقاء الأصدقاء القدامى يسعد القلب\n",
      "translation_meaning              Eski dostlarla buluşmak sevinç vericidir\n",
      "reversed_arabic_translation1                   استمتع بيومك مع مشروب ساخن\n",
      "reversed_translation_meaning1     Sıcak bir içecekle günün keyfini çıkar.\n",
      "Name: 23, dtype: object\n",
      "Similarity Score:0.6521815061569214\n",
      "\n",
      "24. Cümle çifti:\n",
      "arabic_translation                                              تناول وجبة خفيفة يمنح الطاقة\n",
      "translation_meaning                                       Hafif bir öğün yemek enerji verir.\n",
      "reversed_arabic_translation1              التخييم في الطبيعة يحمل الكثير من المغامرات والمرح\n",
      "reversed_translation_meaning1    Doğada kamp yapmak macera dolu ve eğlenceli bir deneyimdir.\n",
      "Name: 24, dtype: object\n",
      "Similarity Score:0.6246403455734253\n",
      "\n",
      "25. Cümle çifti:\n",
      "arabic_translation                                                     شرب شوربات دافئة في الشتاء رائع\n",
      "translation_meaning                                                 Kışın sıcak çorbalar içmek harika.\n",
      "reversed_arabic_translation1                                   التأمل في مكان هادئ يساعد على الاسترخاء\n",
      "reversed_translation_meaning1    Sessiz bir yerde meditasyon yapmak rahatlatıcıdır ve iç huzur sağlar.\n",
      "Name: 25, dtype: object\n",
      "Similarity Score:0.6888374090194702\n",
      "\n",
      "26. Cümle çifti:\n",
      "arabic_translation                                            مشاهدة الأفلام مع العائلة ممتع\n",
      "translation_meaning                                         Aileyle film izlemek keyiflidir.\n",
      "reversed_arabic_translation1                     التجول على الشاطئ يهدئ الأعصاب ويزيل التوتر\n",
      "reversed_translation_meaning1    Kıyıda gezinmek sinirleri yatıştırır ve gerginliği giderir.\n",
      "Name: 26, dtype: object\n",
      "Similarity Score:0.5430347919464111\n",
      "\n",
      "27. Cümle çifti:\n",
      "arabic_translation                                                            الاحتفال بعيد الميلاد يسعد\n",
      "translation_meaning                                                      Noel kutlamak mutluluk getirir.\n",
      "reversed_arabic_translation1                                            التحديق في السماء يؤثر بشكل مهدئ\n",
      "reversed_translation_meaning1    Gökyüzüne bakmak sakinleştirici bir etkiye sahiptir ve iç huzur sağlar.\n",
      "Name: 27, dtype: object\n",
      "Similarity Score:0.6190537214279175\n",
      "\n",
      "28. Cümle çifti:\n",
      "arabic_translation                                     الحيوانات الأليفة تجلب الحب والفرح\n",
      "translation_meaning                                 Evcil hayvanlar sevgi ve neşe getirir\n",
      "reversed_arabic_translation1                                ركوب الدراجة ممتع ومفيد للصحة\n",
      "reversed_translation_meaning1    Bisiklet sürmek serinletici ve sağlıklı bir aktivitedir.\n",
      "Name: 28, dtype: object\n",
      "Similarity Score:0.6227436065673828\n",
      "\n",
      "29. Cümle çifti:\n",
      "arabic_translation                                      المشي في الطبيعة ينعش الروح\n",
      "translation_meaning                               Doğa yürüyüşleri ruhu canlandırır\n",
      "reversed_arabic_translation1     الاستمتاع بأوقات الشاطئ في أيام مشمسة يعتبر مسليًا\n",
      "reversed_translation_meaning1    Güneşli günlerde plajda vakit geçirmek keyiflidir.\n",
      "Name: 29, dtype: object\n",
      "Similarity Score:0.5858166217803955\n",
      "\n",
      "30. Cümle çifti:\n",
      "arabic_translation                                                             عزف الجيتار هو هواية ممتعة\n",
      "translation_meaning                                                   Gitar çalmak eğlenceli bir hobidir.\n",
      "reversed_arabic_translation1                           في فصل الربيع تفتح الزهور وتعود الطبيعة إلى الحياة\n",
      "reversed_translation_meaning1    Baharda çiçekler açar ve doğa uyanır, bu da manevi bir huzur kaynağıdır.\n",
      "Name: 30, dtype: object\n",
      "Similarity Score:0.5827066898345947\n",
      "\n",
      "31. Cümle çifti:\n",
      "arabic_translation                                  استكشاف الطبيعة على الدراجة تجربة رائعة\n",
      "translation_meaning                          Doğayı bisikletle keşfetmek harika bir deneyim\n",
      "reversed_arabic_translation1                          المشي يمنحك فرصة للتنفس بالهواء النقي\n",
      "reversed_translation_meaning1    Yürüyüş yapmak taze hava almanızı sağlayan bir deneyimdir.\n",
      "Name: 31, dtype: object\n",
      "Similarity Score:0.706158459186554\n",
      "\n",
      "32. Cümle çifti:\n",
      "arabic_translation                                     تناول الآيس كريم منعش ولذيذ\n",
      "translation_meaning                      Dondurma yemek ferahlatıcı ve lezzetlidir\n",
      "reversed_arabic_translation1               تجربة نكهات متنوعة مليء بالمرح والذواقة\n",
      "reversed_translation_meaning1    Çeşitli tatları denemek eğlenceli ve lezzetlidir.\n",
      "Name: 32, dtype: object\n",
      "Similarity Score:0.6402312517166138\n",
      "\n",
      "33. Cümle çifti:\n",
      "arabic_translation                             في الأيام الممطرة، ابق في المنزل واقرأ كتابًا\n",
      "translation_meaning                            Yağmurlu günlerde evde kalın ve kitap okuyun.\n",
      "reversed_arabic_translation1                       المشي في الجبال يعزز الحيوية ويحضر الهدوء\n",
      "reversed_translation_meaning1    Dağlarda yürüyüş yapmak canlılığı artırır ve huzur getirir.\n",
      "Name: 33, dtype: object\n",
      "Similarity Score:0.5401439070701599\n",
      "\n",
      "34. Cümle çifti:\n",
      "arabic_translation                                         الاستلقاء على الشاطئ في يوم مشمس يمنح الهدوء\n",
      "translation_meaning                                       Güneşli bir günde sahilde uzanmak huzur verir\n",
      "reversed_arabic_translation1                               استكشاف ثقافات متنوعة مليء بالإثارة والتعليم\n",
      "reversed_translation_meaning1    Çeşitli kültürleri keşfetmek heyecan verici ve eğitici bir deneyimdir.\n",
      "Name: 34, dtype: object\n",
      "Similarity Score:0.6649543046951294\n",
      "\n",
      "35. Cümle çifti:\n",
      "arabic_translation                               النظر إلى لوحة جميلة تجربة عاطفية\n",
      "translation_meaning              Güzel bir tabloya bakmak duygusal bir deneyimdir.\n",
      "reversed_arabic_translation1                 الاسترخاء على شاطئ البحر يمنح السكينة\n",
      "reversed_translation_meaning1             Deniz kıyısında dinlenmek sakinlik verir\n",
      "Name: 35, dtype: object\n",
      "Similarity Score:0.6696324348449707\n",
      "\n",
      "36. Cümle çifti:\n",
      "arabic_translation                                    تناول الحلوى يجلب السعادة\n",
      "translation_meaning                                Tatlı yemek mutluluk getirir\n",
      "reversed_arabic_translation1            ممارسة اليوغا تعزز الحيوية وتحضر الهدوء\n",
      "reversed_translation_meaning1    Yoga yapmak canlılığı artırır ve huzur getirir\n",
      "Name: 36, dtype: object\n",
      "Similarity Score:0.7116870880126953\n",
      "\n",
      "37. Cümle çifti:\n",
      "arabic_translation                                 التخييم في الطبيعة مليء بالمغامرة ومسلي\n",
      "translation_meaning                         Doğada kamp yapmak macera dolu ve eğlencelidir\n",
      "reversed_arabic_translation1                       الاستمتاع بالوقت في الحديقة مطمئن وممتع\n",
      "reversed_translation_meaning1    Bahçede zamanı keyifli ve huzur dolu bir şekilde geçirmek\n",
      "Name: 37, dtype: object\n",
      "Similarity Score:0.7911590337753296\n",
      "\n",
      "38. Cümle çifti:\n",
      "arabic_translation                              الدردشة مع صديق يمكن أن تكون ممتعة\n",
      "translation_meaning              Bir arkadaşınızla sohbet etmek eğlenceli olabilir\n",
      "reversed_arabic_translation1                                      الرسم مسلي ومبدع\n",
      "reversed_translation_meaning1                Resim yapmak eğlenceli ve yaratıcıdır\n",
      "Name: 38, dtype: object\n",
      "Similarity Score:0.5700681805610657\n",
      "\n",
      "39. Cümle çifti:\n",
      "arabic_translation                               مشاهدة الألعاب النارية تجربة ساحرة\n",
      "translation_meaning              Ateşli oyunları izlemek büyüleyici bir deneyimdir.\n",
      "reversed_arabic_translation1                        الاستماع إلى الموسيقى يهدئ روحي\n",
      "reversed_translation_meaning1                  Müzik dinlemek ruhumu sakinleştirir.\n",
      "Name: 39, dtype: object\n",
      "Similarity Score:0.6262596845626831\n",
      "\n",
      "40. Cümle çifti:\n",
      "arabic_translation               قضاء يوم جميل في نزهة في الهواء الطلق يكون رائعًا\n",
      "translation_meaning                 Temiz havada güzel bir gün geçirmek harikadır.\n",
      "reversed_arabic_translation1                                 طهي الطعام ممتع وذواق\n",
      "reversed_translation_meaning1               Yemek yapmak eğlenceli ve lezzetlidir.\n",
      "Name: 40, dtype: object\n",
      "Similarity Score:0.5071209669113159\n",
      "\n",
      "41. Cümle çifti:\n",
      "arabic_translation                                النظر إلى الصور القديمة يحيي الذكريات\n",
      "translation_meaning                       Eski fotoğraflara bakmak anıları canlandırır.\n",
      "reversed_arabic_translation1                     الاستمتاع بالكتب في المنزل ممتع ومطلوب\n",
      "reversed_translation_meaning1    Evde kitapların tadını çıkarmak keyifli ve gereklidir.\n",
      "Name: 41, dtype: object\n",
      "Similarity Score:0.6794240474700928\n",
      "\n"
     ]
    }
   ],
   "source": [
    "arabert_base_v02_list_reversed = []\n",
    "for index, row in df.iterrows():\n",
    "    score = arabert_base_v02.get_similarity([row[\"arabic_translation\"],row[\"reversed_arabic_translation1\"]])\n",
    "    print(f\"{index}. Cümle çifti:\\n{row}\\nSimilarity Score:{score}\\n\")\n",
    "    arabert_base_v02_list_reversed.append(score)"
   ]
  },
  {
   "cell_type": "code",
   "execution_count": 69,
   "metadata": {},
   "outputs": [
    {
     "name": "stdout",
     "output_type": "stream",
     "text": [
      "Ortalama bert-base-arabertv02 score: 0.6199498048850468\n"
     ]
    }
   ],
   "source": [
    "average = sum(arabert_base_v02_list_reversed) / len(arabert_base_v02_list_reversed)\n",
    "print(f\"Ortalama bert-base-arabertv02 score: {average}\")"
   ]
  },
  {
   "cell_type": "code",
   "execution_count": null,
   "metadata": {},
   "outputs": [],
   "source": []
  },
  {
   "cell_type": "code",
   "execution_count": 71,
   "metadata": {},
   "outputs": [
    {
     "data": {
      "text/html": [
       "<div>\n",
       "<style scoped>\n",
       "    .dataframe tbody tr th:only-of-type {\n",
       "        vertical-align: middle;\n",
       "    }\n",
       "\n",
       "    .dataframe tbody tr th {\n",
       "        vertical-align: top;\n",
       "    }\n",
       "\n",
       "    .dataframe thead th {\n",
       "        text-align: right;\n",
       "    }\n",
       "</style>\n",
       "<table border=\"1\" class=\"dataframe\">\n",
       "  <thead>\n",
       "    <tr style=\"text-align: right;\">\n",
       "      <th></th>\n",
       "      <th>model</th>\n",
       "      <th>accuracy</th>\n",
       "      <th>runtime</th>\n",
       "      <th>reversed_accuracy</th>\n",
       "    </tr>\n",
       "  </thead>\n",
       "  <tbody>\n",
       "    <tr>\n",
       "      <th>0</th>\n",
       "      <td>CAMELBERT</td>\n",
       "      <td>0.889</td>\n",
       "      <td>45</td>\n",
       "      <td>0.577</td>\n",
       "    </tr>\n",
       "    <tr>\n",
       "      <th>1</th>\n",
       "      <td>ARABERT/large</td>\n",
       "      <td>0.842</td>\n",
       "      <td>87</td>\n",
       "      <td>0.561</td>\n",
       "    </tr>\n",
       "    <tr>\n",
       "      <th>2</th>\n",
       "      <td>ARABERT/base</td>\n",
       "      <td>0.891</td>\n",
       "      <td>43</td>\n",
       "      <td>0.619</td>\n",
       "    </tr>\n",
       "  </tbody>\n",
       "</table>\n",
       "</div>"
      ],
      "text/plain": [
       "           model  accuracy  runtime  reversed_accuracy\n",
       "0      CAMELBERT     0.889       45              0.577\n",
       "1  ARABERT/large     0.842       87              0.561\n",
       "2   ARABERT/base     0.891       43              0.619"
      ]
     },
     "execution_count": 71,
     "metadata": {},
     "output_type": "execute_result"
    }
   ],
   "source": [
    "results = {\n",
    "    \"Sonuçlar\":[\n",
    "    {\n",
    "        \"model\":\"CAMELBERT\",\n",
    "        \"accuracy\":0.889,\n",
    "        \"runtime\": 45,\n",
    "        \"reversed_accuracy\":0.577\n",
    "    },\n",
    "    {\n",
    "        \"model\":\"ARABERT/large\",\n",
    "        \"accuracy\":0.842,\n",
    "        \"runtime\": 87,\n",
    "        \"reversed_accuracy\":0.561\n",
    "    },\n",
    "    {\n",
    "        \"model\":\"ARABERT/base\",\n",
    "        \"accuracy\":0.891,\n",
    "        \"runtime\": 43,\n",
    "        \"reversed_accuracy\":0.619\n",
    "    }\n",
    "    ]\n",
    "}\n",
    "\n",
    "df_result = pd.DataFrame(results[\"Sonuçlar\"])\n",
    "df_result"
   ]
  },
  {
   "cell_type": "code",
   "execution_count": null,
   "metadata": {},
   "outputs": [],
   "source": []
  }
 ],
 "metadata": {
  "kernelspec": {
   "display_name": "venv",
   "language": "python",
   "name": "python3"
  },
  "language_info": {
   "codemirror_mode": {
    "name": "ipython",
    "version": 3
   },
   "file_extension": ".py",
   "mimetype": "text/x-python",
   "name": "python",
   "nbconvert_exporter": "python",
   "pygments_lexer": "ipython3",
   "version": "3.8.10"
  },
  "orig_nbformat": 4
 },
 "nbformat": 4,
 "nbformat_minor": 2
}
