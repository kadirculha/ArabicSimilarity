{
 "cells": [
  {
   "cell_type": "code",
   "execution_count": 1,
   "metadata": {},
   "outputs": [
    {
     "name": "stderr",
     "output_type": "stream",
     "text": [
      "d:\\work\\AiThinks\\ArabicSimilarity\\.venv\\lib\\site-packages\\tqdm\\auto.py:21: TqdmWarning: IProgress not found. Please update jupyter and ipywidgets. See https://ipywidgets.readthedocs.io/en/stable/user_install.html\n",
      "  from .autonotebook import tqdm as notebook_tqdm\n"
     ]
    }
   ],
   "source": [
    "from config import Configurator\n",
    "from arabic_transformer import SentenceTransformer\n",
    "import pandas as pd\n",
    "\n",
    "cfg = Configurator(json_file_path=\"sentence_50.json\")"
   ]
  },
  {
   "cell_type": "markdown",
   "metadata": {},
   "source": [
    "439m"
   ]
  },
  {
   "cell_type": "code",
   "execution_count": 2,
   "metadata": {},
   "outputs": [
    {
     "data": {
      "text/html": [
       "<div>\n",
       "<style scoped>\n",
       "    .dataframe tbody tr th:only-of-type {\n",
       "        vertical-align: middle;\n",
       "    }\n",
       "\n",
       "    .dataframe tbody tr th {\n",
       "        vertical-align: top;\n",
       "    }\n",
       "\n",
       "    .dataframe thead th {\n",
       "        text-align: right;\n",
       "    }\n",
       "</style>\n",
       "<table border=\"1\" class=\"dataframe\">\n",
       "  <thead>\n",
       "    <tr style=\"text-align: right;\">\n",
       "      <th></th>\n",
       "      <th>original_sentence</th>\n",
       "      <th>arabic_translation</th>\n",
       "      <th>arabic_translation1</th>\n",
       "    </tr>\n",
       "  </thead>\n",
       "  <tbody>\n",
       "    <tr>\n",
       "      <th>0</th>\n",
       "      <td>Evde kitap okumak keyifli ve huzur verici</td>\n",
       "      <td>القراءة في المنزل ممتعة ومطمئنة</td>\n",
       "      <td>الاستمتاع بالكتب في المنزل ممتع ومطلوب</td>\n",
       "    </tr>\n",
       "    <tr>\n",
       "      <th>1</th>\n",
       "      <td>Yemek pişirmek eğlenceli ve lezzetli</td>\n",
       "      <td>طهي الطعام ممتع ولذيذ</td>\n",
       "      <td>طهي الطعام ممتع وذواق</td>\n",
       "    </tr>\n",
       "    <tr>\n",
       "      <th>2</th>\n",
       "      <td>Müzik dinlemek ruhumu dinlendiriyor</td>\n",
       "      <td>الاستماع إلى الموسيقى يريح روحي</td>\n",
       "      <td>الاستماع إلى الموسيقى يهدئ روحي</td>\n",
       "    </tr>\n",
       "    <tr>\n",
       "      <th>3</th>\n",
       "      <td>Resim yapmak rahatlatıcı ve yaratıcı</td>\n",
       "      <td>الرسم مريح ومبدع</td>\n",
       "      <td>الرسم مسلي ومبدع</td>\n",
       "    </tr>\n",
       "    <tr>\n",
       "      <th>4</th>\n",
       "      <td>Bahçede zaman geçirmek huzur verici</td>\n",
       "      <td>قضاء الوقت في الحديقة مطمئن</td>\n",
       "      <td>الاستمتاع بالوقت في الحديقة مطمئن وممتع</td>\n",
       "    </tr>\n",
       "    <tr>\n",
       "      <th>5</th>\n",
       "      <td>Yoga yapmak enerji veriyor ve huzur getiriyor</td>\n",
       "      <td>ممارسة اليوغا تمنح الطاقة وتجلب الهدوء</td>\n",
       "      <td>ممارسة اليوغا تعزز الحيوية وتحضر الهدوء</td>\n",
       "    </tr>\n",
       "    <tr>\n",
       "      <th>6</th>\n",
       "      <td>Deniz kenarında dinlenmek huzur verici</td>\n",
       "      <td>الاسترخاء على شاطئ البحر مطمئن</td>\n",
       "      <td>الاسترخاء على شاطئ البحر يمنح السكينة</td>\n",
       "    </tr>\n",
       "    <tr>\n",
       "      <th>7</th>\n",
       "      <td>Farklı kültürleri keşfetmek ilgi çekici ve eğitici</td>\n",
       "      <td>اكتشاف ثقافات مختلفة مثير وتعليمي</td>\n",
       "      <td>استكشاف ثقافات متنوعة مليء بالإثارة والتعليم</td>\n",
       "    </tr>\n",
       "    <tr>\n",
       "      <th>8</th>\n",
       "      <td>Dağlarda yürümek enerji veriyor ve huzur getiriyor</td>\n",
       "      <td>المشي في الجبال يمنح الطاقة ويجلب الهدوء</td>\n",
       "      <td>المشي في الجبال يعزز الحيوية ويحضر الهدوء</td>\n",
       "    </tr>\n",
       "    <tr>\n",
       "      <th>9</th>\n",
       "      <td>Farklı lezzetleri denemek eğlenceli ve lezzetli</td>\n",
       "      <td>تجربة نكهات مختلفة ممتعة ولذيذة</td>\n",
       "      <td>تجربة نكهات متنوعة مليء بالمرح والذواقة</td>\n",
       "    </tr>\n",
       "    <tr>\n",
       "      <th>10</th>\n",
       "      <td>Yürüyüş yapmak taze hava almanızı sağlar</td>\n",
       "      <td>المشي يسمح لك بالحصول على هواء نقي</td>\n",
       "      <td>المشي يمنحك فرصة للتنفس بالهواء النقي</td>\n",
       "    </tr>\n",
       "    <tr>\n",
       "      <th>11</th>\n",
       "      <td>Baharda çiçekler açar ve doğa uyanır</td>\n",
       "      <td>في الربيع تزهر الزهور وتستيقظ الطبيعة</td>\n",
       "      <td>في فصل الربيع تفتح الزهور وتعود الطبيعة إلى الحياة</td>\n",
       "    </tr>\n",
       "    <tr>\n",
       "      <th>12</th>\n",
       "      <td>Güneşli günlerde plajda vakit geçirmek eğlencelidir</td>\n",
       "      <td>قضاء الوقت على الشاطئ في أيام مشمسة ممتع</td>\n",
       "      <td>الاستمتاع بأوقات الشاطئ في أيام مشمسة يعتبر مسليًا</td>\n",
       "    </tr>\n",
       "    <tr>\n",
       "      <th>13</th>\n",
       "      <td>Bisiklet sürmek serinletici ve sağlıklıdır</td>\n",
       "      <td>ركوب الدراجة منعش وصحي</td>\n",
       "      <td>ركوب الدراجة ممتع ومفيد للصحة</td>\n",
       "    </tr>\n",
       "    <tr>\n",
       "      <th>14</th>\n",
       "      <td>Gökyüzüne bakmak sakinleştirici bir etkiye sahiptir</td>\n",
       "      <td>النظر إلى السماء له تأثير مهدئ</td>\n",
       "      <td>التحديق في السماء يؤثر بشكل مهدئ</td>\n",
       "    </tr>\n",
       "    <tr>\n",
       "      <th>15</th>\n",
       "      <td>Sahilde yürümek huzur verir ve stresten arındırır</td>\n",
       "      <td>المشي على الشاطئ يمنح الهدوء ويزيل الضغط</td>\n",
       "      <td>التجول على الشاطئ يهدئ الأعصاب ويزيل التوتر</td>\n",
       "    </tr>\n",
       "    <tr>\n",
       "      <th>16</th>\n",
       "      <td>Sessiz bir yerde meditasyon yapmak rahatlatıcıdır</td>\n",
       "      <td>التأمل في مكان هادئ مريح</td>\n",
       "      <td>التأمل في مكان هادئ يساعد على الاسترخاء</td>\n",
       "    </tr>\n",
       "    <tr>\n",
       "      <th>17</th>\n",
       "      <td>Doğada kamp yapmak macera dolu ve eğlencelidir</td>\n",
       "      <td>التخييم في الطبيعة مليء بالمغامرة ومسلي</td>\n",
       "      <td>التخييم في الطبيعة يحمل الكثير من المغامرات والمرح</td>\n",
       "    </tr>\n",
       "    <tr>\n",
       "      <th>18</th>\n",
       "      <td>Sıcak bir içecekle günün tadını çıkarın</td>\n",
       "      <td>تمتع بيومك مع مشروب دافئ</td>\n",
       "      <td>استمتع بيومك مع مشروب ساخن</td>\n",
       "    </tr>\n",
       "    <tr>\n",
       "      <th>19</th>\n",
       "      <td>Gözlerinizi kapatın ve huzur içinde dinlenin</td>\n",
       "      <td>اغمض عينيك واسترخي بسلام</td>\n",
       "      <td>أغلق عينيك واسترح بسكينة</td>\n",
       "    </tr>\n",
       "    <tr>\n",
       "      <th>20</th>\n",
       "      <td>Güzel bir manzara manevi huzur sağlar</td>\n",
       "      <td>إطلالة جميلة توفر سكينة روحية</td>\n",
       "      <td>إطلالة رائعة تمنح الهدوء الروحي</td>\n",
       "    </tr>\n",
       "    <tr>\n",
       "      <th>21</th>\n",
       "      <td>Sevdiklerinizle vakit geçirmek değerlidir</td>\n",
       "      <td>قضاء الوقت مع من تحب قيمة عظيمة</td>\n",
       "      <td>الوقت الذي تقضيه مع من تحب يكون ثمينًا</td>\n",
       "    </tr>\n",
       "    <tr>\n",
       "      <th>22</th>\n",
       "      <td>Yıldızları izlemek büyüleyici bir deneyimdir</td>\n",
       "      <td>مشاهدة النجوم تجربة ساحرة</td>\n",
       "      <td>رصد النجوم تجربة ساحرة</td>\n",
       "    </tr>\n",
       "    <tr>\n",
       "      <th>23</th>\n",
       "      <td>Eski dostlarla buluşmak sevinç vericidir</td>\n",
       "      <td>لقاء الأصدقاء القدامى يسعد القلب</td>\n",
       "      <td>لقاء الأصدقاء القدامى يشعر بالسرور</td>\n",
       "    </tr>\n",
       "    <tr>\n",
       "      <th>24</th>\n",
       "      <td>Hafif bir yemek yemek enerji verir</td>\n",
       "      <td>تناول وجبة خفيفة يمنح الطاقة</td>\n",
       "      <td>تناول وجبة خفيفة يزود بالحيوية</td>\n",
       "    </tr>\n",
       "    <tr>\n",
       "      <th>25</th>\n",
       "      <td>Kışın sıcak çorbalar içmek harikadır</td>\n",
       "      <td>شرب شوربات دافئة في الشتاء رائع</td>\n",
       "      <td>شرب الحساء الساخن في الشتاء رائع</td>\n",
       "    </tr>\n",
       "    <tr>\n",
       "      <th>26</th>\n",
       "      <td>Aile ile film izlemek keyiflidir</td>\n",
       "      <td>مشاهدة الأفلام مع العائلة ممتع</td>\n",
       "      <td>مشاهدة الأفلام مع الأسرة يُسعد</td>\n",
       "    </tr>\n",
       "    <tr>\n",
       "      <th>27</th>\n",
       "      <td>Doğum gününü kutlamak mutlu edicidir</td>\n",
       "      <td>الاحتفال بعيد الميلاد يسعد</td>\n",
       "      <td>الاحتفال بعيد الميلاد يعزز السعادة</td>\n",
       "    </tr>\n",
       "    <tr>\n",
       "      <th>28</th>\n",
       "      <td>Evcil hayvanlar sevgi ve neşe getirir</td>\n",
       "      <td>الحيوانات الأليفة تجلب الحب والفرح</td>\n",
       "      <td>الحيوانات الأليفة تجلب الحب والسرور</td>\n",
       "    </tr>\n",
       "    <tr>\n",
       "      <th>29</th>\n",
       "      <td>Doğa yürüyüşleri ruhu canlandırır</td>\n",
       "      <td>المشي في الطبيعة ينعش الروح</td>\n",
       "      <td>التجول في الطبيعة يحيي الروح</td>\n",
       "    </tr>\n",
       "    <tr>\n",
       "      <th>30</th>\n",
       "      <td>Gitar çalmak zevkli bir uğraşıdır</td>\n",
       "      <td>عزف الجيتار هو هواية ممتعة</td>\n",
       "      <td>العزف على الجيتار هو هواية مسلية</td>\n",
       "    </tr>\n",
       "    <tr>\n",
       "      <th>31</th>\n",
       "      <td>Bisikletle doğayı keşfetmek harika bir deneyimdir</td>\n",
       "      <td>استكشاف الطبيعة على الدراجة تجربة رائعة</td>\n",
       "      <td>استكشاف الطبيعة بركوب الدراجة تجربة رائعة</td>\n",
       "    </tr>\n",
       "    <tr>\n",
       "      <th>32</th>\n",
       "      <td>Dondurma yemek serinletici ve lezzetlidir</td>\n",
       "      <td>تناول الآيس كريم منعش ولذيذ</td>\n",
       "      <td>تناول الآيس كريم منعش ولذيذ</td>\n",
       "    </tr>\n",
       "    <tr>\n",
       "      <th>33</th>\n",
       "      <td>Yağmurlu günlerde evde kalın ve kitap okuyun</td>\n",
       "      <td>في الأيام الممطرة، ابق في المنزل واقرأ كتابًا</td>\n",
       "      <td>في الأيام الممطرة، قراءة كتاب في المنزل تمرّن ممتع</td>\n",
       "    </tr>\n",
       "    <tr>\n",
       "      <th>34</th>\n",
       "      <td>Güneşli bir gün plajda güneşlenmek huzur vericidir</td>\n",
       "      <td>الاستلقاء على الشاطئ في يوم مشمس يمنح الهدوء</td>\n",
       "      <td>الاستلقاء على الشاطئ في يوم مشمس يعزز السكينة</td>\n",
       "    </tr>\n",
       "    <tr>\n",
       "      <th>35</th>\n",
       "      <td>Güzel bir tabloya bakmak duygusal bir deneyimdir</td>\n",
       "      <td>النظر إلى لوحة جميلة تجربة عاطفية</td>\n",
       "      <td>التحديق في لوحة جميلة تجربة مؤثرة</td>\n",
       "    </tr>\n",
       "    <tr>\n",
       "      <th>36</th>\n",
       "      <td>Tatlı bir şeyler yemek mutluluk getirir</td>\n",
       "      <td>تناول الحلوى يجلب السعادة</td>\n",
       "      <td>تناول الحلوى يعزز البهجة</td>\n",
       "    </tr>\n",
       "    <tr>\n",
       "      <th>37</th>\n",
       "      <td>Doğada kamp yapmak macera dolu ve eğlencelidir</td>\n",
       "      <td>التخييم في الطبيعة مليء بالمغامرة ومسلي</td>\n",
       "      <td>التخييم في الطبيعة يحمل الكثير من المغامرات والمرح</td>\n",
       "    </tr>\n",
       "    <tr>\n",
       "      <th>38</th>\n",
       "      <td>Bir arkadaşınızla sohbet etmek keyiflidir</td>\n",
       "      <td>الدردشة مع صديق يمكن أن تكون ممتعة</td>\n",
       "      <td>الحديث مع صديق يجلب المتعة</td>\n",
       "    </tr>\n",
       "    <tr>\n",
       "      <th>39</th>\n",
       "      <td>Havai fişekler izlemek büyüleyici bir deneyimdir</td>\n",
       "      <td>مشاهدة الألعاب النارية تجربة ساحرة</td>\n",
       "      <td>مشاهدة الألعاب النارية تجربة رائعة</td>\n",
       "    </tr>\n",
       "    <tr>\n",
       "      <th>40</th>\n",
       "      <td>Güzel bir gün piknik yapmak harikadır</td>\n",
       "      <td>قضاء يوم جميل في نزهة في الهواء الطلق يكون رائعًا</td>\n",
       "      <td>قضاء يوم جميل في نزهة في الهواء الطلق يكون ممتعًا</td>\n",
       "    </tr>\n",
       "    <tr>\n",
       "      <th>41</th>\n",
       "      <td>Eski fotoğraflara bakmak anıları canlandırır</td>\n",
       "      <td>النظر إلى الصور القديمة يحيي الذكريات</td>\n",
       "      <td>الاستمرار في الصور القديمة يجدد الذكريات</td>\n",
       "    </tr>\n",
       "  </tbody>\n",
       "</table>\n",
       "</div>"
      ],
      "text/plain": [
       "                                      original_sentence  \\\n",
       "0             Evde kitap okumak keyifli ve huzur verici   \n",
       "1                  Yemek pişirmek eğlenceli ve lezzetli   \n",
       "2                   Müzik dinlemek ruhumu dinlendiriyor   \n",
       "3                  Resim yapmak rahatlatıcı ve yaratıcı   \n",
       "4                   Bahçede zaman geçirmek huzur verici   \n",
       "5         Yoga yapmak enerji veriyor ve huzur getiriyor   \n",
       "6                Deniz kenarında dinlenmek huzur verici   \n",
       "7    Farklı kültürleri keşfetmek ilgi çekici ve eğitici   \n",
       "8    Dağlarda yürümek enerji veriyor ve huzur getiriyor   \n",
       "9       Farklı lezzetleri denemek eğlenceli ve lezzetli   \n",
       "10             Yürüyüş yapmak taze hava almanızı sağlar   \n",
       "11                 Baharda çiçekler açar ve doğa uyanır   \n",
       "12  Güneşli günlerde plajda vakit geçirmek eğlencelidir   \n",
       "13           Bisiklet sürmek serinletici ve sağlıklıdır   \n",
       "14  Gökyüzüne bakmak sakinleştirici bir etkiye sahiptir   \n",
       "15    Sahilde yürümek huzur verir ve stresten arındırır   \n",
       "16    Sessiz bir yerde meditasyon yapmak rahatlatıcıdır   \n",
       "17       Doğada kamp yapmak macera dolu ve eğlencelidir   \n",
       "18              Sıcak bir içecekle günün tadını çıkarın   \n",
       "19         Gözlerinizi kapatın ve huzur içinde dinlenin   \n",
       "20                Güzel bir manzara manevi huzur sağlar   \n",
       "21            Sevdiklerinizle vakit geçirmek değerlidir   \n",
       "22         Yıldızları izlemek büyüleyici bir deneyimdir   \n",
       "23             Eski dostlarla buluşmak sevinç vericidir   \n",
       "24                   Hafif bir yemek yemek enerji verir   \n",
       "25                 Kışın sıcak çorbalar içmek harikadır   \n",
       "26                     Aile ile film izlemek keyiflidir   \n",
       "27                 Doğum gününü kutlamak mutlu edicidir   \n",
       "28                Evcil hayvanlar sevgi ve neşe getirir   \n",
       "29                    Doğa yürüyüşleri ruhu canlandırır   \n",
       "30                    Gitar çalmak zevkli bir uğraşıdır   \n",
       "31    Bisikletle doğayı keşfetmek harika bir deneyimdir   \n",
       "32            Dondurma yemek serinletici ve lezzetlidir   \n",
       "33         Yağmurlu günlerde evde kalın ve kitap okuyun   \n",
       "34   Güneşli bir gün plajda güneşlenmek huzur vericidir   \n",
       "35     Güzel bir tabloya bakmak duygusal bir deneyimdir   \n",
       "36              Tatlı bir şeyler yemek mutluluk getirir   \n",
       "37       Doğada kamp yapmak macera dolu ve eğlencelidir   \n",
       "38            Bir arkadaşınızla sohbet etmek keyiflidir   \n",
       "39     Havai fişekler izlemek büyüleyici bir deneyimdir   \n",
       "40                Güzel bir gün piknik yapmak harikadır   \n",
       "41         Eski fotoğraflara bakmak anıları canlandırır   \n",
       "\n",
       "                                   arabic_translation  \\\n",
       "0                     القراءة في المنزل ممتعة ومطمئنة   \n",
       "1                               طهي الطعام ممتع ولذيذ   \n",
       "2                     الاستماع إلى الموسيقى يريح روحي   \n",
       "3                                    الرسم مريح ومبدع   \n",
       "4                         قضاء الوقت في الحديقة مطمئن   \n",
       "5              ممارسة اليوغا تمنح الطاقة وتجلب الهدوء   \n",
       "6                      الاسترخاء على شاطئ البحر مطمئن   \n",
       "7                   اكتشاف ثقافات مختلفة مثير وتعليمي   \n",
       "8            المشي في الجبال يمنح الطاقة ويجلب الهدوء   \n",
       "9                     تجربة نكهات مختلفة ممتعة ولذيذة   \n",
       "10                 المشي يسمح لك بالحصول على هواء نقي   \n",
       "11              في الربيع تزهر الزهور وتستيقظ الطبيعة   \n",
       "12           قضاء الوقت على الشاطئ في أيام مشمسة ممتع   \n",
       "13                             ركوب الدراجة منعش وصحي   \n",
       "14                     النظر إلى السماء له تأثير مهدئ   \n",
       "15           المشي على الشاطئ يمنح الهدوء ويزيل الضغط   \n",
       "16                           التأمل في مكان هادئ مريح   \n",
       "17            التخييم في الطبيعة مليء بالمغامرة ومسلي   \n",
       "18                           تمتع بيومك مع مشروب دافئ   \n",
       "19                           اغمض عينيك واسترخي بسلام   \n",
       "20                      إطلالة جميلة توفر سكينة روحية   \n",
       "21                    قضاء الوقت مع من تحب قيمة عظيمة   \n",
       "22                          مشاهدة النجوم تجربة ساحرة   \n",
       "23                   لقاء الأصدقاء القدامى يسعد القلب   \n",
       "24                       تناول وجبة خفيفة يمنح الطاقة   \n",
       "25                    شرب شوربات دافئة في الشتاء رائع   \n",
       "26                     مشاهدة الأفلام مع العائلة ممتع   \n",
       "27                         الاحتفال بعيد الميلاد يسعد   \n",
       "28                 الحيوانات الأليفة تجلب الحب والفرح   \n",
       "29                        المشي في الطبيعة ينعش الروح   \n",
       "30                         عزف الجيتار هو هواية ممتعة   \n",
       "31            استكشاف الطبيعة على الدراجة تجربة رائعة   \n",
       "32                        تناول الآيس كريم منعش ولذيذ   \n",
       "33      في الأيام الممطرة، ابق في المنزل واقرأ كتابًا   \n",
       "34       الاستلقاء على الشاطئ في يوم مشمس يمنح الهدوء   \n",
       "35                  النظر إلى لوحة جميلة تجربة عاطفية   \n",
       "36                          تناول الحلوى يجلب السعادة   \n",
       "37            التخييم في الطبيعة مليء بالمغامرة ومسلي   \n",
       "38                 الدردشة مع صديق يمكن أن تكون ممتعة   \n",
       "39                 مشاهدة الألعاب النارية تجربة ساحرة   \n",
       "40  قضاء يوم جميل في نزهة في الهواء الطلق يكون رائعًا   \n",
       "41              النظر إلى الصور القديمة يحيي الذكريات   \n",
       "\n",
       "                                   arabic_translation1  \n",
       "0               الاستمتاع بالكتب في المنزل ممتع ومطلوب  \n",
       "1                                طهي الطعام ممتع وذواق  \n",
       "2                      الاستماع إلى الموسيقى يهدئ روحي  \n",
       "3                                     الرسم مسلي ومبدع  \n",
       "4              الاستمتاع بالوقت في الحديقة مطمئن وممتع  \n",
       "5              ممارسة اليوغا تعزز الحيوية وتحضر الهدوء  \n",
       "6                الاسترخاء على شاطئ البحر يمنح السكينة  \n",
       "7         استكشاف ثقافات متنوعة مليء بالإثارة والتعليم  \n",
       "8            المشي في الجبال يعزز الحيوية ويحضر الهدوء  \n",
       "9              تجربة نكهات متنوعة مليء بالمرح والذواقة  \n",
       "10               المشي يمنحك فرصة للتنفس بالهواء النقي  \n",
       "11  في فصل الربيع تفتح الزهور وتعود الطبيعة إلى الحياة  \n",
       "12  الاستمتاع بأوقات الشاطئ في أيام مشمسة يعتبر مسليًا  \n",
       "13                       ركوب الدراجة ممتع ومفيد للصحة  \n",
       "14                    التحديق في السماء يؤثر بشكل مهدئ  \n",
       "15         التجول على الشاطئ يهدئ الأعصاب ويزيل التوتر  \n",
       "16             التأمل في مكان هادئ يساعد على الاسترخاء  \n",
       "17  التخييم في الطبيعة يحمل الكثير من المغامرات والمرح  \n",
       "18                          استمتع بيومك مع مشروب ساخن  \n",
       "19                            أغلق عينيك واسترح بسكينة  \n",
       "20                     إطلالة رائعة تمنح الهدوء الروحي  \n",
       "21              الوقت الذي تقضيه مع من تحب يكون ثمينًا  \n",
       "22                              رصد النجوم تجربة ساحرة  \n",
       "23                  لقاء الأصدقاء القدامى يشعر بالسرور  \n",
       "24                      تناول وجبة خفيفة يزود بالحيوية  \n",
       "25                    شرب الحساء الساخن في الشتاء رائع  \n",
       "26                      مشاهدة الأفلام مع الأسرة يُسعد  \n",
       "27                  الاحتفال بعيد الميلاد يعزز السعادة  \n",
       "28                 الحيوانات الأليفة تجلب الحب والسرور  \n",
       "29                        التجول في الطبيعة يحيي الروح  \n",
       "30                    العزف على الجيتار هو هواية مسلية  \n",
       "31           استكشاف الطبيعة بركوب الدراجة تجربة رائعة  \n",
       "32                         تناول الآيس كريم منعش ولذيذ  \n",
       "33  في الأيام الممطرة، قراءة كتاب في المنزل تمرّن ممتع  \n",
       "34       الاستلقاء على الشاطئ في يوم مشمس يعزز السكينة  \n",
       "35                   التحديق في لوحة جميلة تجربة مؤثرة  \n",
       "36                            تناول الحلوى يعزز البهجة  \n",
       "37  التخييم في الطبيعة يحمل الكثير من المغامرات والمرح  \n",
       "38                          الحديث مع صديق يجلب المتعة  \n",
       "39                  مشاهدة الألعاب النارية تجربة رائعة  \n",
       "40   قضاء يوم جميل في نزهة في الهواء الطلق يكون ممتعًا  \n",
       "41            الاستمرار في الصور القديمة يجدد الذكريات  "
      ]
     },
     "execution_count": 2,
     "metadata": {},
     "output_type": "execute_result"
    }
   ],
   "source": [
    "pd.set_option('display.max_colwidth', None)\n",
    "df = pd.DataFrame(cfg.data[\"sentences\"])\n",
    "df"
   ]
  },
  {
   "cell_type": "markdown",
   "metadata": {},
   "source": [
    "### bert-base-arabic-camelbert-msa"
   ]
  },
  {
   "cell_type": "code",
   "execution_count": 3,
   "metadata": {},
   "outputs": [],
   "source": [
    "camel = SentenceTransformer('CAMeL-Lab/bert-base-arabic-camelbert-msa')"
   ]
  },
  {
   "cell_type": "code",
   "execution_count": 4,
   "metadata": {},
   "outputs": [
    {
     "name": "stderr",
     "output_type": "stream",
     "text": [
      "Asking to truncate to max_length but no maximum length is provided and the model has no predefined maximum length. Default to no truncation.\n"
     ]
    },
    {
     "data": {
      "text/plain": [
       "0.56330144"
      ]
     },
     "execution_count": 4,
     "metadata": {},
     "output_type": "execute_result"
    }
   ],
   "source": [
    "camel.get_similarity(sentences=[\"طهي الطعام ممتع ولذيذ\",\"القراءة في المنزل ممتعة ومطمئنة\"])\n",
    "## Yemek pişirmek eğlenceli ve lezzetlidir / Evde kitap okumak eğlenceli ve güven vericidir"
   ]
  },
  {
   "cell_type": "code",
   "execution_count": 5,
   "metadata": {},
   "outputs": [
    {
     "name": "stderr",
     "output_type": "stream",
     "text": [
      "Asking to truncate to max_length but no maximum length is provided and the model has no predefined maximum length. Default to no truncation.\n"
     ]
    },
    {
     "name": "stdout",
     "output_type": "stream",
     "text": [
      "0. Cümle çifti:\n",
      "original_sentence      Evde kitap okumak keyifli ve huzur verici\n",
      "arabic_translation               القراءة في المنزل ممتعة ومطمئنة\n",
      "arabic_translation1       الاستمتاع بالكتب في المنزل ممتع ومطلوب\n",
      "Name: 0, dtype: object\n",
      "Similarity Score:0.79360032081604\n",
      "\n"
     ]
    },
    {
     "name": "stderr",
     "output_type": "stream",
     "text": [
      "Asking to truncate to max_length but no maximum length is provided and the model has no predefined maximum length. Default to no truncation.\n"
     ]
    },
    {
     "name": "stdout",
     "output_type": "stream",
     "text": [
      "1. Cümle çifti:\n",
      "original_sentence      Yemek pişirmek eğlenceli ve lezzetli\n",
      "arabic_translation                    طهي الطعام ممتع ولذيذ\n",
      "arabic_translation1                   طهي الطعام ممتع وذواق\n",
      "Name: 1, dtype: object\n",
      "Similarity Score:0.9506506323814392\n",
      "\n"
     ]
    },
    {
     "name": "stderr",
     "output_type": "stream",
     "text": [
      "Asking to truncate to max_length but no maximum length is provided and the model has no predefined maximum length. Default to no truncation.\n"
     ]
    },
    {
     "name": "stdout",
     "output_type": "stream",
     "text": [
      "2. Cümle çifti:\n",
      "original_sentence      Müzik dinlemek ruhumu dinlendiriyor\n",
      "arabic_translation         الاستماع إلى الموسيقى يريح روحي\n",
      "arabic_translation1        الاستماع إلى الموسيقى يهدئ روحي\n",
      "Name: 2, dtype: object\n",
      "Similarity Score:0.9475418329238892\n",
      "\n"
     ]
    },
    {
     "name": "stderr",
     "output_type": "stream",
     "text": [
      "Asking to truncate to max_length but no maximum length is provided and the model has no predefined maximum length. Default to no truncation.\n"
     ]
    },
    {
     "name": "stdout",
     "output_type": "stream",
     "text": [
      "3. Cümle çifti:\n",
      "original_sentence      Resim yapmak rahatlatıcı ve yaratıcı\n",
      "arabic_translation                         الرسم مريح ومبدع\n",
      "arabic_translation1                        الرسم مسلي ومبدع\n",
      "Name: 3, dtype: object\n",
      "Similarity Score:0.902411937713623\n",
      "\n"
     ]
    },
    {
     "name": "stderr",
     "output_type": "stream",
     "text": [
      "Asking to truncate to max_length but no maximum length is provided and the model has no predefined maximum length. Default to no truncation.\n"
     ]
    },
    {
     "name": "stdout",
     "output_type": "stream",
     "text": [
      "4. Cümle çifti:\n",
      "original_sentence          Bahçede zaman geçirmek huzur verici\n",
      "arabic_translation                 قضاء الوقت في الحديقة مطمئن\n",
      "arabic_translation1    الاستمتاع بالوقت في الحديقة مطمئن وممتع\n",
      "Name: 4, dtype: object\n",
      "Similarity Score:0.8589215278625488\n",
      "\n"
     ]
    },
    {
     "name": "stderr",
     "output_type": "stream",
     "text": [
      "Asking to truncate to max_length but no maximum length is provided and the model has no predefined maximum length. Default to no truncation.\n"
     ]
    },
    {
     "name": "stdout",
     "output_type": "stream",
     "text": [
      "5. Cümle çifti:\n",
      "original_sentence      Yoga yapmak enerji veriyor ve huzur getiriyor\n",
      "arabic_translation            ممارسة اليوغا تمنح الطاقة وتجلب الهدوء\n",
      "arabic_translation1          ممارسة اليوغا تعزز الحيوية وتحضر الهدوء\n",
      "Name: 5, dtype: object\n",
      "Similarity Score:0.9433769583702087\n",
      "\n"
     ]
    },
    {
     "name": "stderr",
     "output_type": "stream",
     "text": [
      "Asking to truncate to max_length but no maximum length is provided and the model has no predefined maximum length. Default to no truncation.\n"
     ]
    },
    {
     "name": "stdout",
     "output_type": "stream",
     "text": [
      "6. Cümle çifti:\n",
      "original_sentence      Deniz kenarında dinlenmek huzur verici\n",
      "arabic_translation             الاسترخاء على شاطئ البحر مطمئن\n",
      "arabic_translation1     الاسترخاء على شاطئ البحر يمنح السكينة\n",
      "Name: 6, dtype: object\n",
      "Similarity Score:0.8982654809951782\n",
      "\n"
     ]
    },
    {
     "name": "stderr",
     "output_type": "stream",
     "text": [
      "Asking to truncate to max_length but no maximum length is provided and the model has no predefined maximum length. Default to no truncation.\n"
     ]
    },
    {
     "name": "stdout",
     "output_type": "stream",
     "text": [
      "7. Cümle çifti:\n",
      "original_sentence      Farklı kültürleri keşfetmek ilgi çekici ve eğitici\n",
      "arabic_translation                      اكتشاف ثقافات مختلفة مثير وتعليمي\n",
      "arabic_translation1          استكشاف ثقافات متنوعة مليء بالإثارة والتعليم\n",
      "Name: 7, dtype: object\n",
      "Similarity Score:0.7794960737228394\n",
      "\n"
     ]
    },
    {
     "name": "stderr",
     "output_type": "stream",
     "text": [
      "Asking to truncate to max_length but no maximum length is provided and the model has no predefined maximum length. Default to no truncation.\n"
     ]
    },
    {
     "name": "stdout",
     "output_type": "stream",
     "text": [
      "8. Cümle çifti:\n",
      "original_sentence      Dağlarda yürümek enerji veriyor ve huzur getiriyor\n",
      "arabic_translation               المشي في الجبال يمنح الطاقة ويجلب الهدوء\n",
      "arabic_translation1             المشي في الجبال يعزز الحيوية ويحضر الهدوء\n",
      "Name: 8, dtype: object\n",
      "Similarity Score:0.9426320791244507\n",
      "\n"
     ]
    },
    {
     "name": "stderr",
     "output_type": "stream",
     "text": [
      "Asking to truncate to max_length but no maximum length is provided and the model has no predefined maximum length. Default to no truncation.\n"
     ]
    },
    {
     "name": "stdout",
     "output_type": "stream",
     "text": [
      "9. Cümle çifti:\n",
      "original_sentence      Farklı lezzetleri denemek eğlenceli ve lezzetli\n",
      "arabic_translation                     تجربة نكهات مختلفة ممتعة ولذيذة\n",
      "arabic_translation1            تجربة نكهات متنوعة مليء بالمرح والذواقة\n",
      "Name: 9, dtype: object\n",
      "Similarity Score:0.8377949595451355\n",
      "\n"
     ]
    },
    {
     "name": "stderr",
     "output_type": "stream",
     "text": [
      "Asking to truncate to max_length but no maximum length is provided and the model has no predefined maximum length. Default to no truncation.\n"
     ]
    },
    {
     "name": "stdout",
     "output_type": "stream",
     "text": [
      "10. Cümle çifti:\n",
      "original_sentence      Yürüyüş yapmak taze hava almanızı sağlar\n",
      "arabic_translation           المشي يسمح لك بالحصول على هواء نقي\n",
      "arabic_translation1       المشي يمنحك فرصة للتنفس بالهواء النقي\n",
      "Name: 10, dtype: object\n",
      "Similarity Score:0.8726016283035278\n",
      "\n"
     ]
    },
    {
     "name": "stderr",
     "output_type": "stream",
     "text": [
      "Asking to truncate to max_length but no maximum length is provided and the model has no predefined maximum length. Default to no truncation.\n"
     ]
    },
    {
     "name": "stdout",
     "output_type": "stream",
     "text": [
      "11. Cümle çifti:\n",
      "original_sentence                    Baharda çiçekler açar ve doğa uyanır\n",
      "arabic_translation                  في الربيع تزهر الزهور وتستيقظ الطبيعة\n",
      "arabic_translation1    في فصل الربيع تفتح الزهور وتعود الطبيعة إلى الحياة\n",
      "Name: 11, dtype: object\n",
      "Similarity Score:0.8719373941421509\n",
      "\n"
     ]
    },
    {
     "name": "stderr",
     "output_type": "stream",
     "text": [
      "Asking to truncate to max_length but no maximum length is provided and the model has no predefined maximum length. Default to no truncation.\n"
     ]
    },
    {
     "name": "stdout",
     "output_type": "stream",
     "text": [
      "12. Cümle çifti:\n",
      "original_sentence      Güneşli günlerde plajda vakit geçirmek eğlencelidir\n",
      "arabic_translation                قضاء الوقت على الشاطئ في أيام مشمسة ممتع\n",
      "arabic_translation1     الاستمتاع بأوقات الشاطئ في أيام مشمسة يعتبر مسليًا\n",
      "Name: 12, dtype: object\n",
      "Similarity Score:0.9105566740036011\n",
      "\n"
     ]
    },
    {
     "name": "stderr",
     "output_type": "stream",
     "text": [
      "Asking to truncate to max_length but no maximum length is provided and the model has no predefined maximum length. Default to no truncation.\n"
     ]
    },
    {
     "name": "stdout",
     "output_type": "stream",
     "text": [
      "13. Cümle çifti:\n",
      "original_sentence      Bisiklet sürmek serinletici ve sağlıklıdır\n",
      "arabic_translation                         ركوب الدراجة منعش وصحي\n",
      "arabic_translation1                 ركوب الدراجة ممتع ومفيد للصحة\n",
      "Name: 13, dtype: object\n",
      "Similarity Score:0.8464796543121338\n",
      "\n"
     ]
    },
    {
     "name": "stderr",
     "output_type": "stream",
     "text": [
      "Asking to truncate to max_length but no maximum length is provided and the model has no predefined maximum length. Default to no truncation.\n"
     ]
    },
    {
     "name": "stdout",
     "output_type": "stream",
     "text": [
      "14. Cümle çifti:\n",
      "original_sentence      Gökyüzüne bakmak sakinleştirici bir etkiye sahiptir\n",
      "arabic_translation                          النظر إلى السماء له تأثير مهدئ\n",
      "arabic_translation1                       التحديق في السماء يؤثر بشكل مهدئ\n",
      "Name: 14, dtype: object\n",
      "Similarity Score:0.8613065481185913\n",
      "\n"
     ]
    },
    {
     "name": "stderr",
     "output_type": "stream",
     "text": [
      "Asking to truncate to max_length but no maximum length is provided and the model has no predefined maximum length. Default to no truncation.\n"
     ]
    },
    {
     "name": "stdout",
     "output_type": "stream",
     "text": [
      "15. Cümle çifti:\n",
      "original_sentence      Sahilde yürümek huzur verir ve stresten arındırır\n",
      "arabic_translation              المشي على الشاطئ يمنح الهدوء ويزيل الضغط\n",
      "arabic_translation1          التجول على الشاطئ يهدئ الأعصاب ويزيل التوتر\n",
      "Name: 15, dtype: object\n",
      "Similarity Score:0.882293701171875\n",
      "\n"
     ]
    },
    {
     "name": "stderr",
     "output_type": "stream",
     "text": [
      "Asking to truncate to max_length but no maximum length is provided and the model has no predefined maximum length. Default to no truncation.\n"
     ]
    },
    {
     "name": "stdout",
     "output_type": "stream",
     "text": [
      "16. Cümle çifti:\n",
      "original_sentence      Sessiz bir yerde meditasyon yapmak rahatlatıcıdır\n",
      "arabic_translation                              التأمل في مكان هادئ مريح\n",
      "arabic_translation1              التأمل في مكان هادئ يساعد على الاسترخاء\n",
      "Name: 16, dtype: object\n",
      "Similarity Score:0.866202712059021\n",
      "\n"
     ]
    },
    {
     "name": "stderr",
     "output_type": "stream",
     "text": [
      "Asking to truncate to max_length but no maximum length is provided and the model has no predefined maximum length. Default to no truncation.\n"
     ]
    },
    {
     "name": "stdout",
     "output_type": "stream",
     "text": [
      "17. Cümle çifti:\n",
      "original_sentence          Doğada kamp yapmak macera dolu ve eğlencelidir\n",
      "arabic_translation                التخييم في الطبيعة مليء بالمغامرة ومسلي\n",
      "arabic_translation1    التخييم في الطبيعة يحمل الكثير من المغامرات والمرح\n",
      "Name: 17, dtype: object\n",
      "Similarity Score:0.8834869861602783\n",
      "\n"
     ]
    },
    {
     "name": "stderr",
     "output_type": "stream",
     "text": [
      "Asking to truncate to max_length but no maximum length is provided and the model has no predefined maximum length. Default to no truncation.\n"
     ]
    },
    {
     "name": "stdout",
     "output_type": "stream",
     "text": [
      "18. Cümle çifti:\n",
      "original_sentence      Sıcak bir içecekle günün tadını çıkarın\n",
      "arabic_translation                    تمتع بيومك مع مشروب دافئ\n",
      "arabic_translation1                 استمتع بيومك مع مشروب ساخن\n",
      "Name: 18, dtype: object\n",
      "Similarity Score:0.9455232620239258\n",
      "\n"
     ]
    },
    {
     "name": "stderr",
     "output_type": "stream",
     "text": [
      "Asking to truncate to max_length but no maximum length is provided and the model has no predefined maximum length. Default to no truncation.\n"
     ]
    },
    {
     "name": "stdout",
     "output_type": "stream",
     "text": [
      "19. Cümle çifti:\n",
      "original_sentence      Gözlerinizi kapatın ve huzur içinde dinlenin\n",
      "arabic_translation                         اغمض عينيك واسترخي بسلام\n",
      "arabic_translation1                        أغلق عينيك واسترح بسكينة\n",
      "Name: 19, dtype: object\n",
      "Similarity Score:0.852564811706543\n",
      "\n"
     ]
    },
    {
     "name": "stderr",
     "output_type": "stream",
     "text": [
      "Asking to truncate to max_length but no maximum length is provided and the model has no predefined maximum length. Default to no truncation.\n"
     ]
    },
    {
     "name": "stdout",
     "output_type": "stream",
     "text": [
      "20. Cümle çifti:\n",
      "original_sentence      Güzel bir manzara manevi huzur sağlar\n",
      "arabic_translation             إطلالة جميلة توفر سكينة روحية\n",
      "arabic_translation1          إطلالة رائعة تمنح الهدوء الروحي\n",
      "Name: 20, dtype: object\n",
      "Similarity Score:0.8543028831481934\n",
      "\n"
     ]
    },
    {
     "name": "stderr",
     "output_type": "stream",
     "text": [
      "Asking to truncate to max_length but no maximum length is provided and the model has no predefined maximum length. Default to no truncation.\n"
     ]
    },
    {
     "name": "stdout",
     "output_type": "stream",
     "text": [
      "21. Cümle çifti:\n",
      "original_sentence      Sevdiklerinizle vakit geçirmek değerlidir\n",
      "arabic_translation               قضاء الوقت مع من تحب قيمة عظيمة\n",
      "arabic_translation1       الوقت الذي تقضيه مع من تحب يكون ثمينًا\n",
      "Name: 21, dtype: object\n",
      "Similarity Score:0.8082736730575562\n",
      "\n"
     ]
    },
    {
     "name": "stderr",
     "output_type": "stream",
     "text": [
      "Asking to truncate to max_length but no maximum length is provided and the model has no predefined maximum length. Default to no truncation.\n"
     ]
    },
    {
     "name": "stdout",
     "output_type": "stream",
     "text": [
      "22. Cümle çifti:\n",
      "original_sentence      Yıldızları izlemek büyüleyici bir deneyimdir\n",
      "arabic_translation                        مشاهدة النجوم تجربة ساحرة\n",
      "arabic_translation1                          رصد النجوم تجربة ساحرة\n",
      "Name: 22, dtype: object\n",
      "Similarity Score:0.9198761582374573\n",
      "\n"
     ]
    },
    {
     "name": "stderr",
     "output_type": "stream",
     "text": [
      "Asking to truncate to max_length but no maximum length is provided and the model has no predefined maximum length. Default to no truncation.\n"
     ]
    },
    {
     "name": "stdout",
     "output_type": "stream",
     "text": [
      "23. Cümle çifti:\n",
      "original_sentence      Eski dostlarla buluşmak sevinç vericidir\n",
      "arabic_translation             لقاء الأصدقاء القدامى يسعد القلب\n",
      "arabic_translation1          لقاء الأصدقاء القدامى يشعر بالسرور\n",
      "Name: 23, dtype: object\n",
      "Similarity Score:0.869091808795929\n",
      "\n"
     ]
    },
    {
     "name": "stderr",
     "output_type": "stream",
     "text": [
      "Asking to truncate to max_length but no maximum length is provided and the model has no predefined maximum length. Default to no truncation.\n"
     ]
    },
    {
     "name": "stdout",
     "output_type": "stream",
     "text": [
      "24. Cümle çifti:\n",
      "original_sentence      Hafif bir yemek yemek enerji verir\n",
      "arabic_translation           تناول وجبة خفيفة يمنح الطاقة\n",
      "arabic_translation1        تناول وجبة خفيفة يزود بالحيوية\n",
      "Name: 24, dtype: object\n",
      "Similarity Score:0.9092833995819092\n",
      "\n"
     ]
    },
    {
     "name": "stderr",
     "output_type": "stream",
     "text": [
      "Asking to truncate to max_length but no maximum length is provided and the model has no predefined maximum length. Default to no truncation.\n"
     ]
    },
    {
     "name": "stdout",
     "output_type": "stream",
     "text": [
      "25. Cümle çifti:\n",
      "original_sentence      Kışın sıcak çorbalar içmek harikadır\n",
      "arabic_translation          شرب شوربات دافئة في الشتاء رائع\n",
      "arabic_translation1        شرب الحساء الساخن في الشتاء رائع\n",
      "Name: 25, dtype: object\n",
      "Similarity Score:0.89339679479599\n",
      "\n"
     ]
    },
    {
     "name": "stderr",
     "output_type": "stream",
     "text": [
      "Asking to truncate to max_length but no maximum length is provided and the model has no predefined maximum length. Default to no truncation.\n"
     ]
    },
    {
     "name": "stdout",
     "output_type": "stream",
     "text": [
      "26. Cümle çifti:\n",
      "original_sentence      Aile ile film izlemek keyiflidir\n",
      "arabic_translation       مشاهدة الأفلام مع العائلة ممتع\n",
      "arabic_translation1      مشاهدة الأفلام مع الأسرة يُسعد\n",
      "Name: 26, dtype: object\n",
      "Similarity Score:0.8652199506759644\n",
      "\n"
     ]
    },
    {
     "name": "stderr",
     "output_type": "stream",
     "text": [
      "Asking to truncate to max_length but no maximum length is provided and the model has no predefined maximum length. Default to no truncation.\n"
     ]
    },
    {
     "name": "stdout",
     "output_type": "stream",
     "text": [
      "27. Cümle çifti:\n",
      "original_sentence      Doğum gününü kutlamak mutlu edicidir\n",
      "arabic_translation               الاحتفال بعيد الميلاد يسعد\n",
      "arabic_translation1      الاحتفال بعيد الميلاد يعزز السعادة\n",
      "Name: 27, dtype: object\n",
      "Similarity Score:0.8006099462509155\n",
      "\n"
     ]
    },
    {
     "name": "stderr",
     "output_type": "stream",
     "text": [
      "Asking to truncate to max_length but no maximum length is provided and the model has no predefined maximum length. Default to no truncation.\n"
     ]
    },
    {
     "name": "stdout",
     "output_type": "stream",
     "text": [
      "28. Cümle çifti:\n",
      "original_sentence      Evcil hayvanlar sevgi ve neşe getirir\n",
      "arabic_translation        الحيوانات الأليفة تجلب الحب والفرح\n",
      "arabic_translation1      الحيوانات الأليفة تجلب الحب والسرور\n",
      "Name: 28, dtype: object\n",
      "Similarity Score:0.9844094514846802\n",
      "\n"
     ]
    },
    {
     "name": "stderr",
     "output_type": "stream",
     "text": [
      "Asking to truncate to max_length but no maximum length is provided and the model has no predefined maximum length. Default to no truncation.\n"
     ]
    },
    {
     "name": "stdout",
     "output_type": "stream",
     "text": [
      "29. Cümle çifti:\n",
      "original_sentence      Doğa yürüyüşleri ruhu canlandırır\n",
      "arabic_translation           المشي في الطبيعة ينعش الروح\n",
      "arabic_translation1         التجول في الطبيعة يحيي الروح\n",
      "Name: 29, dtype: object\n",
      "Similarity Score:0.8760780096054077\n",
      "\n"
     ]
    },
    {
     "name": "stderr",
     "output_type": "stream",
     "text": [
      "Asking to truncate to max_length but no maximum length is provided and the model has no predefined maximum length. Default to no truncation.\n"
     ]
    },
    {
     "name": "stdout",
     "output_type": "stream",
     "text": [
      "30. Cümle çifti:\n",
      "original_sentence      Gitar çalmak zevkli bir uğraşıdır\n",
      "arabic_translation            عزف الجيتار هو هواية ممتعة\n",
      "arabic_translation1     العزف على الجيتار هو هواية مسلية\n",
      "Name: 30, dtype: object\n",
      "Similarity Score:0.9535443782806396\n",
      "\n"
     ]
    },
    {
     "name": "stderr",
     "output_type": "stream",
     "text": [
      "Asking to truncate to max_length but no maximum length is provided and the model has no predefined maximum length. Default to no truncation.\n"
     ]
    },
    {
     "name": "stdout",
     "output_type": "stream",
     "text": [
      "31. Cümle çifti:\n",
      "original_sentence      Bisikletle doğayı keşfetmek harika bir deneyimdir\n",
      "arabic_translation               استكشاف الطبيعة على الدراجة تجربة رائعة\n",
      "arabic_translation1            استكشاف الطبيعة بركوب الدراجة تجربة رائعة\n",
      "Name: 31, dtype: object\n",
      "Similarity Score:0.9664360284805298\n",
      "\n"
     ]
    },
    {
     "name": "stderr",
     "output_type": "stream",
     "text": [
      "Asking to truncate to max_length but no maximum length is provided and the model has no predefined maximum length. Default to no truncation.\n"
     ]
    },
    {
     "name": "stdout",
     "output_type": "stream",
     "text": [
      "32. Cümle çifti:\n",
      "original_sentence      Dondurma yemek serinletici ve lezzetlidir\n",
      "arabic_translation                   تناول الآيس كريم منعش ولذيذ\n",
      "arabic_translation1                  تناول الآيس كريم منعش ولذيذ\n",
      "Name: 32, dtype: object\n",
      "Similarity Score:1.0000001192092896\n",
      "\n"
     ]
    },
    {
     "name": "stderr",
     "output_type": "stream",
     "text": [
      "Asking to truncate to max_length but no maximum length is provided and the model has no predefined maximum length. Default to no truncation.\n"
     ]
    },
    {
     "name": "stdout",
     "output_type": "stream",
     "text": [
      "33. Cümle çifti:\n",
      "original_sentence            Yağmurlu günlerde evde kalın ve kitap okuyun\n",
      "arabic_translation          في الأيام الممطرة، ابق في المنزل واقرأ كتابًا\n",
      "arabic_translation1    في الأيام الممطرة، قراءة كتاب في المنزل تمرّن ممتع\n",
      "Name: 33, dtype: object\n",
      "Similarity Score:0.8552522659301758\n",
      "\n"
     ]
    },
    {
     "name": "stderr",
     "output_type": "stream",
     "text": [
      "Asking to truncate to max_length but no maximum length is provided and the model has no predefined maximum length. Default to no truncation.\n"
     ]
    },
    {
     "name": "stdout",
     "output_type": "stream",
     "text": [
      "34. Cümle çifti:\n",
      "original_sentence      Güneşli bir gün plajda güneşlenmek huzur vericidir\n",
      "arabic_translation           الاستلقاء على الشاطئ في يوم مشمس يمنح الهدوء\n",
      "arabic_translation1         الاستلقاء على الشاطئ في يوم مشمس يعزز السكينة\n",
      "Name: 34, dtype: object\n",
      "Similarity Score:0.9636021852493286\n",
      "\n"
     ]
    },
    {
     "name": "stderr",
     "output_type": "stream",
     "text": [
      "Asking to truncate to max_length but no maximum length is provided and the model has no predefined maximum length. Default to no truncation.\n"
     ]
    },
    {
     "name": "stdout",
     "output_type": "stream",
     "text": [
      "35. Cümle çifti:\n",
      "original_sentence      Güzel bir tabloya bakmak duygusal bir deneyimdir\n",
      "arabic_translation                    النظر إلى لوحة جميلة تجربة عاطفية\n",
      "arabic_translation1                   التحديق في لوحة جميلة تجربة مؤثرة\n",
      "Name: 35, dtype: object\n",
      "Similarity Score:0.8568947315216064\n",
      "\n"
     ]
    },
    {
     "name": "stderr",
     "output_type": "stream",
     "text": [
      "Asking to truncate to max_length but no maximum length is provided and the model has no predefined maximum length. Default to no truncation.\n"
     ]
    },
    {
     "name": "stdout",
     "output_type": "stream",
     "text": [
      "36. Cümle çifti:\n",
      "original_sentence      Tatlı bir şeyler yemek mutluluk getirir\n",
      "arabic_translation                   تناول الحلوى يجلب السعادة\n",
      "arabic_translation1                   تناول الحلوى يعزز البهجة\n",
      "Name: 36, dtype: object\n",
      "Similarity Score:0.9137363433837891\n",
      "\n"
     ]
    },
    {
     "name": "stderr",
     "output_type": "stream",
     "text": [
      "Asking to truncate to max_length but no maximum length is provided and the model has no predefined maximum length. Default to no truncation.\n"
     ]
    },
    {
     "name": "stdout",
     "output_type": "stream",
     "text": [
      "37. Cümle çifti:\n",
      "original_sentence          Doğada kamp yapmak macera dolu ve eğlencelidir\n",
      "arabic_translation                التخييم في الطبيعة مليء بالمغامرة ومسلي\n",
      "arabic_translation1    التخييم في الطبيعة يحمل الكثير من المغامرات والمرح\n",
      "Name: 37, dtype: object\n",
      "Similarity Score:0.8834869861602783\n",
      "\n"
     ]
    },
    {
     "name": "stderr",
     "output_type": "stream",
     "text": [
      "Asking to truncate to max_length but no maximum length is provided and the model has no predefined maximum length. Default to no truncation.\n"
     ]
    },
    {
     "name": "stdout",
     "output_type": "stream",
     "text": [
      "38. Cümle çifti:\n",
      "original_sentence      Bir arkadaşınızla sohbet etmek keyiflidir\n",
      "arabic_translation            الدردشة مع صديق يمكن أن تكون ممتعة\n",
      "arabic_translation1                   الحديث مع صديق يجلب المتعة\n",
      "Name: 38, dtype: object\n",
      "Similarity Score:0.6860679984092712\n",
      "\n"
     ]
    },
    {
     "name": "stderr",
     "output_type": "stream",
     "text": [
      "Asking to truncate to max_length but no maximum length is provided and the model has no predefined maximum length. Default to no truncation.\n"
     ]
    },
    {
     "name": "stdout",
     "output_type": "stream",
     "text": [
      "39. Cümle çifti:\n",
      "original_sentence      Havai fişekler izlemek büyüleyici bir deneyimdir\n",
      "arabic_translation                   مشاهدة الألعاب النارية تجربة ساحرة\n",
      "arabic_translation1                  مشاهدة الألعاب النارية تجربة رائعة\n",
      "Name: 39, dtype: object\n",
      "Similarity Score:0.9359815120697021\n",
      "\n"
     ]
    },
    {
     "name": "stderr",
     "output_type": "stream",
     "text": [
      "Asking to truncate to max_length but no maximum length is provided and the model has no predefined maximum length. Default to no truncation.\n"
     ]
    },
    {
     "name": "stdout",
     "output_type": "stream",
     "text": [
      "40. Cümle çifti:\n",
      "original_sentence                  Güzel bir gün piknik yapmak harikadır\n",
      "arabic_translation     قضاء يوم جميل في نزهة في الهواء الطلق يكون رائعًا\n",
      "arabic_translation1    قضاء يوم جميل في نزهة في الهواء الطلق يكون ممتعًا\n",
      "Name: 40, dtype: object\n",
      "Similarity Score:1.0\n",
      "\n"
     ]
    },
    {
     "name": "stderr",
     "output_type": "stream",
     "text": [
      "Asking to truncate to max_length but no maximum length is provided and the model has no predefined maximum length. Default to no truncation.\n"
     ]
    },
    {
     "name": "stdout",
     "output_type": "stream",
     "text": [
      "41. Cümle çifti:\n",
      "original_sentence      Eski fotoğraflara bakmak anıları canlandırır\n",
      "arabic_translation            النظر إلى الصور القديمة يحيي الذكريات\n",
      "arabic_translation1        الاستمرار في الصور القديمة يجدد الذكريات\n",
      "Name: 41, dtype: object\n",
      "Similarity Score:0.8987376689910889\n",
      "\n"
     ]
    }
   ],
   "source": [
    "camel_list = []\n",
    "for index, row in df.iterrows():\n",
    "    score = camel.get_similarity([row[\"arabic_translation\"],row[\"arabic_translation1\"]])\n",
    "    print(f\"{index}. Cümle çifti:\\n{row}\\nSimilarity Score:{score}\\n\")\n",
    "    camel_list.append(score)"
   ]
  },
  {
   "cell_type": "code",
   "execution_count": null,
   "metadata": {},
   "outputs": [],
   "source": []
  },
  {
   "cell_type": "code",
   "execution_count": null,
   "metadata": {},
   "outputs": [],
   "source": []
  }
 ],
 "metadata": {
  "kernelspec": {
   "display_name": "venv",
   "language": "python",
   "name": "python3"
  },
  "language_info": {
   "codemirror_mode": {
    "name": "ipython",
    "version": 3
   },
   "file_extension": ".py",
   "mimetype": "text/x-python",
   "name": "python",
   "nbconvert_exporter": "python",
   "pygments_lexer": "ipython3",
   "version": "3.8.10"
  },
  "orig_nbformat": 4
 },
 "nbformat": 4,
 "nbformat_minor": 2
}
