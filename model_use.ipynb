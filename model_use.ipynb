{
 "cells": [
  {
   "cell_type": "code",
   "execution_count": 1,
   "metadata": {},
   "outputs": [
    {
     "name": "stderr",
     "output_type": "stream",
     "text": [
      "d:\\work\\AiThinks\\ArabicSimilarity\\venv\\lib\\site-packages\\tqdm\\auto.py:21: TqdmWarning: IProgress not found. Please update jupyter and ipywidgets. See https://ipywidgets.readthedocs.io/en/stable/user_install.html\n",
      "  from .autonotebook import tqdm as notebook_tqdm\n"
     ]
    }
   ],
   "source": [
    "from config import Configurator\n",
    "from arabic_transformer import SentenceTransformer\n",
    "import pandas as pd\n",
    "\n",
    "cfg = Configurator()\n"
   ]
  },
  {
   "cell_type": "markdown",
   "metadata": {},
   "source": [
    "439m"
   ]
  },
  {
   "cell_type": "code",
   "execution_count": 2,
   "metadata": {},
   "outputs": [
    {
     "data": {
      "text/html": [
       "<div>\n",
       "<style scoped>\n",
       "    .dataframe tbody tr th:only-of-type {\n",
       "        vertical-align: middle;\n",
       "    }\n",
       "\n",
       "    .dataframe tbody tr th {\n",
       "        vertical-align: top;\n",
       "    }\n",
       "\n",
       "    .dataframe thead th {\n",
       "        text-align: right;\n",
       "    }\n",
       "</style>\n",
       "<table border=\"1\" class=\"dataframe\">\n",
       "  <thead>\n",
       "    <tr style=\"text-align: right;\">\n",
       "      <th></th>\n",
       "      <th>original_sentence</th>\n",
       "      <th>arabic_translation</th>\n",
       "      <th>arabic_translation1</th>\n",
       "    </tr>\n",
       "  </thead>\n",
       "  <tbody>\n",
       "    <tr>\n",
       "      <th>0</th>\n",
       "      <td>Evde kitap okumak keyifli ve huzur verici</td>\n",
       "      <td>القراءة في المنزل ممتعة ومطمئنة</td>\n",
       "      <td>القراءة في المنزل مسلية ومطمئنة</td>\n",
       "    </tr>\n",
       "    <tr>\n",
       "      <th>1</th>\n",
       "      <td>Yemek pişirmek eğlenceli ve lezzetli</td>\n",
       "      <td>طهي الطعام ممتع ولذيذ</td>\n",
       "      <td>طهي الطعام مسلي ولذيذ</td>\n",
       "    </tr>\n",
       "    <tr>\n",
       "      <th>2</th>\n",
       "      <td>Müzik dinlemek ruhumu dinlendiriyor</td>\n",
       "      <td>الاستماع إلى الموسيقى يريح روحي</td>\n",
       "      <td>الاستماع إلى الموسيقى يهدئ روحي</td>\n",
       "    </tr>\n",
       "    <tr>\n",
       "      <th>3</th>\n",
       "      <td>Resim yapmak rahatlatıcı ve yaratıcı</td>\n",
       "      <td>الرسم مريح ومبدع</td>\n",
       "      <td>الرسم مهدئ ومبدع</td>\n",
       "    </tr>\n",
       "    <tr>\n",
       "      <th>4</th>\n",
       "      <td>Bahçede zaman geçirmek huzur verici</td>\n",
       "      <td>قضاء الوقت في الحديقة مطمئن</td>\n",
       "      <td>قضاء الوقت في الحديقة ممتع</td>\n",
       "    </tr>\n",
       "    <tr>\n",
       "      <th>5</th>\n",
       "      <td>Yoga yapmak enerji veriyor ve huzur getiriyor</td>\n",
       "      <td>ممارسة اليوغا تمنح الطاقة وتجلب الهدوء</td>\n",
       "      <td>ممارسة اليوغا تزودك بالطاقة وتجلب السكينة</td>\n",
       "    </tr>\n",
       "    <tr>\n",
       "      <th>6</th>\n",
       "      <td>Deniz kenarında dinlenmek huzur verici</td>\n",
       "      <td>الاسترخاء على شاطئ البحر مطمئن</td>\n",
       "      <td>الاسترخاء على شاطئ البحر ممتع</td>\n",
       "    </tr>\n",
       "    <tr>\n",
       "      <th>7</th>\n",
       "      <td>Farklı kültürleri keşfetmek ilgi çekici ve eğitici</td>\n",
       "      <td>اكتشاف ثقافات مختلفة مثير وتعليمي</td>\n",
       "      <td>استكشاف ثقافات متنوعة مثير وتعليمي</td>\n",
       "    </tr>\n",
       "    <tr>\n",
       "      <th>8</th>\n",
       "      <td>Dağlarda yürümek enerji veriyor ve huzur getiriyor</td>\n",
       "      <td>المشي في الجبال يمنح الطاقة ويجلب الهدوء</td>\n",
       "      <td>المشي في الجبال يزودك بالطاقة ويجلب السكينة</td>\n",
       "    </tr>\n",
       "    <tr>\n",
       "      <th>9</th>\n",
       "      <td>Farklı lezzetleri denemek eğlenceli ve lezzetli</td>\n",
       "      <td>تجربة نكهات مختلفة ممتعة ولذيذة</td>\n",
       "      <td>تجربة نكهات مختلفة مسلية ولذيذة</td>\n",
       "    </tr>\n",
       "  </tbody>\n",
       "</table>\n",
       "</div>"
      ],
      "text/plain": [
       "                                    original_sentence  \\\n",
       "0           Evde kitap okumak keyifli ve huzur verici   \n",
       "1                Yemek pişirmek eğlenceli ve lezzetli   \n",
       "2                 Müzik dinlemek ruhumu dinlendiriyor   \n",
       "3                Resim yapmak rahatlatıcı ve yaratıcı   \n",
       "4                 Bahçede zaman geçirmek huzur verici   \n",
       "5       Yoga yapmak enerji veriyor ve huzur getiriyor   \n",
       "6              Deniz kenarında dinlenmek huzur verici   \n",
       "7  Farklı kültürleri keşfetmek ilgi çekici ve eğitici   \n",
       "8  Dağlarda yürümek enerji veriyor ve huzur getiriyor   \n",
       "9     Farklı lezzetleri denemek eğlenceli ve lezzetli   \n",
       "\n",
       "                         arabic_translation  \\\n",
       "0           القراءة في المنزل ممتعة ومطمئنة   \n",
       "1                     طهي الطعام ممتع ولذيذ   \n",
       "2           الاستماع إلى الموسيقى يريح روحي   \n",
       "3                          الرسم مريح ومبدع   \n",
       "4               قضاء الوقت في الحديقة مطمئن   \n",
       "5    ممارسة اليوغا تمنح الطاقة وتجلب الهدوء   \n",
       "6            الاسترخاء على شاطئ البحر مطمئن   \n",
       "7         اكتشاف ثقافات مختلفة مثير وتعليمي   \n",
       "8  المشي في الجبال يمنح الطاقة ويجلب الهدوء   \n",
       "9           تجربة نكهات مختلفة ممتعة ولذيذة   \n",
       "\n",
       "                           arabic_translation1  \n",
       "0              القراءة في المنزل مسلية ومطمئنة  \n",
       "1                        طهي الطعام مسلي ولذيذ  \n",
       "2              الاستماع إلى الموسيقى يهدئ روحي  \n",
       "3                             الرسم مهدئ ومبدع  \n",
       "4                   قضاء الوقت في الحديقة ممتع  \n",
       "5    ممارسة اليوغا تزودك بالطاقة وتجلب السكينة  \n",
       "6                الاسترخاء على شاطئ البحر ممتع  \n",
       "7           استكشاف ثقافات متنوعة مثير وتعليمي  \n",
       "8  المشي في الجبال يزودك بالطاقة ويجلب السكينة  \n",
       "9              تجربة نكهات مختلفة مسلية ولذيذة  "
      ]
     },
     "execution_count": 2,
     "metadata": {},
     "output_type": "execute_result"
    }
   ],
   "source": [
    "pd.set_option('display.max_colwidth', None)\n",
    "df = pd.DataFrame(cfg.data[\"sentences\"])\n",
    "df"
   ]
  },
  {
   "cell_type": "markdown",
   "metadata": {},
   "source": [
    "### bert-base-arabic-camelbert-msa"
   ]
  },
  {
   "cell_type": "code",
   "execution_count": 3,
   "metadata": {},
   "outputs": [],
   "source": [
    "camel = SentenceTransformer('CAMeL-Lab/bert-base-arabic-camelbert-msa')"
   ]
  },
  {
   "cell_type": "code",
   "execution_count": 6,
   "metadata": {},
   "outputs": [
    {
     "name": "stderr",
     "output_type": "stream",
     "text": [
      "Asking to truncate to max_length but no maximum length is provided and the model has no predefined maximum length. Default to no truncation.\n"
     ]
    },
    {
     "data": {
      "text/plain": [
       "0.56330144"
      ]
     },
     "execution_count": 6,
     "metadata": {},
     "output_type": "execute_result"
    }
   ],
   "source": [
    "camel.get_similarity(sentences=[\"طهي الطعام ممتع ولذيذ\",\"القراءة في المنزل ممتعة ومطمئنة\"])\n"
   ]
  },
  {
   "cell_type": "code",
   "execution_count": 4,
   "metadata": {},
   "outputs": [
    {
     "name": "stderr",
     "output_type": "stream",
     "text": [
      "Asking to truncate to max_length but no maximum length is provided and the model has no predefined maximum length. Default to no truncation.\n"
     ]
    },
    {
     "name": "stdout",
     "output_type": "stream",
     "text": [
      "0. Cümle çifti:\n",
      "original_sentence      Evde kitap okumak keyifli ve huzur verici\n",
      "arabic_translation               القراءة في المنزل ممتعة ومطمئنة\n",
      "arabic_translation1              القراءة في المنزل مسلية ومطمئنة\n",
      "Name: 0, dtype: object\n",
      "Similarity Score:1.000000238418579\n",
      "\n"
     ]
    },
    {
     "name": "stderr",
     "output_type": "stream",
     "text": [
      "Asking to truncate to max_length but no maximum length is provided and the model has no predefined maximum length. Default to no truncation.\n"
     ]
    },
    {
     "name": "stdout",
     "output_type": "stream",
     "text": [
      "1. Cümle çifti:\n",
      "original_sentence      Yemek pişirmek eğlenceli ve lezzetli\n",
      "arabic_translation                    طهي الطعام ممتع ولذيذ\n",
      "arabic_translation1                   طهي الطعام مسلي ولذيذ\n",
      "Name: 1, dtype: object\n",
      "Similarity Score:0.9999998807907104\n",
      "\n"
     ]
    },
    {
     "name": "stderr",
     "output_type": "stream",
     "text": [
      "Asking to truncate to max_length but no maximum length is provided and the model has no predefined maximum length. Default to no truncation.\n"
     ]
    },
    {
     "name": "stdout",
     "output_type": "stream",
     "text": [
      "2. Cümle çifti:\n",
      "original_sentence      Müzik dinlemek ruhumu dinlendiriyor\n",
      "arabic_translation         الاستماع إلى الموسيقى يريح روحي\n",
      "arabic_translation1        الاستماع إلى الموسيقى يهدئ روحي\n",
      "Name: 2, dtype: object\n",
      "Similarity Score:1.0000001192092896\n",
      "\n"
     ]
    },
    {
     "name": "stderr",
     "output_type": "stream",
     "text": [
      "Asking to truncate to max_length but no maximum length is provided and the model has no predefined maximum length. Default to no truncation.\n"
     ]
    },
    {
     "name": "stdout",
     "output_type": "stream",
     "text": [
      "3. Cümle çifti:\n",
      "original_sentence      Resim yapmak rahatlatıcı ve yaratıcı\n",
      "arabic_translation                         الرسم مريح ومبدع\n",
      "arabic_translation1                        الرسم مهدئ ومبدع\n",
      "Name: 3, dtype: object\n",
      "Similarity Score:1.000000238418579\n",
      "\n"
     ]
    },
    {
     "name": "stderr",
     "output_type": "stream",
     "text": [
      "Asking to truncate to max_length but no maximum length is provided and the model has no predefined maximum length. Default to no truncation.\n"
     ]
    },
    {
     "name": "stdout",
     "output_type": "stream",
     "text": [
      "4. Cümle çifti:\n",
      "original_sentence      Bahçede zaman geçirmek huzur verici\n",
      "arabic_translation             قضاء الوقت في الحديقة مطمئن\n",
      "arabic_translation1             قضاء الوقت في الحديقة ممتع\n",
      "Name: 4, dtype: object\n",
      "Similarity Score:1.000000238418579\n",
      "\n"
     ]
    },
    {
     "name": "stderr",
     "output_type": "stream",
     "text": [
      "Asking to truncate to max_length but no maximum length is provided and the model has no predefined maximum length. Default to no truncation.\n"
     ]
    },
    {
     "name": "stdout",
     "output_type": "stream",
     "text": [
      "5. Cümle çifti:\n",
      "original_sentence      Yoga yapmak enerji veriyor ve huzur getiriyor\n",
      "arabic_translation            ممارسة اليوغا تمنح الطاقة وتجلب الهدوء\n",
      "arabic_translation1        ممارسة اليوغا تزودك بالطاقة وتجلب السكينة\n",
      "Name: 5, dtype: object\n",
      "Similarity Score:0.9999998807907104\n",
      "\n"
     ]
    },
    {
     "name": "stderr",
     "output_type": "stream",
     "text": [
      "Asking to truncate to max_length but no maximum length is provided and the model has no predefined maximum length. Default to no truncation.\n"
     ]
    },
    {
     "name": "stdout",
     "output_type": "stream",
     "text": [
      "6. Cümle çifti:\n",
      "original_sentence      Deniz kenarında dinlenmek huzur verici\n",
      "arabic_translation             الاسترخاء على شاطئ البحر مطمئن\n",
      "arabic_translation1             الاسترخاء على شاطئ البحر ممتع\n",
      "Name: 6, dtype: object\n",
      "Similarity Score:0.9999998807907104\n",
      "\n"
     ]
    },
    {
     "name": "stderr",
     "output_type": "stream",
     "text": [
      "Asking to truncate to max_length but no maximum length is provided and the model has no predefined maximum length. Default to no truncation.\n"
     ]
    },
    {
     "name": "stdout",
     "output_type": "stream",
     "text": [
      "7. Cümle çifti:\n",
      "original_sentence      Farklı kültürleri keşfetmek ilgi çekici ve eğitici\n",
      "arabic_translation                      اكتشاف ثقافات مختلفة مثير وتعليمي\n",
      "arabic_translation1                    استكشاف ثقافات متنوعة مثير وتعليمي\n",
      "Name: 7, dtype: object\n",
      "Similarity Score:1.000000238418579\n",
      "\n"
     ]
    },
    {
     "name": "stderr",
     "output_type": "stream",
     "text": [
      "Asking to truncate to max_length but no maximum length is provided and the model has no predefined maximum length. Default to no truncation.\n"
     ]
    },
    {
     "name": "stdout",
     "output_type": "stream",
     "text": [
      "8. Cümle çifti:\n",
      "original_sentence      Dağlarda yürümek enerji veriyor ve huzur getiriyor\n",
      "arabic_translation               المشي في الجبال يمنح الطاقة ويجلب الهدوء\n",
      "arabic_translation1           المشي في الجبال يزودك بالطاقة ويجلب السكينة\n",
      "Name: 8, dtype: object\n",
      "Similarity Score:1.0\n",
      "\n"
     ]
    },
    {
     "name": "stderr",
     "output_type": "stream",
     "text": [
      "Asking to truncate to max_length but no maximum length is provided and the model has no predefined maximum length. Default to no truncation.\n"
     ]
    },
    {
     "name": "stdout",
     "output_type": "stream",
     "text": [
      "9. Cümle çifti:\n",
      "original_sentence      Farklı lezzetleri denemek eğlenceli ve lezzetli\n",
      "arabic_translation                     تجربة نكهات مختلفة ممتعة ولذيذة\n",
      "arabic_translation1                    تجربة نكهات مختلفة مسلية ولذيذة\n",
      "Name: 9, dtype: object\n",
      "Similarity Score:1.0000001192092896\n",
      "\n"
     ]
    }
   ],
   "source": [
    "camel_list = []\n",
    "for index, row in df.iterrows():\n",
    "    score = camel.get_similarity([row[\"arabic_translation\"],row[\"arabic_translation\"]])\n",
    "    print(f\"{index}. Cümle çifti:\\n{row}\\nSimilarity Score:{score}\\n\")\n",
    "    camel_list.append(score)"
   ]
  }
 ],
 "metadata": {
  "kernelspec": {
   "display_name": "venv",
   "language": "python",
   "name": "python3"
  },
  "language_info": {
   "codemirror_mode": {
    "name": "ipython",
    "version": 3
   },
   "file_extension": ".py",
   "mimetype": "text/x-python",
   "name": "python",
   "nbconvert_exporter": "python",
   "pygments_lexer": "ipython3",
   "version": "3.8.10"
  },
  "orig_nbformat": 4
 },
 "nbformat": 4,
 "nbformat_minor": 2
}
